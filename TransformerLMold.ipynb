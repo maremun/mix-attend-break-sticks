{
 "cells": [
  {
   "cell_type": "markdown",
   "metadata": {},
   "source": [
    "Revised and fixed code from https://github.com/JayParks/transformer (MT) for LM"
   ]
  },
  {
   "cell_type": "markdown",
   "metadata": {},
   "source": [
    "Stripped the code from the JayParks repo for MT Transformer. Introduced a few updates and changes for speed, but it's still frustratingly slow. Possible improvement - speed it up.\n",
    "\n",
    "Another issue - hyperparameter search for language modelling (number of heads, number of self-attention layers, etc). Does not work well from the box. This might be of help https://arxiv.org/pdf/1804.00247.pdf.\n",
    "\n",
    "Also consider parallelizing."
   ]
  },
  {
   "cell_type": "markdown",
   "metadata": {},
   "source": [
    "# TODO\n",
    "\n",
    "* Speed up\n",
    "* Tune hyperparams (now it's diverging)\n",
    "* Add MoS"
   ]
  },
  {
   "cell_type": "code",
   "execution_count": null,
   "metadata": {},
   "outputs": [],
   "source": [
    "import os\n",
    "os.environ[\"CUDA_DEVICE_ORDER\"]=\"PCI_BUS_ID\"\n",
    "# os.environ[\"CUDA_VISIBLE_DEVICES\"]=\"4\""
   ]
  },
  {
   "cell_type": "code",
   "execution_count": null,
   "metadata": {},
   "outputs": [],
   "source": [
    "import numpy as np\n",
    "import matplotlib.pyplot as plt\n",
    "%matplotlib inline\n",
    "from tqdm import tqdm\n",
    "\n",
    "import torch\n",
    "torch.cuda.device(0)\n",
    "import torch.nn as nn\n",
    "import torch.optim as optim\n",
    "\n",
    "from torch.nn.utils.rnn import pack_padded_sequence as pack\n",
    "from torch.nn.utils.rnn import pad_packed_sequence as pad\n",
    "from torch.nn.utils import clip_grad_norm_ as clip\n",
    "from torch.optim.lr_scheduler import StepLR\n",
    "\n",
    "import const\n",
    "from data import *\n",
    "from transformer import *"
   ]
  },
  {
   "cell_type": "code",
   "execution_count": null,
   "metadata": {},
   "outputs": [],
   "source": [
    "ptb_datapath_train = 'data/penn/train.txt'\n",
    "ptb_datapath_valid = 'data/penn/valid.txt'\n",
    "ptb_datapath_test = 'data/penn/test.txt'\n",
    "\n",
    "batch_size = 128\n",
    "\n",
    "ptb_train = DataSet(ptb_datapath_train, batch_size, display_freq=0, max_len=90, trunc_len=90)\n",
    "ptb_valid = DataSet(ptb_datapath_valid, batch_size, display_freq=0, max_len=90, trunc_len=90)\n",
    "ptb_test = DataSet(ptb_datapath_test, batch_size, display_freq=0, max_len=90, trunc_len=90)"
   ]
  },
  {
   "cell_type": "code",
   "execution_count": null,
   "metadata": {},
   "outputs": [],
   "source": [
    "ptb_train.build_dict()\n",
    "ptb_valid.change_dict(ptb_train.dictionary)\n",
    "ptb_test.change_dict(ptb_train.dictionary)"
   ]
  },
  {
   "cell_type": "code",
   "execution_count": null,
   "metadata": {},
   "outputs": [],
   "source": [
    "############ Optional: get data by tokens ###############\n",
    "corpus = Corpus('data/penn')\n",
    "eval_batch_size = 10\n",
    "test_batch_size = 1\n",
    "batch_size = 64\n",
    "train_data = batchify(corpus.train, batch_size)\n",
    "val_data = batchify(corpus.valid, eval_batch_size)\n",
    "test_data = batchify(corpus.test, test_batch_size)\n",
    "\n",
    "#### how to take a batch ####\n",
    "# the data is already splitten into batch_size(now we need to decide about seq length)\n",
    "batch_num = 2\n",
    "batch = get_batch(train_data, batch_num, seq_len=35)\n",
    "\n",
    "\n",
    "#### TODO (if needed) ###\n",
    "# 1) repackage hiddens for learning by tokens\n",
    "# 2) learn not every step (depends on 1st point)\n",
    "# 3) add grad clipping"
   ]
  },
  {
   "cell_type": "code",
   "execution_count": null,
   "metadata": {},
   "outputs": [],
   "source": [
    "voc_size = ptb_train.num_vocb\n",
    "emb_dim = 1024\n",
    "d_k = 64\n",
    "d_v = 64\n",
    "n_layers = 2\n",
    "n_heads = 4\n",
    "d_ff = 2048\n",
    "max_tgt_seq_len = 90\n",
    "dropout = 0.1\n",
    "weighted_model = False\n",
    "share_proj_weight = True\n",
    "lr = 1e-6\n",
    "n_epochs = 30\n",
    "clip_grad = 5\n",
    "warmup_steps = 3000"
   ]
  },
  {
   "cell_type": "code",
   "execution_count": null,
   "metadata": {},
   "outputs": [],
   "source": [
    "model = LMTransformer(n_layers, d_k, d_v, emb_dim, d_ff,\n",
    "                      n_heads, max_tgt_seq_len, voc_size,\n",
    "                      dropout, weighted_model, share_proj_weight)\n",
    "criterion = nn.CrossEntropyLoss(ignore_index=const.PAD)\n",
    "\n",
    "if torch.cuda.is_available():\n",
    "    model = model.cuda()\n",
    "    criterion = criterion.cuda()\n",
    "\n",
    "#opt = optim.Adam(model.trainable_params(), lr=lr)\n",
    "# lr_lambda = lambda epoch: 0.99 ** epoch\n",
    "#lrsched = StepLR(opt, step_size=10, gamma=0.5)"
   ]
  },
  {
   "cell_type": "code",
   "execution_count": null,
   "metadata": {
    "scrolled": false
   },
   "outputs": [],
   "source": [
    "opt = optim.Adam(model.trainable_params(),betas=(0.9, 0.98), eps=1e-09, lr=lr)\n",
    "i=0\n",
    "for epoch in range(n_epochs):   \n",
    "    acc_loss = 0\n",
    "    print('Start epoch %d, learning rate %f '%(epoch + 1, opt.state_dict()['param_groups'][0]['lr']))\n",
    "    start_time = time.time()\n",
    "    model.train()\n",
    "    ptb_train.shuffle_epoch()\n",
    "    for group_id in range(len(ptb_train.groups)):\n",
    "        for batch_idx in tqdm(range(ptb_train.num_batches[group_id]), unit='batches'):\n",
    "            data, lengths, target = ptb_train.get_batch_new(batch_idx, group_id)\n",
    "\n",
    "            opt.zero_grad()\n",
    "            output, self_attn = model.forward(data, lengths)\n",
    "            loss = criterion(output, target.view(-1))\n",
    "            loss.backward()\n",
    "            opt.step()\n",
    "            acc_loss += loss.item()\n",
    "            i+=1\n",
    "            new_lr = np.power(emb_dim, -0.5) * np.min([\n",
    "                np.power((i), -0.5),\n",
    "                np.power(warmup_steps, -1.5) * (i)])\n",
    "            for param_group in opt.param_groups:\n",
    "                param_group['lr'] = new_lr\n",
    "        \n",
    "    avg_loss = acc_loss / ptb_train.num_batch\n",
    "    print('Epoch : %d, Batch : %d / %d, Loss : %f, Perplexity : %f, Time : %f' \n",
    "          % (epoch + 1, batch_idx, ptb_train.num_batch,\n",
    "             avg_loss, math.exp(avg_loss),\n",
    "             time.time() - start_time))\n",
    "\n",
    "    acc_loss = 0\n",
    "    model.eval()\n",
    "    for batch_idx in tqdm(range(ptb_test.num_batch), unit='batches'):\n",
    "        data, lengths, target = ptb_test[batch_idx]\n",
    "        output, self_attn = model.forward(data, lengths)\n",
    "        loss = criterion(output, target.view(-1))\n",
    "        acc_loss += loss.item()\n",
    "\n",
    "    val_loss = acc_loss / ptb_test.num_batch\n",
    "    print('Validation Loss : %f' % val_loss)\n",
    "    print('Validation Perplexity : %f' % math.exp(val_loss))"
   ]
  },
  {
   "cell_type": "code",
   "execution_count": null,
   "metadata": {},
   "outputs": [],
   "source": []
  }
 ],
 "metadata": {
  "kernelspec": {
   "display_name": "Python 3",
   "language": "python",
   "name": "python3"
  },
  "language_info": {
   "codemirror_mode": {
    "name": "ipython",
    "version": 3
   },
   "file_extension": ".py",
   "mimetype": "text/x-python",
   "name": "python",
   "nbconvert_exporter": "python",
   "pygments_lexer": "ipython3",
   "version": "3.6.5"
  }
 },
 "nbformat": 4,
 "nbformat_minor": 2
}
