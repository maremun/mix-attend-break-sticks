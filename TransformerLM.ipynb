{
 "cells": [
  {
   "cell_type": "markdown",
   "metadata": {},
   "source": [
    "Revised and fixed code from https://github.com/JayParks/transformer (MT) for LM"
   ]
  },
  {
   "cell_type": "markdown",
   "metadata": {},
   "source": [
    "Stripped the code from the JayParks repo for MT Transformer. Introduced a few updates and changes for speed, but it's still frustratingly slow. Possible improvement - speed it up.\n",
    "\n",
    "Another issue - hyperparameter search for language modelling (number of heads, number of self-attention layers, etc). Does not work well from the box. This might be of help https://arxiv.org/pdf/1804.00247.pdf.\n",
    "\n",
    "Also consider parallelizing."
   ]
  },
  {
   "cell_type": "markdown",
   "metadata": {},
   "source": [
    "# TODO\n",
    "\n",
    "* Speed up\n",
    "* Tune hyperparams (now it's diverging)\n",
    "* Add MoS"
   ]
  },
  {
   "cell_type": "code",
   "execution_count": 1,
   "metadata": {},
   "outputs": [],
   "source": [
    "import os\n",
    "os.environ[\"CUDA_DEVICE_ORDER\"]=\"PCI_BUS_ID\"\n",
    "# os.environ[\"CUDA_VISIBLE_DEVICES\"]=\"4\""
   ]
  },
  {
   "cell_type": "code",
   "execution_count": 2,
   "metadata": {},
   "outputs": [],
   "source": [
    "import numpy as np\n",
    "import matplotlib.pyplot as plt\n",
    "%matplotlib inline\n",
    "from tqdm import tqdm\n",
    "\n",
    "import torch\n",
    "torch.cuda.device(0)\n",
    "import torch.nn as nn\n",
    "import torch.optim as optim\n",
    "\n",
    "from torch.nn.utils.rnn import pack_padded_sequence as pack\n",
    "from torch.nn.utils.rnn import pad_packed_sequence as pad\n",
    "from torch.nn.utils import clip_grad_norm_ as clip\n",
    "from torch.optim.lr_scheduler import StepLR\n",
    "\n",
    "import const\n",
    "from data import *\n",
    "from transformer import *"
   ]
  },
  {
   "cell_type": "code",
   "execution_count": 3,
   "metadata": {},
   "outputs": [
    {
     "name": "stdout",
     "output_type": "stream",
     "text": [
      "=========================================================================================\n",
      "Loading data from data/penn/train.txt ...\n",
      "=========================================================================================\n",
      "Loading data from data/penn/valid.txt ...\n",
      "=========================================================================================\n",
      "Loading data from data/penn/test.txt ...\n"
     ]
    }
   ],
   "source": [
    "ptb_datapath_train = 'data/penn/train.txt'\n",
    "ptb_datapath_valid = 'data/penn/valid.txt'\n",
    "ptb_datapath_test = 'data/penn/test.txt'\n",
    "\n",
    "batch_size = 128\n",
    "\n",
    "ptb_train = DataSet(ptb_datapath_train, batch_size, display_freq=0, max_len=90, trunc_len=90)\n",
    "ptb_valid = DataSet(ptb_datapath_valid, batch_size, display_freq=0, max_len=90, trunc_len=90)\n",
    "ptb_test = DataSet(ptb_datapath_test, batch_size, display_freq=0, max_len=90, trunc_len=90)"
   ]
  },
  {
   "cell_type": "code",
   "execution_count": 4,
   "metadata": {},
   "outputs": [
    {
     "name": "stdout",
     "output_type": "stream",
     "text": [
      "Building dictionary...\n",
      "Done.\n",
      "Save dictionary at data/penn/train.txt.dict\n",
      "Index tokens ...\n",
      "42068 sentences were processed, 0 longer than maximum length,0 were ignored because zero length\n",
      "=========================================================================================\n",
      "Data discription:\n",
      "Data name : data/penn/train.txt\n",
      "Number of sentence : 42068\n",
      "Number of tokens : 887521\n",
      "Vocabulary size : 10000\n",
      "Number of batches : 328\n",
      "Batch size : 128\n",
      "Done.\n",
      "Index tokens ...\n",
      "3370 sentences were processed, 0 longer than maximum length,0 were ignored because zero length\n",
      "=========================================================================================\n",
      "Data discription:\n",
      "Data name : data/penn/valid.txt\n",
      "Number of sentence : 3370\n",
      "Number of tokens : 70390\n",
      "Vocabulary size : 10000\n",
      "Number of batches : 26\n",
      "Batch size : 128\n",
      "Done.\n",
      "Index tokens ...\n",
      "3761 sentences were processed, 0 longer than maximum length,0 were ignored because zero length\n",
      "=========================================================================================\n",
      "Data discription:\n",
      "Data name : data/penn/test.txt\n",
      "Number of sentence : 3761\n",
      "Number of tokens : 78669\n",
      "Vocabulary size : 10000\n",
      "Number of batches : 29\n",
      "Batch size : 128\n",
      "Done.\n"
     ]
    }
   ],
   "source": [
    "ptb_train.build_dict()\n",
    "ptb_valid.change_dict(ptb_train.dictionary)\n",
    "ptb_test.change_dict(ptb_train.dictionary)"
   ]
  },
  {
   "cell_type": "code",
   "execution_count": 5,
   "metadata": {},
   "outputs": [
    {
     "name": "stdout",
     "output_type": "stream",
     "text": [
      "torch.Size([7262, 128])\n",
      "torch.Size([7376, 10])\n",
      "torch.Size([82430, 1])\n"
     ]
    }
   ],
   "source": [
    "############ Optional: get data by tokens ###############\n",
    "corpus = Corpus('data/penn')\n",
    "eval_batch_size = 10\n",
    "test_batch_size = 1\n",
    "batch_size = 128\n",
    "train_data = batchify(corpus.train, batch_size)\n",
    "val_data = batchify(corpus.valid, eval_batch_size)\n",
    "test_data = batchify(corpus.test, test_batch_size)\n",
    "\n",
    "#### how to take a batch ####\n",
    "# the data is already splitten into batch_size(now we need to decide about seq length)\n",
    "batch_num = 2\n",
    "batch = get_batch(train_data, batch_num, seq_len=35)\n",
    "\n",
    "\n",
    "#### TODO (if needed) ###\n",
    "# 1) repackage hiddens for learning by tokens\n",
    "# 2) learn not every step (depends on 1st point)\n",
    "# 3) add grad clipping"
   ]
  },
  {
   "cell_type": "code",
   "execution_count": 6,
   "metadata": {},
   "outputs": [],
   "source": [
    "voc_size = ptb_train.num_vocb\n",
    "emb_dim = 512\n",
    "d_k = 64\n",
    "d_v = 64\n",
    "n_layers = 2\n",
    "n_heads = 4\n",
    "d_ff = 2048\n",
    "max_tgt_seq_len = 90\n",
    "dropout = 0.1\n",
    "weighted_model = False\n",
    "share_proj_weight = True\n",
    "lr = 1e-6\n",
    "n_epochs = 10\n",
    "clip_grad = 5\n",
    "warmup_steps = 2000"
   ]
  },
  {
   "cell_type": "code",
   "execution_count": 7,
   "metadata": {},
   "outputs": [
    {
     "name": "stdout",
     "output_type": "stream",
     "text": [
      "Sharing target embedding and projection..\n"
     ]
    }
   ],
   "source": [
    "model = LMTransformer(n_layers, d_k, d_v, emb_dim, d_ff,\n",
    "                      n_heads, max_tgt_seq_len, voc_size,\n",
    "                      dropout, weighted_model, share_proj_weight)\n",
    "criterion = nn.CrossEntropyLoss(ignore_index=const.PAD)\n",
    "\n",
    "if torch.cuda.is_available():\n",
    "    model = model.cuda()\n",
    "    criterion = criterion.cuda()\n",
    "\n",
    "#opt = optim.Adam(model.trainable_params(), lr=lr)\n",
    "# lr_lambda = lambda epoch: 0.99 ** epoch\n",
    "#lrsched = StepLR(opt, step_size=10, gamma=0.5)"
   ]
  },
  {
   "cell_type": "code",
   "execution_count": 8,
   "metadata": {},
   "outputs": [
    {
     "data": {
      "text/plain": [
       "True"
      ]
     },
     "execution_count": 8,
     "metadata": {},
     "output_type": "execute_result"
    }
   ],
   "source": [
    "torch.cuda.is_available()"
   ]
  },
  {
   "cell_type": "code",
   "execution_count": 9,
   "metadata": {
    "scrolled": false
   },
   "outputs": [
    {
     "name": "stderr",
     "output_type": "stream",
     "text": [
      "\r",
      "  0%|          | 0/328 [00:00<?, ?batches/s]"
     ]
    },
    {
     "name": "stdout",
     "output_type": "stream",
     "text": [
      "Start epoch 1, learning rate 0.000001 \n",
      "2\n"
     ]
    },
    {
     "name": "stderr",
     "output_type": "stream",
     "text": [
      "100%|██████████| 328/328 [00:40<00:00,  8.12batches/s]\n",
      "  7%|▋         | 2/29 [00:00<00:01, 16.72batches/s]"
     ]
    },
    {
     "name": "stdout",
     "output_type": "stream",
     "text": [
      "Epoch : 1, Batch : 327 / 328, Loss : 7.083226, Perplexity : 1191.807269, Time : 40.480996\n"
     ]
    },
    {
     "name": "stderr",
     "output_type": "stream",
     "text": [
      "100%|██████████| 29/29 [00:01<00:00, 18.50batches/s]\n",
      "  0%|          | 1/328 [00:00<00:37,  8.80batches/s]"
     ]
    },
    {
     "name": "stdout",
     "output_type": "stream",
     "text": [
      "Validation Loss : 5.930350\n",
      "Validation Perplexity : 376.286262\n",
      "Start epoch 2, learning rate 0.000162 \n",
      "2\n"
     ]
    },
    {
     "name": "stderr",
     "output_type": "stream",
     "text": [
      "100%|██████████| 328/328 [00:40<00:00,  8.16batches/s]\n",
      "  7%|▋         | 2/29 [00:00<00:01, 17.07batches/s]"
     ]
    },
    {
     "name": "stdout",
     "output_type": "stream",
     "text": [
      "Epoch : 2, Batch : 327 / 328, Loss : 5.664921, Perplexity : 288.565326, Time : 40.266509\n"
     ]
    },
    {
     "name": "stderr",
     "output_type": "stream",
     "text": [
      "100%|██████████| 29/29 [00:01<00:00, 17.71batches/s]\n",
      "  0%|          | 1/328 [00:00<00:39,  8.18batches/s]"
     ]
    },
    {
     "name": "stdout",
     "output_type": "stream",
     "text": [
      "Validation Loss : 5.358341\n",
      "Validation Perplexity : 212.372231\n",
      "Start epoch 3, learning rate 0.000324 \n",
      "2\n"
     ]
    },
    {
     "name": "stderr",
     "output_type": "stream",
     "text": [
      "100%|██████████| 328/328 [00:40<00:00,  8.19batches/s]\n",
      "  7%|▋         | 2/29 [00:00<00:01, 16.49batches/s]"
     ]
    },
    {
     "name": "stdout",
     "output_type": "stream",
     "text": [
      "Epoch : 3, Batch : 327 / 328, Loss : 5.199912, Perplexity : 181.256210, Time : 40.095078\n"
     ]
    },
    {
     "name": "stderr",
     "output_type": "stream",
     "text": [
      "100%|██████████| 29/29 [00:01<00:00, 19.23batches/s]\n",
      "  0%|          | 1/328 [00:00<00:38,  8.52batches/s]"
     ]
    },
    {
     "name": "stdout",
     "output_type": "stream",
     "text": [
      "Validation Loss : 5.111100\n",
      "Validation Perplexity : 165.852742\n",
      "Start epoch 4, learning rate 0.000486 \n",
      "2\n"
     ]
    },
    {
     "name": "stderr",
     "output_type": "stream",
     "text": [
      "100%|██████████| 328/328 [00:39<00:00,  8.24batches/s]\n",
      "  7%|▋         | 2/29 [00:00<00:01, 15.20batches/s]"
     ]
    },
    {
     "name": "stdout",
     "output_type": "stream",
     "text": [
      "Epoch : 4, Batch : 327 / 328, Loss : 4.897650, Perplexity : 133.974540, Time : 39.823247\n"
     ]
    },
    {
     "name": "stderr",
     "output_type": "stream",
     "text": [
      "100%|██████████| 29/29 [00:01<00:00, 18.52batches/s]\n",
      "  0%|          | 1/328 [00:00<00:36,  8.90batches/s]"
     ]
    },
    {
     "name": "stdout",
     "output_type": "stream",
     "text": [
      "Validation Loss : 4.953933\n",
      "Validation Perplexity : 141.731328\n",
      "Start epoch 5, learning rate 0.000648 \n",
      "2\n"
     ]
    },
    {
     "name": "stderr",
     "output_type": "stream",
     "text": [
      "100%|██████████| 328/328 [00:39<00:00,  8.24batches/s]\n",
      "  7%|▋         | 2/29 [00:00<00:01, 17.19batches/s]"
     ]
    },
    {
     "name": "stdout",
     "output_type": "stream",
     "text": [
      "Epoch : 5, Batch : 327 / 328, Loss : 4.667583, Perplexity : 106.440218, Time : 39.824336\n"
     ]
    },
    {
     "name": "stderr",
     "output_type": "stream",
     "text": [
      "100%|██████████| 29/29 [00:01<00:00, 20.39batches/s]\n",
      "  0%|          | 1/328 [00:00<00:42,  7.72batches/s]"
     ]
    },
    {
     "name": "stdout",
     "output_type": "stream",
     "text": [
      "Validation Loss : 4.876707\n",
      "Validation Perplexity : 131.197856\n",
      "Start epoch 6, learning rate 0.000810 \n",
      "2\n"
     ]
    },
    {
     "name": "stderr",
     "output_type": "stream",
     "text": [
      "100%|██████████| 328/328 [00:40<00:00,  8.13batches/s]\n",
      "  7%|▋         | 2/29 [00:00<00:01, 17.11batches/s]"
     ]
    },
    {
     "name": "stdout",
     "output_type": "stream",
     "text": [
      "Epoch : 6, Batch : 327 / 328, Loss : 4.482169, Perplexity : 88.426283, Time : 40.380551\n"
     ]
    },
    {
     "name": "stderr",
     "output_type": "stream",
     "text": [
      "100%|██████████| 29/29 [00:01<00:00, 20.25batches/s]\n",
      "  0%|          | 1/328 [00:00<00:34,  9.56batches/s]"
     ]
    },
    {
     "name": "stdout",
     "output_type": "stream",
     "text": [
      "Validation Loss : 4.867549\n",
      "Validation Perplexity : 130.001846\n",
      "Start epoch 7, learning rate 0.000972 \n",
      "2\n"
     ]
    },
    {
     "name": "stderr",
     "output_type": "stream",
     "text": [
      "100%|██████████| 328/328 [00:41<00:00,  7.98batches/s]\n",
      "  7%|▋         | 2/29 [00:00<00:01, 17.03batches/s]"
     ]
    },
    {
     "name": "stdout",
     "output_type": "stream",
     "text": [
      "Epoch : 7, Batch : 327 / 328, Loss : 4.308748, Perplexity : 74.347347, Time : 41.156543\n"
     ]
    },
    {
     "name": "stderr",
     "output_type": "stream",
     "text": [
      "100%|██████████| 29/29 [00:01<00:00, 17.82batches/s]\n",
      "  0%|          | 0/328 [00:00<?, ?batches/s]"
     ]
    },
    {
     "name": "stdout",
     "output_type": "stream",
     "text": [
      "Validation Loss : 4.832151\n",
      "Validation Perplexity : 125.480522\n",
      "Start epoch 8, learning rate 0.000922 \n",
      "2\n"
     ]
    },
    {
     "name": "stderr",
     "output_type": "stream",
     "text": [
      "100%|██████████| 328/328 [00:40<00:00,  8.15batches/s]\n",
      "  7%|▋         | 2/29 [00:00<00:01, 16.72batches/s]"
     ]
    },
    {
     "name": "stdout",
     "output_type": "stream",
     "text": [
      "Epoch : 8, Batch : 327 / 328, Loss : 4.106600, Perplexity : 60.739875, Time : 40.293201\n"
     ]
    },
    {
     "name": "stderr",
     "output_type": "stream",
     "text": [
      "100%|██████████| 29/29 [00:01<00:00, 20.27batches/s]\n",
      "  1%|          | 2/328 [00:00<00:32, 10.12batches/s]"
     ]
    },
    {
     "name": "stdout",
     "output_type": "stream",
     "text": [
      "Validation Loss : 4.827914\n",
      "Validation Perplexity : 124.950029\n",
      "Start epoch 9, learning rate 0.000863 \n",
      "2\n"
     ]
    },
    {
     "name": "stderr",
     "output_type": "stream",
     "text": [
      "100%|██████████| 328/328 [00:40<00:00,  8.11batches/s]\n",
      "  7%|▋         | 2/29 [00:00<00:01, 17.29batches/s]"
     ]
    },
    {
     "name": "stdout",
     "output_type": "stream",
     "text": [
      "Epoch : 9, Batch : 327 / 328, Loss : 3.927658, Perplexity : 50.787889, Time : 40.461197\n"
     ]
    },
    {
     "name": "stderr",
     "output_type": "stream",
     "text": [
      "100%|██████████| 29/29 [00:01<00:00, 19.58batches/s]\n",
      "  0%|          | 1/328 [00:00<00:34,  9.40batches/s]"
     ]
    },
    {
     "name": "stdout",
     "output_type": "stream",
     "text": [
      "Validation Loss : 4.859546\n",
      "Validation Perplexity : 128.965611\n",
      "Start epoch 10, learning rate 0.000813 \n",
      "2\n"
     ]
    },
    {
     "name": "stderr",
     "output_type": "stream",
     "text": [
      "100%|██████████| 328/328 [00:40<00:00,  8.11batches/s]\n",
      "  7%|▋         | 2/29 [00:00<00:01, 18.19batches/s]"
     ]
    },
    {
     "name": "stdout",
     "output_type": "stream",
     "text": [
      "Epoch : 10, Batch : 327 / 328, Loss : 3.767748, Perplexity : 43.282469, Time : 40.479215\n"
     ]
    },
    {
     "name": "stderr",
     "output_type": "stream",
     "text": [
      "100%|██████████| 29/29 [00:01<00:00, 20.35batches/s]"
     ]
    },
    {
     "name": "stdout",
     "output_type": "stream",
     "text": [
      "Validation Loss : 4.905952\n",
      "Validation Perplexity : 135.091419\n"
     ]
    },
    {
     "name": "stderr",
     "output_type": "stream",
     "text": [
      "\n"
     ]
    }
   ],
   "source": [
    "opt = optim.Adam(model.trainable_params(),betas=(0.9, 0.98), eps=1e-09, lr=lr)\n",
    "i=0\n",
    "for epoch in range(n_epochs):\n",
    "    #lrsched.step()\n",
    "    acc_loss = 0\n",
    "    print('Start epoch %d, learning rate %f '%(epoch + 1, opt.state_dict()['param_groups'][0]['lr']))\n",
    "    start_time = time.time()\n",
    "    model.train()\n",
    "    ptb_train.shuffle()\n",
    "    for batch_idx in tqdm(range(ptb_train.num_batch), unit='batches'):\n",
    "        data, lengths, target = ptb_train.get_batch(batch_idx)\n",
    "        \n",
    "        opt.zero_grad()\n",
    "        output, self_attn = model.forward(data, lengths)\n",
    "        loss = criterion(output, target.view(-1))\n",
    "        loss.backward()\n",
    "        opt.step()\n",
    "        acc_loss += loss.item()\n",
    "        i+=1\n",
    "        new_lr = np.power(emb_dim, -0.5) * np.min([\n",
    "            np.power((i), -0.5),\n",
    "            np.power(warmup_steps, -1.5) * (i)])\n",
    "        for param_group in opt.param_groups:\n",
    "            param_group['lr'] = new_lr\n",
    "        \n",
    "    avg_loss = acc_loss / ptb_train.num_batch\n",
    "    print('Epoch : %d, Batch : %d / %d, Loss : %f, Perplexity : %f, Time : %f' \n",
    "          % (epoch + 1, batch_idx, ptb_train.num_batch,\n",
    "             avg_loss, math.exp(avg_loss),\n",
    "             time.time() - start_time))\n",
    "\n",
    "    acc_loss = 0\n",
    "    model.eval()\n",
    "    for batch_idx in tqdm(range(ptb_test.num_batch), unit='batches'):\n",
    "        data, lengths, target = ptb_test[batch_idx]\n",
    "        output, self_attn = model.forward(data, lengths)\n",
    "        loss = criterion(output, target.view(-1))\n",
    "        acc_loss += loss.item()\n",
    "\n",
    "    val_loss = acc_loss / ptb_test.num_batch\n",
    "    print('Validation Loss : %f' % val_loss)\n",
    "    print('Validation Perplexity : %f' % math.exp(val_loss))"
   ]
  },
  {
   "cell_type": "code",
   "execution_count": null,
   "metadata": {},
   "outputs": [],
   "source": []
  },
  {
   "cell_type": "code",
   "execution_count": null,
   "metadata": {},
   "outputs": [],
   "source": []
  },
  {
   "cell_type": "code",
   "execution_count": null,
   "metadata": {},
   "outputs": [],
   "source": []
  }
 ],
 "metadata": {
  "kernelspec": {
   "display_name": "Python 3",
   "language": "python",
   "name": "python3"
  },
  "language_info": {
   "codemirror_mode": {
    "name": "ipython",
    "version": 3
   },
   "file_extension": ".py",
   "mimetype": "text/x-python",
   "name": "python",
   "nbconvert_exporter": "python",
   "pygments_lexer": "ipython3",
   "version": "3.6.5"
  }
 },
 "nbformat": 4,
 "nbformat_minor": 2
}
