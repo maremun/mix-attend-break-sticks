{
 "cells": [
  {
   "cell_type": "markdown",
   "metadata": {},
   "source": [
    "Revised and fixed code from https://github.com/JayParks/transformer (MT) for LM"
   ]
  },
  {
   "cell_type": "markdown",
   "metadata": {},
   "source": [
    "Stripped the code from the JayParks repo for MT Transformer. Introduced a few updates and changes for speed, but it's still frustratingly slow. Possible improvement - speed it up.\n",
    "\n",
    "Another issue - hyperparameter search for language modelling (number of heads, number of self-attention layers, etc). Does not work well from the box. This might be of help https://arxiv.org/pdf/1804.00247.pdf.\n",
    "\n",
    "Also consider parallelizing."
   ]
  },
  {
   "cell_type": "markdown",
   "metadata": {},
   "source": [
    "# TODO\n",
    "* Clean up\n",
    "* Add MoS"
   ]
  },
  {
   "cell_type": "markdown",
   "metadata": {},
   "source": [
    "# Random sequence length batching\n",
    "\n",
    "This version of Transformer LM usesrandom sequence length batching.\n",
    "\n",
    "**NB** Make sure the src code does not assuem the existence of PAD."
   ]
  },
  {
   "cell_type": "code",
   "execution_count": 1,
   "metadata": {},
   "outputs": [],
   "source": [
    "import os\n",
    "os.environ[\"CUDA_DEVICE_ORDER\"]=\"PCI_BUS_ID\"\n",
    "os.environ[\"CUDA_VISIBLE_DEVICES\"]=\"1\""
   ]
  },
  {
   "cell_type": "code",
   "execution_count": 2,
   "metadata": {},
   "outputs": [],
   "source": [
    "import numpy as np\n",
    "import matplotlib.pyplot as plt\n",
    "%matplotlib inline\n",
    "from showprogress import showprogress\n",
    "\n",
    "import torch\n",
    "torch.cuda.device(0)\n",
    "import torch.nn as nn\n",
    "import torch.optim as optim\n",
    "\n",
    "from torch.nn.utils.rnn import pack_padded_sequence as pack\n",
    "from torch.nn.utils.rnn import pad_packed_sequence as pad\n",
    "from torch.nn.utils import clip_grad_norm_ as clip\n",
    "from torch.optim.lr_scheduler import StepLR\n",
    "\n",
    "import const\n",
    "from data import *\n",
    "from transformer import *\n",
    "from utils import logging"
   ]
  },
  {
   "cell_type": "markdown",
   "metadata": {},
   "source": [
    "# FUNCTIONS"
   ]
  },
  {
   "cell_type": "code",
   "execution_count": null,
   "metadata": {},
   "outputs": [],
   "source": [
    "def train(model, opt, criterion, ):\n",
    "    pass\n",
    "\n",
    "def evaluate(data_source, model, ntokens, seq_len):\n",
    "    model.eval()\n",
    "    total_loss = 0\n",
    "    batch = 0\n",
    "    for i in range(0, data_source.size(0) - 1, seq_len):\n",
    "        data, targets = get_batch(data_source, i, seq_len=seq_len)\n",
    "        seq_len = data.shape[1]\n",
    "        lengths = torch.ones(data.shape[0], device=device, dtype=torch.long) * seq_len\n",
    "\n",
    "        log_prob, self_attn = model(data, lengths)\n",
    "        loss = criterion(log_prob, targets.view(-1))\n",
    "\n",
    "        total_loss += loss.item()\n",
    "        batch += 1\n",
    "    return total_loss / batch"
   ]
  },
  {
   "cell_type": "markdown",
   "metadata": {},
   "source": [
    "# DATASET"
   ]
  },
  {
   "cell_type": "code",
   "execution_count": null,
   "metadata": {},
   "outputs": [],
   "source": [
    "eval_batch_size = 10\n",
    "test_batch_size = 1\n",
    "batch_size = 128"
   ]
  },
  {
   "cell_type": "code",
   "execution_count": null,
   "metadata": {},
   "outputs": [],
   "source": [
    "data_path = 'data/penn'  # 'wikitext-2' \n",
    "\n",
    "# Random length sequence batching\n",
    "corpus = Corpus(data_path)\n",
    "train_data = batchify(corpus.train, batch_size, )\n",
    "val_data = batchify(corpus.valid, eval_batch_size)\n",
    "test_data = batchify(corpus.test, test_batch_size)\n",
    "\n",
    "# Sentence-wise batching\n",
    "# train_data = DataSet(data_path + '/train.txt', batch_size, display_freq=0, max_len=90, trunc_len=90)\n",
    "# val_data = DataSet(data_path + '/valid.txt', batch_size, display_freq=0, max_len=90, trunc_len=90)\n",
    "# test_data = DataSet(data_path + '/test.txt', batch_size, display_freq=0, max_len=90, trunc_len=90)\n",
    "# train_data.build_dict()\n",
    "# valid_data.change_dict(train_data.dictionary)\n",
    "# test_data.change_dict(train_data.dictionary)"
   ]
  },
  {
   "cell_type": "markdown",
   "metadata": {},
   "source": [
    "# MODEL PARAMS"
   ]
  },
  {
   "cell_type": "code",
   "execution_count": null,
   "metadata": {},
   "outputs": [],
   "source": [
    "voc_size = len(corpus.dictionary)  # ptb_train.num_vocb\n",
    "emb_dim = 512\n",
    "d_k = 64\n",
    "d_v = 64\n",
    "n_layers = 2\n",
    "n_heads = 4\n",
    "d_ff = 1024\n",
    "max_tgt_seq_len = 90\n",
    "dropout = 0.1\n",
    "weighted_model = False\n",
    "share_proj_weight = True"
   ]
  },
  {
   "cell_type": "markdown",
   "metadata": {},
   "source": [
    "# MODEL"
   ]
  },
  {
   "cell_type": "code",
   "execution_count": null,
   "metadata": {},
   "outputs": [],
   "source": [
    "model = LMTransformer(n_layers, d_k, d_v, emb_dim, d_ff,\n",
    "                      n_heads, max_tgt_seq_len, voc_size,\n",
    "                      dropout, weighted_model, share_proj_weight)\n",
    "criterion = nn.CrossEntropyLoss(ignore_index=const.PAD)\n",
    "opt = optim.Adam(model.trainable_params(), betas=(0.9, 0.98), eps=1e-09, lr=lr)\n",
    "\n",
    "if torch.cuda.is_available():\n",
    "    model = model.cuda()\n",
    "    criterion = criterion.cuda()\n",
    "\n",
    "#opt = optim.Adam(model.trainable_params(), lr=lr)\n",
    "# lr_lambda = lambda epoch: 0.99 ** epoch\n",
    "#lrsched = StepLR(opt, step_size=10, gamma=0.5)"
   ]
  },
  {
   "cell_type": "code",
   "execution_count": null,
   "metadata": {},
   "outputs": [],
   "source": []
  },
  {
   "cell_type": "markdown",
   "metadata": {},
   "source": [
    "# TRAIN PARAMS"
   ]
  },
  {
   "cell_type": "code",
   "execution_count": null,
   "metadata": {},
   "outputs": [],
   "source": [
    "# batching\n",
    "bptt0 = 70\n",
    "max_seq_len_delta = 40\n",
    "\n",
    "#general\n",
    "n_epochs = 1000\n",
    "\n",
    "# optimization\n",
    "lr = 1e-6\n",
    "clip_grad = 5\n",
    "warmup_steps = 2000"
   ]
  },
  {
   "cell_type": "markdown",
   "metadata": {},
   "source": [
    "# LOGGING PARAMS"
   ]
  },
  {
   "cell_type": "code",
   "execution_count": null,
   "metadata": {},
   "outputs": [],
   "source": [
    "# save path\n",
    "exp_dir = '{}-{}'.format(\"PTB\", time.strftime(\"%Y%m%d-%H%M%S\"))\n",
    "\n",
    "# logging\n",
    "log_interval = 100\n",
    "log_file = 'log.txt'"
   ]
  },
  {
   "cell_type": "markdown",
   "metadata": {},
   "source": [
    "# RUN"
   ]
  },
  {
   "cell_type": "code",
   "execution_count": 12,
   "metadata": {},
   "outputs": [],
   "source": []
  },
  {
   "cell_type": "code",
   "execution_count": 16,
   "metadata": {
    "scrolled": false
   },
   "outputs": [],
   "source": [
    "i=0\n",
    "best_val_loss = []"
   ]
  },
  {
   "cell_type": "code",
   "execution_count": null,
   "metadata": {
    "scrolled": false
   },
   "outputs": [],
   "source": [
    "try:\n",
    "    for epoch in range(n_epochs):\n",
    "        epoch_start_time = time.time()\n",
    "        total_loss = 0\n",
    "        print('Start epoch %d, learning rate %f '%(epoch + 1, opt.state_dict()['param_groups'][0]['lr']))\n",
    "        start_time = time.time()\n",
    "        model.train()\n",
    "        batch, i = 0, 0\n",
    "        while i < train_data.size(0) - 2:\n",
    "            bptt = bptt0 if np.random.random() < 0.95 else bptt0 / 2.\n",
    "            # Prevent excessively small or negative sequence lengths\n",
    "            seq_len = max(5, int(np.random.normal(bptt, 5))) # loc 70, scale 5\n",
    "            # There's a very small chance that it could select a very long sequence length resulting in OOM\n",
    "            seq_len = min(seq_len, bptt + max_seq_len_delta)\n",
    "\n",
    "            data, targets = get_batch(train_data, i, seq_len=seq_len)\n",
    "            seq_len = data.shape[1]\n",
    "            lengths = torch.ones(data.shape[0], device=device, dtype=torch.long) * seq_len\n",
    "\n",
    "            opt.zero_grad()\n",
    "            output, self_attn = model.forward(data, lengths)\n",
    "            loss = criterion(output, targets.view(-1))\n",
    "            \n",
    "            loss.backward()\n",
    "            opt.step()\n",
    "            \n",
    "            batch += 1\n",
    "            i += seq_len\n",
    "            \n",
    "            new_lr = np.power(emb_dim, -0.5) * np.min([\n",
    "                np.power((batch), -0.5),\n",
    "                np.power(warmup_steps, -1.5) * (batch)])\n",
    "            for param_group in opt.param_groups:\n",
    "                param_group['lr'] = new_lr\n",
    "\n",
    "            if batch % log_interval == 0 and batch > 0:\n",
    "                cur_loss = loss.item()\n",
    "                elapsed = time.time() - start_time\n",
    "                logging('| epoch {:3d} | {}/{} batches | lr {:02.4f} | ms/batch {:5.2f} | '\n",
    "                        'loss {:5.2f} | ppl {:8.2f}'.format(\n",
    "                    epoch, batch, len(train_data) // bptt0, opt.param_groups[0]['lr'],\n",
    "                    elapsed * 1000 / log_interval, cur_loss, math.exp(cur_loss)))\n",
    "                total_loss = 0\n",
    "                start_time = time.time()\n",
    "\n",
    "        val_loss = evaluate(val_data, model, voc_size, bptt0)\n",
    "        logging('-' * 89)\n",
    "        logging('| end of epoch {:3d} | time: {:5.2f}s | valid loss {:5.2f} | '\n",
    "                'valid ppl {:8.2f}'.format(epoch, (time.time() - epoch_start_time),\n",
    "                                           val_loss, math.exp(val_loss)))\n",
    "        logging('-' * 89)\n",
    "\n",
    "        best_val_loss.append(val_loss)\n",
    "\n",
    "except KeyboardInterrupt:\n",
    "    logging('-' * 89)\n",
    "    logging('Exiting from training early')"
   ]
  },
  {
   "cell_type": "code",
   "execution_count": null,
   "metadata": {},
   "outputs": [],
   "source": []
  }
 ],
 "metadata": {
  "kernelspec": {
   "display_name": "Python 3",
   "language": "python",
   "name": "python3"
  },
  "language_info": {
   "codemirror_mode": {
    "name": "ipython",
    "version": 3
   },
   "file_extension": ".py",
   "mimetype": "text/x-python",
   "name": "python",
   "nbconvert_exporter": "python",
   "pygments_lexer": "ipython3",
   "version": "3.6.4"
  }
 },
 "nbformat": 4,
 "nbformat_minor": 2
}
