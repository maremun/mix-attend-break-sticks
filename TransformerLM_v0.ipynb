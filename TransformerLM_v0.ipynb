{
 "cells": [
  {
   "cell_type": "markdown",
   "metadata": {},
   "source": [
    "Revised and fixed code from https://github.com/JayParks/transformer (MT) for LM"
   ]
  },
  {
   "cell_type": "markdown",
   "metadata": {},
   "source": [
    "Stripped the code from the JayParks repo for MT Transformer. Introduced a few updates and changes for speed, but it's still frustratingly slow. Possible improvement - speed it up.\n",
    "\n",
    "Another issue - hyperparameter search for language modelling (number of heads, number of self-attention layers, etc). Does not work well from the box. This might be of help https://arxiv.org/pdf/1804.00247.pdf.\n",
    "\n",
    "Also consider parallelizing."
   ]
  },
  {
   "cell_type": "markdown",
   "metadata": {},
   "source": [
    "# TODO\n",
    "\n",
    "* Clean up\n",
    "* Add MoS"
   ]
  },
  {
   "cell_type": "markdown",
   "metadata": {},
   "source": [
    "# Sentence-wise batching\n",
    "\n",
    "This version of Transformer LM uses sentence-wise batching (each sentence is an inpdependent example).\n",
    "\n",
    "**NB** Before running make sure src code accounts for PAD."
   ]
  },
  {
   "cell_type": "code",
   "execution_count": 4,
   "metadata": {},
   "outputs": [],
   "source": [
    "import os\n",
    "os.environ[\"CUDA_DEVICE_ORDER\"]=\"PCI_BUS_ID\"\n",
    "os.environ[\"CUDA_VISIBLE_DEVICES\"]=\"7\""
   ]
  },
  {
   "cell_type": "code",
   "execution_count": 1,
   "metadata": {},
   "outputs": [],
   "source": [
    "import numpy as np\n",
    "import matplotlib.pyplot as plt\n",
    "%matplotlib inline\n",
    "from tqdm import tqdm\n",
    "from showprogress import *\n",
    "\n",
    "import torch\n",
    "# torch.cuda.device(0)\n",
    "import torch.nn as nn\n",
    "import torch.optim as optim\n",
    "\n",
    "from torch.nn.utils.rnn import pack_padded_sequence as pack\n",
    "from torch.nn.utils.rnn import pad_packed_sequence as pad\n",
    "from torch.nn.utils import clip_grad_norm_ as clip\n",
    "from torch.optim.lr_scheduler import StepLR\n",
    "\n",
    "import const\n",
    "from data import *\n",
    "from transformer import *"
   ]
  },
  {
   "cell_type": "code",
   "execution_count": 2,
   "metadata": {},
   "outputs": [
    {
     "name": "stdout",
     "output_type": "stream",
     "text": [
      "=========================================================================================\n",
      "Loading data from data/penn/train.txt ...\n",
      "=========================================================================================\n",
      "Loading data from data/penn/valid.txt ...\n",
      "=========================================================================================\n",
      "Loading data from data/penn/test.txt ...\n"
     ]
    }
   ],
   "source": [
    "ptb_datapath_train = 'data/penn/train.txt'\n",
    "ptb_datapath_valid = 'data/penn/valid.txt'\n",
    "ptb_datapath_test = 'data/penn/test.txt'\n",
    "\n",
    "batch_size = 128\n",
    "\n",
    "ptb_train = DataSet(ptb_datapath_train, batch_size, display_freq=0, max_len=90, trunc_len=90)\n",
    "ptb_valid = DataSet(ptb_datapath_valid, batch_size, display_freq=0, max_len=90, trunc_len=90)\n",
    "ptb_test = DataSet(ptb_datapath_test, batch_size, display_freq=0, max_len=90, trunc_len=90)"
   ]
  },
  {
   "cell_type": "code",
   "execution_count": 3,
   "metadata": {},
   "outputs": [
    {
     "name": "stdout",
     "output_type": "stream",
     "text": [
      "Building dictionary...\n",
      "Done.\n",
      "Save dictionary at data/penn/train.txt.dict\n",
      "Index tokens ...\n",
      "42068 sentences were processed, 0 longer than maximum length,0 were ignored because zero length\n",
      "=========================================================================================\n",
      "Data discription:\n",
      "Data name : data/penn/train.txt\n",
      "Number of sentence : 42068\n",
      "Number of tokens : 887521\n",
      "Vocabulary size : 10000\n",
      "Number of batches : 328\n",
      "Batch size : 128\n",
      "Done.\n",
      "Index tokens ...\n",
      "3370 sentences were processed, 0 longer than maximum length,0 were ignored because zero length\n",
      "=========================================================================================\n",
      "Data discription:\n",
      "Data name : data/penn/valid.txt\n",
      "Number of sentence : 3370\n",
      "Number of tokens : 70390\n",
      "Vocabulary size : 10000\n",
      "Number of batches : 26\n",
      "Batch size : 128\n",
      "Done.\n",
      "Index tokens ...\n",
      "3761 sentences were processed, 0 longer than maximum length,0 were ignored because zero length\n",
      "=========================================================================================\n",
      "Data discription:\n",
      "Data name : data/penn/test.txt\n",
      "Number of sentence : 3761\n",
      "Number of tokens : 78669\n",
      "Vocabulary size : 10000\n",
      "Number of batches : 29\n",
      "Batch size : 128\n",
      "Done.\n"
     ]
    }
   ],
   "source": [
    "ptb_train.build_dict()\n",
    "ptb_valid.change_dict(ptb_train.dictionary)\n",
    "ptb_test.change_dict(ptb_train.dictionary)"
   ]
  },
  {
   "cell_type": "code",
   "execution_count": 6,
   "metadata": {},
   "outputs": [],
   "source": [
    "voc_size = ptb_train.num_vocb\n",
    "emb_dim = 512\n",
    "d_k = 64\n",
    "d_v = 64\n",
    "n_layers = 2\n",
    "n_heads = 4\n",
    "d_ff = 2048\n",
    "max_tgt_seq_len = 90\n",
    "dropout = 0.1\n",
    "weighted_model = False\n",
    "share_proj_weight = True\n",
    "lr = 1e-6\n",
    "n_epochs = 100\n",
    "clip_grad = 5\n",
    "warmup_steps = 2000"
   ]
  },
  {
   "cell_type": "code",
   "execution_count": 10,
   "metadata": {},
   "outputs": [
    {
     "name": "stdout",
     "output_type": "stream",
     "text": [
      "Sharing target embedding and projection..\n"
     ]
    }
   ],
   "source": [
    "model = LMTransformer(n_layers, d_k, d_v, emb_dim, d_ff,\n",
    "                      n_heads, max_tgt_seq_len, voc_size,\n",
    "                      dropout, weighted_model, share_proj_weight)\n",
    "criterion = nn.CrossEntropyLoss(ignore_index=const.PAD)\n",
    "\n",
    "if torch.cuda.is_available():\n",
    "    model = model.cuda()\n",
    "    criterion = criterion.cuda()\n",
    "\n",
    "#opt = optim.Adam(model.trainable_params(), lr=lr)\n",
    "# lr_lambda = lambda epoch: 0.99 ** epoch\n",
    "#lrsched = StepLR(opt, step_size=10, gamma=0.5)"
   ]
  },
  {
   "cell_type": "code",
   "execution_count": 11,
   "metadata": {},
   "outputs": [
    {
     "data": {
      "text/plain": [
       "True"
      ]
     },
     "execution_count": 11,
     "metadata": {},
     "output_type": "execute_result"
    }
   ],
   "source": [
    "torch.cuda.is_available()"
   ]
  },
  {
   "cell_type": "code",
   "execution_count": 12,
   "metadata": {
    "scrolled": false
   },
   "outputs": [
    {
     "data": {
      "text/html": [
       "<div><progress style=width:\"60ex\" max=\"100\" value=\"97\" class=\"Progress-main\"/></progress>\n",
       "<span class=\"Progress-label\"><strong>97%</strong></span>\n",
       "<span class=\"Iteration-label\">97/100</span>\n",
       "<span class=\"Time-label\">[27.73<2704.73, 27.88s/it]</span></div>"
      ],
      "text/plain": [
       "[==========================================================  ] 97/100"
      ]
     },
     "metadata": {},
     "output_type": "display_data"
    },
    {
     "name": "stdout",
     "output_type": "stream",
     "text": [
      "Start epoch 1, learning rate 0.000001 \n",
      "2\n"
     ]
    },
    {
     "data": {
      "text/html": [
       "<div><progress style=width:\"60ex\" max=\"328\" value=\"328\" class=\"Progress-main\"/></progress>\n",
       "<span class=\"Progress-label\"><strong>100%</strong></span>\n",
       "<span class=\"Iteration-label\">327/328</span>\n",
       "<span class=\"Time-label\">[0.08<26.95, 0.08s/it]</span></div>"
      ],
      "text/plain": [
       "[============================================================] 328/328"
      ]
     },
     "metadata": {},
     "output_type": "display_data"
    },
    {
     "name": "stdout",
     "output_type": "stream",
     "text": [
      "Epoch : 1, Batch : 327 / 328, Loss : 7.094643, Perplexity : 1205.491824, Time : 26.984499\n"
     ]
    },
    {
     "data": {
      "text/html": [
       "<div><progress style=width:\"60ex\" max=\"29\" value=\"29\" class=\"Progress-main\"/></progress>\n",
       "<span class=\"Progress-label\"><strong>100%</strong></span>\n",
       "<span class=\"Iteration-label\">29/29</span>\n",
       "<span class=\"Time-label\">[0.04<0.83, 0.03s/it]</span></div>"
      ],
      "text/plain": [
       "[============================================================] 29/29"
      ]
     },
     "metadata": {},
     "output_type": "display_data"
    },
    {
     "name": "stdout",
     "output_type": "stream",
     "text": [
      "Validation Loss : 5.923161\n",
      "Validation Perplexity : 373.590941\n",
      "Start epoch 2, learning rate 0.000162 \n",
      "2\n"
     ]
    },
    {
     "data": {
      "text/html": [
       "<div><progress style=width:\"60ex\" max=\"328\" value=\"328\" class=\"Progress-main\"/></progress>\n",
       "<span class=\"Progress-label\"><strong>100%</strong></span>\n",
       "<span class=\"Iteration-label\">327/328</span>\n",
       "<span class=\"Time-label\">[0.09<26.83, 0.08s/it]</span></div>"
      ],
      "text/plain": [
       "[============================================================] 328/328"
      ]
     },
     "metadata": {},
     "output_type": "display_data"
    },
    {
     "name": "stdout",
     "output_type": "stream",
     "text": [
      "Epoch : 2, Batch : 327 / 328, Loss : 5.652512, Perplexity : 285.006433, Time : 26.863564\n"
     ]
    },
    {
     "data": {
      "text/html": [
       "<div><progress style=width:\"60ex\" max=\"29\" value=\"29\" class=\"Progress-main\"/></progress>\n",
       "<span class=\"Progress-label\"><strong>100%</strong></span>\n",
       "<span class=\"Iteration-label\">29/29</span>\n",
       "<span class=\"Time-label\">[0.04<0.86, 0.03s/it]</span></div>"
      ],
      "text/plain": [
       "[============================================================] 29/29"
      ]
     },
     "metadata": {},
     "output_type": "display_data"
    },
    {
     "name": "stdout",
     "output_type": "stream",
     "text": [
      "Validation Loss : 5.362131\n",
      "Validation Perplexity : 213.178737\n",
      "Start epoch 3, learning rate 0.000324 \n",
      "2\n"
     ]
    },
    {
     "data": {
      "text/html": [
       "<div><progress style=width:\"60ex\" max=\"328\" value=\"328\" class=\"Progress-main\"/></progress>\n",
       "<span class=\"Progress-label\"><strong>100%</strong></span>\n",
       "<span class=\"Iteration-label\">327/328</span>\n",
       "<span class=\"Time-label\">[0.08<26.87, 0.08s/it]</span></div>"
      ],
      "text/plain": [
       "[============================================================] 328/328"
      ]
     },
     "metadata": {},
     "output_type": "display_data"
    },
    {
     "name": "stdout",
     "output_type": "stream",
     "text": [
      "Epoch : 3, Batch : 327 / 328, Loss : 5.190272, Perplexity : 179.517309, Time : 26.909928\n"
     ]
    },
    {
     "data": {
      "text/html": [
       "<div><progress style=width:\"60ex\" max=\"29\" value=\"29\" class=\"Progress-main\"/></progress>\n",
       "<span class=\"Progress-label\"><strong>100%</strong></span>\n",
       "<span class=\"Iteration-label\">29/29</span>\n",
       "<span class=\"Time-label\">[0.04<0.83, 0.03s/it]</span></div>"
      ],
      "text/plain": [
       "[============================================================] 29/29"
      ]
     },
     "metadata": {},
     "output_type": "display_data"
    },
    {
     "name": "stdout",
     "output_type": "stream",
     "text": [
      "Validation Loss : 5.091826\n",
      "Validation Perplexity : 162.686632\n",
      "Start epoch 4, learning rate 0.000486 \n",
      "2\n"
     ]
    },
    {
     "data": {
      "text/html": [
       "<div><progress style=width:\"60ex\" max=\"328\" value=\"328\" class=\"Progress-main\"/></progress>\n",
       "<span class=\"Progress-label\"><strong>100%</strong></span>\n",
       "<span class=\"Iteration-label\">327/328</span>\n",
       "<span class=\"Time-label\">[0.08<26.68, 0.08s/it]</span></div>"
      ],
      "text/plain": [
       "[============================================================] 328/328"
      ]
     },
     "metadata": {},
     "output_type": "display_data"
    },
    {
     "name": "stdout",
     "output_type": "stream",
     "text": [
      "Epoch : 4, Batch : 327 / 328, Loss : 4.890518, Perplexity : 133.022409, Time : 26.720397\n"
     ]
    },
    {
     "data": {
      "text/html": [
       "<div><progress style=width:\"60ex\" max=\"29\" value=\"29\" class=\"Progress-main\"/></progress>\n",
       "<span class=\"Progress-label\"><strong>100%</strong></span>\n",
       "<span class=\"Iteration-label\">29/29</span>\n",
       "<span class=\"Time-label\">[0.04<0.84, 0.03s/it]</span></div>"
      ],
      "text/plain": [
       "[============================================================] 29/29"
      ]
     },
     "metadata": {},
     "output_type": "display_data"
    },
    {
     "name": "stdout",
     "output_type": "stream",
     "text": [
      "Validation Loss : 4.964463\n",
      "Validation Perplexity : 143.231570\n",
      "Start epoch 5, learning rate 0.000648 \n",
      "2\n"
     ]
    },
    {
     "data": {
      "text/html": [
       "<div><progress style=width:\"60ex\" max=\"328\" value=\"328\" class=\"Progress-main\"/></progress>\n",
       "<span class=\"Progress-label\"><strong>100%</strong></span>\n",
       "<span class=\"Iteration-label\">327/328</span>\n",
       "<span class=\"Time-label\">[0.07<26.73, 0.08s/it]</span></div>"
      ],
      "text/plain": [
       "[============================================================] 328/328"
      ]
     },
     "metadata": {},
     "output_type": "display_data"
    },
    {
     "name": "stdout",
     "output_type": "stream",
     "text": [
      "Epoch : 5, Batch : 327 / 328, Loss : 4.664119, Perplexity : 106.072129, Time : 26.764846\n"
     ]
    },
    {
     "data": {
      "text/html": [
       "<div><progress style=width:\"60ex\" max=\"29\" value=\"29\" class=\"Progress-main\"/></progress>\n",
       "<span class=\"Progress-label\"><strong>100%</strong></span>\n",
       "<span class=\"Iteration-label\">29/29</span>\n",
       "<span class=\"Time-label\">[0.04<0.84, 0.03s/it]</span></div>"
      ],
      "text/plain": [
       "[============================================================] 29/29"
      ]
     },
     "metadata": {},
     "output_type": "display_data"
    },
    {
     "name": "stdout",
     "output_type": "stream",
     "text": [
      "Validation Loss : 4.891808\n",
      "Validation Perplexity : 133.194198\n",
      "Start epoch 6, learning rate 0.000810 \n",
      "2\n"
     ]
    },
    {
     "data": {
      "text/html": [
       "<div><progress style=width:\"60ex\" max=\"328\" value=\"328\" class=\"Progress-main\"/></progress>\n",
       "<span class=\"Progress-label\"><strong>100%</strong></span>\n",
       "<span class=\"Iteration-label\">327/328</span>\n",
       "<span class=\"Time-label\">[0.07<26.80, 0.08s/it]</span></div>"
      ],
      "text/plain": [
       "[============================================================] 328/328"
      ]
     },
     "metadata": {},
     "output_type": "display_data"
    },
    {
     "name": "stdout",
     "output_type": "stream",
     "text": [
      "Epoch : 6, Batch : 327 / 328, Loss : 4.479422, Perplexity : 88.183708, Time : 26.839649\n"
     ]
    },
    {
     "data": {
      "text/html": [
       "<div><progress style=width:\"60ex\" max=\"29\" value=\"29\" class=\"Progress-main\"/></progress>\n",
       "<span class=\"Progress-label\"><strong>100%</strong></span>\n",
       "<span class=\"Iteration-label\">29/29</span>\n",
       "<span class=\"Time-label\">[0.04<0.84, 0.03s/it]</span></div>"
      ],
      "text/plain": [
       "[============================================================] 29/29"
      ]
     },
     "metadata": {},
     "output_type": "display_data"
    },
    {
     "name": "stdout",
     "output_type": "stream",
     "text": [
      "Validation Loss : 4.874202\n",
      "Validation Perplexity : 130.869646\n",
      "Start epoch 7, learning rate 0.000972 \n",
      "2\n"
     ]
    },
    {
     "data": {
      "text/html": [
       "<div><progress style=width:\"60ex\" max=\"328\" value=\"328\" class=\"Progress-main\"/></progress>\n",
       "<span class=\"Progress-label\"><strong>100%</strong></span>\n",
       "<span class=\"Iteration-label\">327/328</span>\n",
       "<span class=\"Time-label\">[0.10<26.93, 0.08s/it]</span></div>"
      ],
      "text/plain": [
       "[============================================================] 328/328"
      ]
     },
     "metadata": {},
     "output_type": "display_data"
    },
    {
     "name": "stdout",
     "output_type": "stream",
     "text": [
      "Epoch : 7, Batch : 327 / 328, Loss : 4.306205, Perplexity : 74.158537, Time : 26.968282\n"
     ]
    },
    {
     "data": {
      "text/html": [
       "<div><progress style=width:\"60ex\" max=\"29\" value=\"29\" class=\"Progress-main\"/></progress>\n",
       "<span class=\"Progress-label\"><strong>100%</strong></span>\n",
       "<span class=\"Iteration-label\">29/29</span>\n",
       "<span class=\"Time-label\">[0.04<0.86, 0.03s/it]</span></div>"
      ],
      "text/plain": [
       "[============================================================] 29/29"
      ]
     },
     "metadata": {},
     "output_type": "display_data"
    },
    {
     "name": "stdout",
     "output_type": "stream",
     "text": [
      "Validation Loss : 4.849750\n",
      "Validation Perplexity : 127.708483\n",
      "Start epoch 8, learning rate 0.000922 \n",
      "2\n"
     ]
    },
    {
     "data": {
      "text/html": [
       "<div><progress style=width:\"60ex\" max=\"328\" value=\"328\" class=\"Progress-main\"/></progress>\n",
       "<span class=\"Progress-label\"><strong>100%</strong></span>\n",
       "<span class=\"Iteration-label\">327/328</span>\n",
       "<span class=\"Time-label\">[0.11<27.03, 0.08s/it]</span></div>"
      ],
      "text/plain": [
       "[============================================================] 328/328"
      ]
     },
     "metadata": {},
     "output_type": "display_data"
    },
    {
     "name": "stdout",
     "output_type": "stream",
     "text": [
      "Epoch : 8, Batch : 327 / 328, Loss : 4.104188, Perplexity : 60.593548, Time : 27.066830\n"
     ]
    },
    {
     "data": {
      "text/html": [
       "<div><progress style=width:\"60ex\" max=\"29\" value=\"29\" class=\"Progress-main\"/></progress>\n",
       "<span class=\"Progress-label\"><strong>100%</strong></span>\n",
       "<span class=\"Iteration-label\">29/29</span>\n",
       "<span class=\"Time-label\">[0.04<0.86, 0.03s/it]</span></div>"
      ],
      "text/plain": [
       "[============================================================] 29/29"
      ]
     },
     "metadata": {},
     "output_type": "display_data"
    },
    {
     "name": "stdout",
     "output_type": "stream",
     "text": [
      "Validation Loss : 4.854182\n",
      "Validation Perplexity : 128.275685\n",
      "Start epoch 9, learning rate 0.000863 \n",
      "2\n"
     ]
    },
    {
     "data": {
      "text/html": [
       "<div><progress style=width:\"60ex\" max=\"328\" value=\"328\" class=\"Progress-main\"/></progress>\n",
       "<span class=\"Progress-label\"><strong>100%</strong></span>\n",
       "<span class=\"Iteration-label\">327/328</span>\n",
       "<span class=\"Time-label\">[0.07<27.12, 0.08s/it]</span></div>"
      ],
      "text/plain": [
       "[============================================================] 328/328"
      ]
     },
     "metadata": {},
     "output_type": "display_data"
    },
    {
     "name": "stdout",
     "output_type": "stream",
     "text": [
      "Epoch : 9, Batch : 327 / 328, Loss : 3.924664, Perplexity : 50.636052, Time : 27.156511\n"
     ]
    },
    {
     "data": {
      "text/html": [
       "<div><progress style=width:\"60ex\" max=\"29\" value=\"29\" class=\"Progress-main\"/></progress>\n",
       "<span class=\"Progress-label\"><strong>100%</strong></span>\n",
       "<span class=\"Iteration-label\">29/29</span>\n",
       "<span class=\"Time-label\">[0.04<0.87, 0.03s/it]</span></div>"
      ],
      "text/plain": [
       "[============================================================] 29/29"
      ]
     },
     "metadata": {},
     "output_type": "display_data"
    },
    {
     "name": "stdout",
     "output_type": "stream",
     "text": [
      "Validation Loss : 4.892143\n",
      "Validation Perplexity : 133.238832\n",
      "Start epoch 10, learning rate 0.000813 \n",
      "2\n"
     ]
    },
    {
     "data": {
      "text/html": [
       "<div><progress style=width:\"60ex\" max=\"328\" value=\"328\" class=\"Progress-main\"/></progress>\n",
       "<span class=\"Progress-label\"><strong>100%</strong></span>\n",
       "<span class=\"Iteration-label\">327/328</span>\n",
       "<span class=\"Time-label\">[0.09<27.20, 0.08s/it]</span></div>"
      ],
      "text/plain": [
       "[============================================================] 328/328"
      ]
     },
     "metadata": {},
     "output_type": "display_data"
    },
    {
     "name": "stdout",
     "output_type": "stream",
     "text": [
      "Epoch : 10, Batch : 327 / 328, Loss : 3.763871, Perplexity : 43.114997, Time : 27.238722\n"
     ]
    },
    {
     "data": {
      "text/html": [
       "<div><progress style=width:\"60ex\" max=\"29\" value=\"29\" class=\"Progress-main\"/></progress>\n",
       "<span class=\"Progress-label\"><strong>100%</strong></span>\n",
       "<span class=\"Iteration-label\">29/29</span>\n",
       "<span class=\"Time-label\">[0.04<0.88, 0.03s/it]</span></div>"
      ],
      "text/plain": [
       "[============================================================] 29/29"
      ]
     },
     "metadata": {},
     "output_type": "display_data"
    },
    {
     "name": "stdout",
     "output_type": "stream",
     "text": [
      "Validation Loss : 4.916912\n",
      "Validation Perplexity : 136.580269\n",
      "Start epoch 11, learning rate 0.000772 \n",
      "2\n"
     ]
    },
    {
     "data": {
      "text/html": [
       "<div><progress style=width:\"60ex\" max=\"328\" value=\"328\" class=\"Progress-main\"/></progress>\n",
       "<span class=\"Progress-label\"><strong>100%</strong></span>\n",
       "<span class=\"Iteration-label\">327/328</span>\n",
       "<span class=\"Time-label\">[0.08<27.19, 0.08s/it]</span></div>"
      ],
      "text/plain": [
       "[============================================================] 328/328"
      ]
     },
     "metadata": {},
     "output_type": "display_data"
    },
    {
     "name": "stdout",
     "output_type": "stream",
     "text": [
      "Epoch : 11, Batch : 327 / 328, Loss : 3.619289, Perplexity : 37.311012, Time : 27.229854\n"
     ]
    },
    {
     "data": {
      "text/html": [
       "<div><progress style=width:\"60ex\" max=\"29\" value=\"29\" class=\"Progress-main\"/></progress>\n",
       "<span class=\"Progress-label\"><strong>100%</strong></span>\n",
       "<span class=\"Iteration-label\">29/29</span>\n",
       "<span class=\"Time-label\">[0.04<0.87, 0.03s/it]</span></div>"
      ],
      "text/plain": [
       "[============================================================] 29/29"
      ]
     },
     "metadata": {},
     "output_type": "display_data"
    },
    {
     "name": "stdout",
     "output_type": "stream",
     "text": [
      "Validation Loss : 4.954940\n",
      "Validation Perplexity : 141.874046\n",
      "Start epoch 12, learning rate 0.000736 \n",
      "2\n"
     ]
    },
    {
     "data": {
      "text/html": [
       "<div><progress style=width:\"60ex\" max=\"328\" value=\"328\" class=\"Progress-main\"/></progress>\n",
       "<span class=\"Progress-label\"><strong>100%</strong></span>\n",
       "<span class=\"Iteration-label\">327/328</span>\n",
       "<span class=\"Time-label\">[0.11<27.09, 0.08s/it]</span></div>"
      ],
      "text/plain": [
       "[============================================================] 328/328"
      ]
     },
     "metadata": {},
     "output_type": "display_data"
    },
    {
     "name": "stdout",
     "output_type": "stream",
     "text": [
      "Epoch : 12, Batch : 327 / 328, Loss : 3.487296, Perplexity : 32.697401, Time : 27.129731\n"
     ]
    },
    {
     "data": {
      "text/html": [
       "<div><progress style=width:\"60ex\" max=\"29\" value=\"29\" class=\"Progress-main\"/></progress>\n",
       "<span class=\"Progress-label\"><strong>100%</strong></span>\n",
       "<span class=\"Iteration-label\">29/29</span>\n",
       "<span class=\"Time-label\">[0.04<0.87, 0.03s/it]</span></div>"
      ],
      "text/plain": [
       "[============================================================] 29/29"
      ]
     },
     "metadata": {},
     "output_type": "display_data"
    },
    {
     "name": "stdout",
     "output_type": "stream",
     "text": [
      "Validation Loss : 5.014236\n",
      "Validation Perplexity : 150.541132\n",
      "Start epoch 13, learning rate 0.000704 \n",
      "2\n"
     ]
    },
    {
     "data": {
      "text/html": [
       "<div><progress style=width:\"60ex\" max=\"328\" value=\"328\" class=\"Progress-main\"/></progress>\n",
       "<span class=\"Progress-label\"><strong>100%</strong></span>\n",
       "<span class=\"Iteration-label\">327/328</span>\n",
       "<span class=\"Time-label\">[0.08<27.05, 0.08s/it]</span></div>"
      ],
      "text/plain": [
       "[============================================================] 328/328"
      ]
     },
     "metadata": {},
     "output_type": "display_data"
    },
    {
     "name": "stdout",
     "output_type": "stream",
     "text": [
      "Epoch : 13, Batch : 327 / 328, Loss : 3.365137, Perplexity : 28.937452, Time : 27.084126\n"
     ]
    },
    {
     "data": {
      "text/html": [
       "<div><progress style=width:\"60ex\" max=\"29\" value=\"29\" class=\"Progress-main\"/></progress>\n",
       "<span class=\"Progress-label\"><strong>100%</strong></span>\n",
       "<span class=\"Iteration-label\">29/29</span>\n",
       "<span class=\"Time-label\">[0.04<0.87, 0.03s/it]</span></div>"
      ],
      "text/plain": [
       "[============================================================] 29/29"
      ]
     },
     "metadata": {},
     "output_type": "display_data"
    },
    {
     "name": "stdout",
     "output_type": "stream",
     "text": [
      "Validation Loss : 5.091677\n",
      "Validation Perplexity : 162.662390\n",
      "Start epoch 14, learning rate 0.000677 \n",
      "2\n"
     ]
    },
    {
     "data": {
      "text/html": [
       "<div><progress style=width:\"60ex\" max=\"328\" value=\"328\" class=\"Progress-main\"/></progress>\n",
       "<span class=\"Progress-label\"><strong>100%</strong></span>\n",
       "<span class=\"Iteration-label\">327/328</span>\n",
       "<span class=\"Time-label\">[0.10<27.09, 0.08s/it]</span></div>"
      ],
      "text/plain": [
       "[============================================================] 328/328"
      ]
     },
     "metadata": {},
     "output_type": "display_data"
    },
    {
     "name": "stdout",
     "output_type": "stream",
     "text": [
      "Epoch : 14, Batch : 327 / 328, Loss : 3.252177, Perplexity : 25.846550, Time : 27.125109\n"
     ]
    },
    {
     "data": {
      "text/html": [
       "<div><progress style=width:\"60ex\" max=\"29\" value=\"29\" class=\"Progress-main\"/></progress>\n",
       "<span class=\"Progress-label\"><strong>100%</strong></span>\n",
       "<span class=\"Iteration-label\">29/29</span>\n",
       "<span class=\"Time-label\">[0.04<0.87, 0.03s/it]</span></div>"
      ],
      "text/plain": [
       "[============================================================] 29/29"
      ]
     },
     "metadata": {},
     "output_type": "display_data"
    },
    {
     "name": "stdout",
     "output_type": "stream",
     "text": [
      "Validation Loss : 5.143655\n",
      "Validation Perplexity : 171.340891\n",
      "Start epoch 15, learning rate 0.000652 \n",
      "2\n"
     ]
    },
    {
     "data": {
      "text/html": [
       "<div><progress style=width:\"60ex\" max=\"328\" value=\"328\" class=\"Progress-main\"/></progress>\n",
       "<span class=\"Progress-label\"><strong>100%</strong></span>\n",
       "<span class=\"Iteration-label\">327/328</span>\n",
       "<span class=\"Time-label\">[0.08<27.11, 0.08s/it]</span></div>"
      ],
      "text/plain": [
       "[============================================================] 328/328"
      ]
     },
     "metadata": {},
     "output_type": "display_data"
    },
    {
     "name": "stdout",
     "output_type": "stream",
     "text": [
      "Epoch : 15, Batch : 327 / 328, Loss : 3.151060, Perplexity : 23.360821, Time : 27.142206\n"
     ]
    },
    {
     "data": {
      "text/html": [
       "<div><progress style=width:\"60ex\" max=\"29\" value=\"29\" class=\"Progress-main\"/></progress>\n",
       "<span class=\"Progress-label\"><strong>100%</strong></span>\n",
       "<span class=\"Iteration-label\">29/29</span>\n",
       "<span class=\"Time-label\">[0.04<0.86, 0.03s/it]</span></div>"
      ],
      "text/plain": [
       "[============================================================] 29/29"
      ]
     },
     "metadata": {},
     "output_type": "display_data"
    },
    {
     "name": "stdout",
     "output_type": "stream",
     "text": [
      "Validation Loss : 5.197637\n",
      "Validation Perplexity : 180.844481\n",
      "Start epoch 16, learning rate 0.000630 \n",
      "2\n"
     ]
    },
    {
     "data": {
      "text/html": [
       "<div><progress style=width:\"60ex\" max=\"328\" value=\"328\" class=\"Progress-main\"/></progress>\n",
       "<span class=\"Progress-label\"><strong>100%</strong></span>\n",
       "<span class=\"Iteration-label\">327/328</span>\n",
       "<span class=\"Time-label\">[0.10<27.10, 0.08s/it]</span></div>"
      ],
      "text/plain": [
       "[============================================================] 328/328"
      ]
     },
     "metadata": {},
     "output_type": "display_data"
    },
    {
     "name": "stdout",
     "output_type": "stream",
     "text": [
      "Epoch : 16, Batch : 327 / 328, Loss : 3.056220, Perplexity : 21.247094, Time : 27.132669\n"
     ]
    },
    {
     "data": {
      "text/html": [
       "<div><progress style=width:\"60ex\" max=\"29\" value=\"29\" class=\"Progress-main\"/></progress>\n",
       "<span class=\"Progress-label\"><strong>100%</strong></span>\n",
       "<span class=\"Iteration-label\">29/29</span>\n",
       "<span class=\"Time-label\">[0.04<0.87, 0.03s/it]</span></div>"
      ],
      "text/plain": [
       "[============================================================] 29/29"
      ]
     },
     "metadata": {},
     "output_type": "display_data"
    },
    {
     "name": "stdout",
     "output_type": "stream",
     "text": [
      "Validation Loss : 5.248883\n",
      "Validation Perplexity : 190.353544\n",
      "Start epoch 17, learning rate 0.000610 \n",
      "2\n"
     ]
    },
    {
     "data": {
      "text/html": [
       "<div><progress style=width:\"60ex\" max=\"328\" value=\"328\" class=\"Progress-main\"/></progress>\n",
       "<span class=\"Progress-label\"><strong>100%</strong></span>\n",
       "<span class=\"Iteration-label\">327/328</span>\n",
       "<span class=\"Time-label\">[0.08<27.05, 0.08s/it]</span></div>"
      ],
      "text/plain": [
       "[============================================================] 328/328"
      ]
     },
     "metadata": {},
     "output_type": "display_data"
    },
    {
     "name": "stdout",
     "output_type": "stream",
     "text": [
      "Epoch : 17, Batch : 327 / 328, Loss : 2.970233, Perplexity : 19.496454, Time : 27.081261\n"
     ]
    },
    {
     "data": {
      "text/html": [
       "<div><progress style=width:\"60ex\" max=\"29\" value=\"29\" class=\"Progress-main\"/></progress>\n",
       "<span class=\"Progress-label\"><strong>100%</strong></span>\n",
       "<span class=\"Iteration-label\">29/29</span>\n",
       "<span class=\"Time-label\">[0.04<0.85, 0.03s/it]</span></div>"
      ],
      "text/plain": [
       "[============================================================] 29/29"
      ]
     },
     "metadata": {},
     "output_type": "display_data"
    },
    {
     "name": "stdout",
     "output_type": "stream",
     "text": [
      "Validation Loss : 5.308233\n",
      "Validation Perplexity : 201.992997\n",
      "Start epoch 18, learning rate 0.000592 \n",
      "2\n"
     ]
    },
    {
     "data": {
      "text/html": [
       "<div><progress style=width:\"60ex\" max=\"328\" value=\"328\" class=\"Progress-main\"/></progress>\n",
       "<span class=\"Progress-label\"><strong>100%</strong></span>\n",
       "<span class=\"Iteration-label\">327/328</span>\n",
       "<span class=\"Time-label\">[0.08<27.21, 0.08s/it]</span></div>"
      ],
      "text/plain": [
       "[============================================================] 328/328"
      ]
     },
     "metadata": {},
     "output_type": "display_data"
    },
    {
     "name": "stdout",
     "output_type": "stream",
     "text": [
      "Epoch : 18, Batch : 327 / 328, Loss : 2.891288, Perplexity : 18.016504, Time : 27.247175\n"
     ]
    },
    {
     "data": {
      "text/html": [
       "<div><progress style=width:\"60ex\" max=\"29\" value=\"29\" class=\"Progress-main\"/></progress>\n",
       "<span class=\"Progress-label\"><strong>100%</strong></span>\n",
       "<span class=\"Iteration-label\">29/29</span>\n",
       "<span class=\"Time-label\">[0.04<1.02, 0.04s/it]</span></div>"
      ],
      "text/plain": [
       "[============================================================] 29/29"
      ]
     },
     "metadata": {},
     "output_type": "display_data"
    },
    {
     "name": "stdout",
     "output_type": "stream",
     "text": [
      "Validation Loss : 5.378051\n",
      "Validation Perplexity : 216.599740\n",
      "Start epoch 19, learning rate 0.000575 \n",
      "2\n"
     ]
    },
    {
     "data": {
      "text/html": [
       "<div><progress style=width:\"60ex\" max=\"328\" value=\"328\" class=\"Progress-main\"/></progress>\n",
       "<span class=\"Progress-label\"><strong>100%</strong></span>\n",
       "<span class=\"Iteration-label\">327/328</span>\n",
       "<span class=\"Time-label\">[0.08<27.06, 0.08s/it]</span></div>"
      ],
      "text/plain": [
       "[============================================================] 328/328"
      ]
     },
     "metadata": {},
     "output_type": "display_data"
    },
    {
     "name": "stdout",
     "output_type": "stream",
     "text": [
      "Epoch : 19, Batch : 327 / 328, Loss : 2.819584, Perplexity : 16.769868, Time : 27.090880\n"
     ]
    },
    {
     "data": {
      "text/html": [
       "<div><progress style=width:\"60ex\" max=\"29\" value=\"29\" class=\"Progress-main\"/></progress>\n",
       "<span class=\"Progress-label\"><strong>100%</strong></span>\n",
       "<span class=\"Iteration-label\">29/29</span>\n",
       "<span class=\"Time-label\">[0.04<0.86, 0.03s/it]</span></div>"
      ],
      "text/plain": [
       "[============================================================] 29/29"
      ]
     },
     "metadata": {},
     "output_type": "display_data"
    },
    {
     "name": "stdout",
     "output_type": "stream",
     "text": [
      "Validation Loss : 5.448691\n",
      "Validation Perplexity : 232.453686\n",
      "Start epoch 20, learning rate 0.000560 \n",
      "2\n"
     ]
    },
    {
     "data": {
      "text/html": [
       "<div><progress style=width:\"60ex\" max=\"328\" value=\"328\" class=\"Progress-main\"/></progress>\n",
       "<span class=\"Progress-label\"><strong>100%</strong></span>\n",
       "<span class=\"Iteration-label\">327/328</span>\n",
       "<span class=\"Time-label\">[0.08<26.97, 0.08s/it]</span></div>"
      ],
      "text/plain": [
       "[============================================================] 328/328"
      ]
     },
     "metadata": {},
     "output_type": "display_data"
    },
    {
     "name": "stdout",
     "output_type": "stream",
     "text": [
      "Epoch : 20, Batch : 327 / 328, Loss : 2.752951, Perplexity : 15.688862, Time : 27.009162\n"
     ]
    },
    {
     "data": {
      "text/html": [
       "<div><progress style=width:\"60ex\" max=\"29\" value=\"29\" class=\"Progress-main\"/></progress>\n",
       "<span class=\"Progress-label\"><strong>100%</strong></span>\n",
       "<span class=\"Iteration-label\">29/29</span>\n",
       "<span class=\"Time-label\">[0.04<0.85, 0.03s/it]</span></div>"
      ],
      "text/plain": [
       "[============================================================] 29/29"
      ]
     },
     "metadata": {},
     "output_type": "display_data"
    },
    {
     "name": "stdout",
     "output_type": "stream",
     "text": [
      "Validation Loss : 5.488341\n",
      "Validation Perplexity : 241.855636\n",
      "Start epoch 21, learning rate 0.000546 \n",
      "2\n"
     ]
    },
    {
     "data": {
      "text/html": [
       "<div><progress style=width:\"60ex\" max=\"328\" value=\"328\" class=\"Progress-main\"/></progress>\n",
       "<span class=\"Progress-label\"><strong>100%</strong></span>\n",
       "<span class=\"Iteration-label\">327/328</span>\n",
       "<span class=\"Time-label\">[0.10<27.22, 0.08s/it]</span></div>"
      ],
      "text/plain": [
       "[============================================================] 328/328"
      ]
     },
     "metadata": {},
     "output_type": "display_data"
    },
    {
     "name": "stdout",
     "output_type": "stream",
     "text": [
      "Epoch : 21, Batch : 327 / 328, Loss : 2.688037, Perplexity : 14.702790, Time : 27.252764\n"
     ]
    },
    {
     "data": {
      "text/html": [
       "<div><progress style=width:\"60ex\" max=\"29\" value=\"29\" class=\"Progress-main\"/></progress>\n",
       "<span class=\"Progress-label\"><strong>100%</strong></span>\n",
       "<span class=\"Iteration-label\">29/29</span>\n",
       "<span class=\"Time-label\">[0.04<0.88, 0.03s/it]</span></div>"
      ],
      "text/plain": [
       "[============================================================] 29/29"
      ]
     },
     "metadata": {},
     "output_type": "display_data"
    },
    {
     "name": "stdout",
     "output_type": "stream",
     "text": [
      "Validation Loss : 5.538740\n",
      "Validation Perplexity : 254.357339\n",
      "Start epoch 22, learning rate 0.000532 \n",
      "2\n"
     ]
    },
    {
     "data": {
      "text/html": [
       "<div><progress style=width:\"60ex\" max=\"328\" value=\"328\" class=\"Progress-main\"/></progress>\n",
       "<span class=\"Progress-label\"><strong>100%</strong></span>\n",
       "<span class=\"Iteration-label\">327/328</span>\n",
       "<span class=\"Time-label\">[0.08<27.16, 0.08s/it]</span></div>"
      ],
      "text/plain": [
       "[============================================================] 328/328"
      ]
     },
     "metadata": {},
     "output_type": "display_data"
    },
    {
     "name": "stdout",
     "output_type": "stream",
     "text": [
      "Epoch : 22, Batch : 327 / 328, Loss : 2.631624, Perplexity : 13.896314, Time : 27.195158\n"
     ]
    },
    {
     "data": {
      "text/html": [
       "<div><progress style=width:\"60ex\" max=\"29\" value=\"29\" class=\"Progress-main\"/></progress>\n",
       "<span class=\"Progress-label\"><strong>100%</strong></span>\n",
       "<span class=\"Iteration-label\">29/29</span>\n",
       "<span class=\"Time-label\">[0.04<0.86, 0.03s/it]</span></div>"
      ],
      "text/plain": [
       "[============================================================] 29/29"
      ]
     },
     "metadata": {},
     "output_type": "display_data"
    },
    {
     "name": "stdout",
     "output_type": "stream",
     "text": [
      "Validation Loss : 5.590573\n",
      "Validation Perplexity : 267.889181\n",
      "Start epoch 23, learning rate 0.000520 \n",
      "2\n"
     ]
    },
    {
     "data": {
      "text/html": [
       "<div><progress style=width:\"60ex\" max=\"328\" value=\"328\" class=\"Progress-main\"/></progress>\n",
       "<span class=\"Progress-label\"><strong>100%</strong></span>\n",
       "<span class=\"Iteration-label\">327/328</span>\n",
       "<span class=\"Time-label\">[0.09<27.09, 0.08s/it]</span></div>"
      ],
      "text/plain": [
       "[============================================================] 328/328"
      ]
     },
     "metadata": {},
     "output_type": "display_data"
    },
    {
     "name": "stdout",
     "output_type": "stream",
     "text": [
      "Epoch : 23, Batch : 327 / 328, Loss : 2.577792, Perplexity : 13.168024, Time : 27.125402\n"
     ]
    },
    {
     "data": {
      "text/html": [
       "<div><progress style=width:\"60ex\" max=\"29\" value=\"29\" class=\"Progress-main\"/></progress>\n",
       "<span class=\"Progress-label\"><strong>100%</strong></span>\n",
       "<span class=\"Iteration-label\">29/29</span>\n",
       "<span class=\"Time-label\">[0.04<0.87, 0.03s/it]</span></div>"
      ],
      "text/plain": [
       "[============================================================] 29/29"
      ]
     },
     "metadata": {},
     "output_type": "display_data"
    },
    {
     "name": "stdout",
     "output_type": "stream",
     "text": [
      "Validation Loss : 5.642174\n",
      "Validation Perplexity : 282.075260\n",
      "Start epoch 24, learning rate 0.000509 \n",
      "2\n"
     ]
    },
    {
     "data": {
      "text/html": [
       "<div><progress style=width:\"60ex\" max=\"328\" value=\"328\" class=\"Progress-main\"/></progress>\n",
       "<span class=\"Progress-label\"><strong>100%</strong></span>\n",
       "<span class=\"Iteration-label\">327/328</span>\n",
       "<span class=\"Time-label\">[0.09<27.17, 0.08s/it]</span></div>"
      ],
      "text/plain": [
       "[============================================================] 328/328"
      ]
     },
     "metadata": {},
     "output_type": "display_data"
    },
    {
     "name": "stdout",
     "output_type": "stream",
     "text": [
      "Epoch : 24, Batch : 327 / 328, Loss : 2.529212, Perplexity : 12.543618, Time : 27.209643\n"
     ]
    },
    {
     "data": {
      "text/html": [
       "<div><progress style=width:\"60ex\" max=\"29\" value=\"29\" class=\"Progress-main\"/></progress>\n",
       "<span class=\"Progress-label\"><strong>100%</strong></span>\n",
       "<span class=\"Iteration-label\">29/29</span>\n",
       "<span class=\"Time-label\">[0.04<0.88, 0.03s/it]</span></div>"
      ],
      "text/plain": [
       "[============================================================] 29/29"
      ]
     },
     "metadata": {},
     "output_type": "display_data"
    },
    {
     "name": "stdout",
     "output_type": "stream",
     "text": [
      "Validation Loss : 5.681014\n",
      "Validation Perplexity : 293.246591\n",
      "Start epoch 25, learning rate 0.000498 \n",
      "2\n"
     ]
    },
    {
     "data": {
      "text/html": [
       "<div><progress style=width:\"60ex\" max=\"328\" value=\"328\" class=\"Progress-main\"/></progress>\n",
       "<span class=\"Progress-label\"><strong>100%</strong></span>\n",
       "<span class=\"Iteration-label\">327/328</span>\n",
       "<span class=\"Time-label\">[0.08<27.11, 0.08s/it]</span></div>"
      ],
      "text/plain": [
       "[============================================================] 328/328"
      ]
     },
     "metadata": {},
     "output_type": "display_data"
    },
    {
     "name": "stdout",
     "output_type": "stream",
     "text": [
      "Epoch : 25, Batch : 327 / 328, Loss : 2.480861, Perplexity : 11.951548, Time : 27.151124\n"
     ]
    },
    {
     "data": {
      "text/html": [
       "<div><progress style=width:\"60ex\" max=\"29\" value=\"29\" class=\"Progress-main\"/></progress>\n",
       "<span class=\"Progress-label\"><strong>100%</strong></span>\n",
       "<span class=\"Iteration-label\">29/29</span>\n",
       "<span class=\"Time-label\">[0.04<0.88, 0.03s/it]</span></div>"
      ],
      "text/plain": [
       "[============================================================] 29/29"
      ]
     },
     "metadata": {},
     "output_type": "display_data"
    },
    {
     "name": "stdout",
     "output_type": "stream",
     "text": [
      "Validation Loss : 5.725553\n",
      "Validation Perplexity : 306.602645\n",
      "Start epoch 26, learning rate 0.000488 \n",
      "2\n"
     ]
    },
    {
     "data": {
      "text/html": [
       "<div><progress style=width:\"60ex\" max=\"328\" value=\"328\" class=\"Progress-main\"/></progress>\n",
       "<span class=\"Progress-label\"><strong>100%</strong></span>\n",
       "<span class=\"Iteration-label\">327/328</span>\n",
       "<span class=\"Time-label\">[0.09<27.23, 0.08s/it]</span></div>"
      ],
      "text/plain": [
       "[============================================================] 328/328"
      ]
     },
     "metadata": {},
     "output_type": "display_data"
    },
    {
     "name": "stdout",
     "output_type": "stream",
     "text": [
      "Epoch : 26, Batch : 327 / 328, Loss : 2.439221, Perplexity : 11.464106, Time : 27.270407\n"
     ]
    },
    {
     "data": {
      "text/html": [
       "<div><progress style=width:\"60ex\" max=\"29\" value=\"29\" class=\"Progress-main\"/></progress>\n",
       "<span class=\"Progress-label\"><strong>100%</strong></span>\n",
       "<span class=\"Iteration-label\">29/29</span>\n",
       "<span class=\"Time-label\">[0.04<0.87, 0.03s/it]</span></div>"
      ],
      "text/plain": [
       "[============================================================] 29/29"
      ]
     },
     "metadata": {},
     "output_type": "display_data"
    },
    {
     "name": "stdout",
     "output_type": "stream",
     "text": [
      "Validation Loss : 5.772868\n",
      "Validation Perplexity : 321.458384\n",
      "Start epoch 27, learning rate 0.000479 \n",
      "2\n"
     ]
    },
    {
     "data": {
      "text/html": [
       "<div><progress style=width:\"60ex\" max=\"328\" value=\"328\" class=\"Progress-main\"/></progress>\n",
       "<span class=\"Progress-label\"><strong>100%</strong></span>\n",
       "<span class=\"Iteration-label\">327/328</span>\n",
       "<span class=\"Time-label\">[0.08<27.11, 0.08s/it]</span></div>"
      ],
      "text/plain": [
       "[============================================================] 328/328"
      ]
     },
     "metadata": {},
     "output_type": "display_data"
    },
    {
     "name": "stdout",
     "output_type": "stream",
     "text": [
      "Epoch : 27, Batch : 327 / 328, Loss : 2.399350, Perplexity : 11.016019, Time : 27.143059\n"
     ]
    },
    {
     "data": {
      "text/html": [
       "<div><progress style=width:\"60ex\" max=\"29\" value=\"29\" class=\"Progress-main\"/></progress>\n",
       "<span class=\"Progress-label\"><strong>100%</strong></span>\n",
       "<span class=\"Iteration-label\">29/29</span>\n",
       "<span class=\"Time-label\">[0.04<0.86, 0.03s/it]</span></div>"
      ],
      "text/plain": [
       "[============================================================] 29/29"
      ]
     },
     "metadata": {},
     "output_type": "display_data"
    },
    {
     "name": "stdout",
     "output_type": "stream",
     "text": [
      "Validation Loss : 5.826759\n",
      "Validation Perplexity : 339.257382\n",
      "Start epoch 28, learning rate 0.000470 \n",
      "2\n"
     ]
    },
    {
     "data": {
      "text/html": [
       "<div><progress style=width:\"60ex\" max=\"328\" value=\"328\" class=\"Progress-main\"/></progress>\n",
       "<span class=\"Progress-label\"><strong>100%</strong></span>\n",
       "<span class=\"Iteration-label\">327/328</span>\n",
       "<span class=\"Time-label\">[0.07<26.94, 0.08s/it]</span></div>"
      ],
      "text/plain": [
       "[============================================================] 328/328"
      ]
     },
     "metadata": {},
     "output_type": "display_data"
    },
    {
     "name": "stdout",
     "output_type": "stream",
     "text": [
      "Epoch : 28, Batch : 327 / 328, Loss : 2.359158, Perplexity : 10.582040, Time : 26.970661\n"
     ]
    },
    {
     "data": {
      "text/html": [
       "<div><progress style=width:\"60ex\" max=\"29\" value=\"29\" class=\"Progress-main\"/></progress>\n",
       "<span class=\"Progress-label\"><strong>100%</strong></span>\n",
       "<span class=\"Iteration-label\">29/29</span>\n",
       "<span class=\"Time-label\">[0.04<0.86, 0.03s/it]</span></div>"
      ],
      "text/plain": [
       "[============================================================] 29/29"
      ]
     },
     "metadata": {},
     "output_type": "display_data"
    },
    {
     "name": "stdout",
     "output_type": "stream",
     "text": [
      "Validation Loss : 5.863462\n",
      "Validation Perplexity : 351.940596\n",
      "Start epoch 29, learning rate 0.000461 \n",
      "2\n"
     ]
    },
    {
     "data": {
      "text/html": [
       "<div><progress style=width:\"60ex\" max=\"328\" value=\"328\" class=\"Progress-main\"/></progress>\n",
       "<span class=\"Progress-label\"><strong>100%</strong></span>\n",
       "<span class=\"Iteration-label\">327/328</span>\n",
       "<span class=\"Time-label\">[0.08<27.15, 0.08s/it]</span></div>"
      ],
      "text/plain": [
       "[============================================================] 328/328"
      ]
     },
     "metadata": {},
     "output_type": "display_data"
    },
    {
     "name": "stdout",
     "output_type": "stream",
     "text": [
      "Epoch : 29, Batch : 327 / 328, Loss : 2.326607, Perplexity : 10.243132, Time : 27.187175\n"
     ]
    },
    {
     "data": {
      "text/html": [
       "<div><progress style=width:\"60ex\" max=\"29\" value=\"29\" class=\"Progress-main\"/></progress>\n",
       "<span class=\"Progress-label\"><strong>100%</strong></span>\n",
       "<span class=\"Iteration-label\">29/29</span>\n",
       "<span class=\"Time-label\">[0.04<0.89, 0.03s/it]</span></div>"
      ],
      "text/plain": [
       "[============================================================] 29/29"
      ]
     },
     "metadata": {},
     "output_type": "display_data"
    },
    {
     "name": "stdout",
     "output_type": "stream",
     "text": [
      "Validation Loss : 5.901393\n",
      "Validation Perplexity : 365.546374\n",
      "Start epoch 30, learning rate 0.000453 \n",
      "2\n"
     ]
    },
    {
     "data": {
      "text/html": [
       "<div><progress style=width:\"60ex\" max=\"328\" value=\"328\" class=\"Progress-main\"/></progress>\n",
       "<span class=\"Progress-label\"><strong>100%</strong></span>\n",
       "<span class=\"Iteration-label\">327/328</span>\n",
       "<span class=\"Time-label\">[0.08<27.33, 0.08s/it]</span></div>"
      ],
      "text/plain": [
       "[============================================================] 328/328"
      ]
     },
     "metadata": {},
     "output_type": "display_data"
    },
    {
     "name": "stdout",
     "output_type": "stream",
     "text": [
      "Epoch : 30, Batch : 327 / 328, Loss : 2.292824, Perplexity : 9.902864, Time : 27.371835\n"
     ]
    },
    {
     "data": {
      "text/html": [
       "<div><progress style=width:\"60ex\" max=\"29\" value=\"29\" class=\"Progress-main\"/></progress>\n",
       "<span class=\"Progress-label\"><strong>100%</strong></span>\n",
       "<span class=\"Iteration-label\">29/29</span>\n",
       "<span class=\"Time-label\">[0.04<0.86, 0.03s/it]</span></div>"
      ],
      "text/plain": [
       "[============================================================] 29/29"
      ]
     },
     "metadata": {},
     "output_type": "display_data"
    },
    {
     "name": "stdout",
     "output_type": "stream",
     "text": [
      "Validation Loss : 5.932038\n",
      "Validation Perplexity : 376.921989\n",
      "Start epoch 31, learning rate 0.000446 \n",
      "2\n"
     ]
    },
    {
     "data": {
      "text/html": [
       "<div><progress style=width:\"60ex\" max=\"328\" value=\"328\" class=\"Progress-main\"/></progress>\n",
       "<span class=\"Progress-label\"><strong>100%</strong></span>\n",
       "<span class=\"Iteration-label\">327/328</span>\n",
       "<span class=\"Time-label\">[0.08<26.93, 0.08s/it]</span></div>"
      ],
      "text/plain": [
       "[============================================================] 328/328"
      ]
     },
     "metadata": {},
     "output_type": "display_data"
    },
    {
     "name": "stdout",
     "output_type": "stream",
     "text": [
      "Epoch : 31, Batch : 327 / 328, Loss : 2.258217, Perplexity : 9.566013, Time : 26.966738\n"
     ]
    },
    {
     "data": {
      "text/html": [
       "<div><progress style=width:\"60ex\" max=\"29\" value=\"29\" class=\"Progress-main\"/></progress>\n",
       "<span class=\"Progress-label\"><strong>100%</strong></span>\n",
       "<span class=\"Iteration-label\">29/29</span>\n",
       "<span class=\"Time-label\">[0.04<0.86, 0.03s/it]</span></div>"
      ],
      "text/plain": [
       "[============================================================] 29/29"
      ]
     },
     "metadata": {},
     "output_type": "display_data"
    },
    {
     "name": "stdout",
     "output_type": "stream",
     "text": [
      "Validation Loss : 5.977356\n",
      "Validation Perplexity : 394.396318\n",
      "Start epoch 32, learning rate 0.000438 \n",
      "2\n"
     ]
    },
    {
     "data": {
      "text/html": [
       "<div><progress style=width:\"60ex\" max=\"328\" value=\"328\" class=\"Progress-main\"/></progress>\n",
       "<span class=\"Progress-label\"><strong>100%</strong></span>\n",
       "<span class=\"Iteration-label\">327/328</span>\n",
       "<span class=\"Time-label\">[0.08<27.12, 0.08s/it]</span></div>"
      ],
      "text/plain": [
       "[============================================================] 328/328"
      ]
     },
     "metadata": {},
     "output_type": "display_data"
    },
    {
     "name": "stdout",
     "output_type": "stream",
     "text": [
      "Epoch : 32, Batch : 327 / 328, Loss : 2.232004, Perplexity : 9.318523, Time : 27.159499\n"
     ]
    },
    {
     "data": {
      "text/html": [
       "<div><progress style=width:\"60ex\" max=\"29\" value=\"29\" class=\"Progress-main\"/></progress>\n",
       "<span class=\"Progress-label\"><strong>100%</strong></span>\n",
       "<span class=\"Iteration-label\">29/29</span>\n",
       "<span class=\"Time-label\">[0.04<0.86, 0.03s/it]</span></div>"
      ],
      "text/plain": [
       "[============================================================] 29/29"
      ]
     },
     "metadata": {},
     "output_type": "display_data"
    },
    {
     "name": "stdout",
     "output_type": "stream",
     "text": [
      "Validation Loss : 6.001063\n",
      "Validation Perplexity : 403.858020\n",
      "Start epoch 33, learning rate 0.000431 \n",
      "2\n"
     ]
    },
    {
     "data": {
      "text/html": [
       "<div><progress style=width:\"60ex\" max=\"328\" value=\"328\" class=\"Progress-main\"/></progress>\n",
       "<span class=\"Progress-label\"><strong>100%</strong></span>\n",
       "<span class=\"Iteration-label\">327/328</span>\n",
       "<span class=\"Time-label\">[0.08<27.04, 0.08s/it]</span></div>"
      ],
      "text/plain": [
       "[============================================================] 328/328"
      ]
     },
     "metadata": {},
     "output_type": "display_data"
    },
    {
     "name": "stdout",
     "output_type": "stream",
     "text": [
      "Epoch : 33, Batch : 327 / 328, Loss : 2.200691, Perplexity : 9.031249, Time : 27.080312\n"
     ]
    },
    {
     "data": {
      "text/html": [
       "<div><progress style=width:\"60ex\" max=\"29\" value=\"29\" class=\"Progress-main\"/></progress>\n",
       "<span class=\"Progress-label\"><strong>100%</strong></span>\n",
       "<span class=\"Iteration-label\">29/29</span>\n",
       "<span class=\"Time-label\">[0.04<0.87, 0.03s/it]</span></div>"
      ],
      "text/plain": [
       "[============================================================] 29/29"
      ]
     },
     "metadata": {},
     "output_type": "display_data"
    },
    {
     "name": "stdout",
     "output_type": "stream",
     "text": [
      "Validation Loss : 6.053239\n",
      "Validation Perplexity : 425.489050\n",
      "Start epoch 34, learning rate 0.000425 \n",
      "2\n"
     ]
    },
    {
     "data": {
      "text/html": [
       "<div><progress style=width:\"60ex\" max=\"328\" value=\"328\" class=\"Progress-main\"/></progress>\n",
       "<span class=\"Progress-label\"><strong>100%</strong></span>\n",
       "<span class=\"Iteration-label\">327/328</span>\n",
       "<span class=\"Time-label\">[0.07<27.16, 0.08s/it]</span></div>"
      ],
      "text/plain": [
       "[============================================================] 328/328"
      ]
     },
     "metadata": {},
     "output_type": "display_data"
    },
    {
     "name": "stdout",
     "output_type": "stream",
     "text": [
      "Epoch : 34, Batch : 327 / 328, Loss : 2.175237, Perplexity : 8.804269, Time : 27.198309\n"
     ]
    },
    {
     "data": {
      "text/html": [
       "<div><progress style=width:\"60ex\" max=\"29\" value=\"29\" class=\"Progress-main\"/></progress>\n",
       "<span class=\"Progress-label\"><strong>100%</strong></span>\n",
       "<span class=\"Iteration-label\">29/29</span>\n",
       "<span class=\"Time-label\">[0.04<0.87, 0.03s/it]</span></div>"
      ],
      "text/plain": [
       "[============================================================] 29/29"
      ]
     },
     "metadata": {},
     "output_type": "display_data"
    },
    {
     "name": "stdout",
     "output_type": "stream",
     "text": [
      "Validation Loss : 6.078005\n",
      "Validation Perplexity : 436.158263\n",
      "Start epoch 35, learning rate 0.000418 \n",
      "2\n"
     ]
    },
    {
     "data": {
      "text/html": [
       "<div><progress style=width:\"60ex\" max=\"328\" value=\"328\" class=\"Progress-main\"/></progress>\n",
       "<span class=\"Progress-label\"><strong>100%</strong></span>\n",
       "<span class=\"Iteration-label\">327/328</span>\n",
       "<span class=\"Time-label\">[0.08<27.19, 0.08s/it]</span></div>"
      ],
      "text/plain": [
       "[============================================================] 328/328"
      ]
     },
     "metadata": {},
     "output_type": "display_data"
    },
    {
     "name": "stdout",
     "output_type": "stream",
     "text": [
      "Epoch : 35, Batch : 327 / 328, Loss : 2.148704, Perplexity : 8.573738, Time : 27.226201\n"
     ]
    },
    {
     "data": {
      "text/html": [
       "<div><progress style=width:\"60ex\" max=\"29\" value=\"29\" class=\"Progress-main\"/></progress>\n",
       "<span class=\"Progress-label\"><strong>100%</strong></span>\n",
       "<span class=\"Iteration-label\">29/29</span>\n",
       "<span class=\"Time-label\">[0.04<0.87, 0.03s/it]</span></div>"
      ],
      "text/plain": [
       "[============================================================] 29/29"
      ]
     },
     "metadata": {},
     "output_type": "display_data"
    },
    {
     "name": "stdout",
     "output_type": "stream",
     "text": [
      "Validation Loss : 6.113234\n",
      "Validation Perplexity : 451.797465\n",
      "Start epoch 36, learning rate 0.000412 \n",
      "2\n"
     ]
    },
    {
     "data": {
      "text/html": [
       "<div><progress style=width:\"60ex\" max=\"328\" value=\"328\" class=\"Progress-main\"/></progress>\n",
       "<span class=\"Progress-label\"><strong>100%</strong></span>\n",
       "<span class=\"Iteration-label\">327/328</span>\n",
       "<span class=\"Time-label\">[0.08<27.12, 0.08s/it]</span></div>"
      ],
      "text/plain": [
       "[============================================================] 328/328"
      ]
     },
     "metadata": {},
     "output_type": "display_data"
    },
    {
     "name": "stdout",
     "output_type": "stream",
     "text": [
      "Epoch : 36, Batch : 327 / 328, Loss : 2.125612, Perplexity : 8.378024, Time : 27.156723\n"
     ]
    },
    {
     "data": {
      "text/html": [
       "<div><progress style=width:\"60ex\" max=\"29\" value=\"29\" class=\"Progress-main\"/></progress>\n",
       "<span class=\"Progress-label\"><strong>100%</strong></span>\n",
       "<span class=\"Iteration-label\">29/29</span>\n",
       "<span class=\"Time-label\">[0.04<0.87, 0.03s/it]</span></div>"
      ],
      "text/plain": [
       "[============================================================] 29/29"
      ]
     },
     "metadata": {},
     "output_type": "display_data"
    },
    {
     "name": "stdout",
     "output_type": "stream",
     "text": [
      "Validation Loss : 6.138633\n",
      "Validation Perplexity : 463.419538\n",
      "Start epoch 37, learning rate 0.000407 \n",
      "2\n"
     ]
    },
    {
     "data": {
      "text/html": [
       "<div><progress style=width:\"60ex\" max=\"328\" value=\"328\" class=\"Progress-main\"/></progress>\n",
       "<span class=\"Progress-label\"><strong>100%</strong></span>\n",
       "<span class=\"Iteration-label\">327/328</span>\n",
       "<span class=\"Time-label\">[0.09<27.22, 0.08s/it]</span></div>"
      ],
      "text/plain": [
       "[============================================================] 328/328"
      ]
     },
     "metadata": {},
     "output_type": "display_data"
    },
    {
     "name": "stdout",
     "output_type": "stream",
     "text": [
      "Epoch : 37, Batch : 327 / 328, Loss : 2.102217, Perplexity : 8.184292, Time : 27.262805\n"
     ]
    },
    {
     "data": {
      "text/html": [
       "<div><progress style=width:\"60ex\" max=\"29\" value=\"29\" class=\"Progress-main\"/></progress>\n",
       "<span class=\"Progress-label\"><strong>100%</strong></span>\n",
       "<span class=\"Iteration-label\">29/29</span>\n",
       "<span class=\"Time-label\">[0.04<0.87, 0.03s/it]</span></div>"
      ],
      "text/plain": [
       "[============================================================] 29/29"
      ]
     },
     "metadata": {},
     "output_type": "display_data"
    },
    {
     "name": "stdout",
     "output_type": "stream",
     "text": [
      "Validation Loss : 6.168295\n",
      "Validation Perplexity : 477.371676\n",
      "Start epoch 38, learning rate 0.000401 \n",
      "2\n"
     ]
    },
    {
     "data": {
      "text/html": [
       "<div><progress style=width:\"60ex\" max=\"328\" value=\"328\" class=\"Progress-main\"/></progress>\n",
       "<span class=\"Progress-label\"><strong>100%</strong></span>\n",
       "<span class=\"Iteration-label\">327/328</span>\n",
       "<span class=\"Time-label\">[0.08<27.11, 0.08s/it]</span></div>"
      ],
      "text/plain": [
       "[============================================================] 328/328"
      ]
     },
     "metadata": {},
     "output_type": "display_data"
    },
    {
     "name": "stdout",
     "output_type": "stream",
     "text": [
      "Epoch : 38, Batch : 327 / 328, Loss : 2.078866, Perplexity : 7.995399, Time : 27.146727\n"
     ]
    },
    {
     "data": {
      "text/html": [
       "<div><progress style=width:\"60ex\" max=\"29\" value=\"29\" class=\"Progress-main\"/></progress>\n",
       "<span class=\"Progress-label\"><strong>100%</strong></span>\n",
       "<span class=\"Iteration-label\">29/29</span>\n",
       "<span class=\"Time-label\">[0.04<0.87, 0.03s/it]</span></div>"
      ],
      "text/plain": [
       "[============================================================] 29/29"
      ]
     },
     "metadata": {},
     "output_type": "display_data"
    },
    {
     "name": "stdout",
     "output_type": "stream",
     "text": [
      "Validation Loss : 6.213635\n",
      "Validation Perplexity : 499.513737\n",
      "Start epoch 39, learning rate 0.000396 \n",
      "2\n"
     ]
    },
    {
     "data": {
      "text/html": [
       "<div><progress style=width:\"60ex\" max=\"328\" value=\"328\" class=\"Progress-main\"/></progress>\n",
       "<span class=\"Progress-label\"><strong>100%</strong></span>\n",
       "<span class=\"Iteration-label\">327/328</span>\n",
       "<span class=\"Time-label\">[0.08<27.14, 0.08s/it]</span></div>"
      ],
      "text/plain": [
       "[============================================================] 328/328"
      ]
     },
     "metadata": {},
     "output_type": "display_data"
    },
    {
     "name": "stdout",
     "output_type": "stream",
     "text": [
      "Epoch : 39, Batch : 327 / 328, Loss : 2.055921, Perplexity : 7.814034, Time : 27.178237\n"
     ]
    },
    {
     "data": {
      "text/html": [
       "<div><progress style=width:\"60ex\" max=\"29\" value=\"29\" class=\"Progress-main\"/></progress>\n",
       "<span class=\"Progress-label\"><strong>100%</strong></span>\n",
       "<span class=\"Iteration-label\">29/29</span>\n",
       "<span class=\"Time-label\">[0.04<0.85, 0.03s/it]</span></div>"
      ],
      "text/plain": [
       "[============================================================] 29/29"
      ]
     },
     "metadata": {},
     "output_type": "display_data"
    },
    {
     "name": "stdout",
     "output_type": "stream",
     "text": [
      "Validation Loss : 6.224810\n",
      "Validation Perplexity : 505.127047\n",
      "Start epoch 40, learning rate 0.000391 \n",
      "2\n"
     ]
    },
    {
     "data": {
      "text/html": [
       "<div><progress style=width:\"60ex\" max=\"328\" value=\"328\" class=\"Progress-main\"/></progress>\n",
       "<span class=\"Progress-label\"><strong>100%</strong></span>\n",
       "<span class=\"Iteration-label\">327/328</span>\n",
       "<span class=\"Time-label\">[0.08<26.73, 0.08s/it]</span></div>"
      ],
      "text/plain": [
       "[============================================================] 328/328"
      ]
     },
     "metadata": {},
     "output_type": "display_data"
    },
    {
     "name": "stdout",
     "output_type": "stream",
     "text": [
      "Epoch : 40, Batch : 327 / 328, Loss : 2.037631, Perplexity : 7.672410, Time : 26.766756\n"
     ]
    },
    {
     "data": {
      "text/html": [
       "<div><progress style=width:\"60ex\" max=\"29\" value=\"29\" class=\"Progress-main\"/></progress>\n",
       "<span class=\"Progress-label\"><strong>100%</strong></span>\n",
       "<span class=\"Iteration-label\">29/29</span>\n",
       "<span class=\"Time-label\">[0.04<0.85, 0.03s/it]</span></div>"
      ],
      "text/plain": [
       "[============================================================] 29/29"
      ]
     },
     "metadata": {},
     "output_type": "display_data"
    },
    {
     "name": "stdout",
     "output_type": "stream",
     "text": [
      "Validation Loss : 6.255915\n",
      "Validation Perplexity : 521.085959\n",
      "Start epoch 41, learning rate 0.000386 \n",
      "2\n"
     ]
    },
    {
     "data": {
      "text/html": [
       "<div><progress style=width:\"60ex\" max=\"328\" value=\"328\" class=\"Progress-main\"/></progress>\n",
       "<span class=\"Progress-label\"><strong>100%</strong></span>\n",
       "<span class=\"Iteration-label\">327/328</span>\n",
       "<span class=\"Time-label\">[0.10<26.80, 0.08s/it]</span></div>"
      ],
      "text/plain": [
       "[============================================================] 328/328"
      ]
     },
     "metadata": {},
     "output_type": "display_data"
    },
    {
     "name": "stdout",
     "output_type": "stream",
     "text": [
      "Epoch : 41, Batch : 327 / 328, Loss : 2.017813, Perplexity : 7.521858, Time : 26.833324\n"
     ]
    },
    {
     "data": {
      "text/html": [
       "<div><progress style=width:\"60ex\" max=\"29\" value=\"29\" class=\"Progress-main\"/></progress>\n",
       "<span class=\"Progress-label\"><strong>100%</strong></span>\n",
       "<span class=\"Iteration-label\">29/29</span>\n",
       "<span class=\"Time-label\">[0.04<0.83, 0.03s/it]</span></div>"
      ],
      "text/plain": [
       "[============================================================] 29/29"
      ]
     },
     "metadata": {},
     "output_type": "display_data"
    },
    {
     "name": "stdout",
     "output_type": "stream",
     "text": [
      "Validation Loss : 6.276245\n",
      "Validation Perplexity : 531.787986\n",
      "Start epoch 42, learning rate 0.000381 \n",
      "2\n"
     ]
    },
    {
     "data": {
      "text/html": [
       "<div><progress style=width:\"60ex\" max=\"328\" value=\"328\" class=\"Progress-main\"/></progress>\n",
       "<span class=\"Progress-label\"><strong>100%</strong></span>\n",
       "<span class=\"Iteration-label\">327/328</span>\n",
       "<span class=\"Time-label\">[0.09<26.80, 0.08s/it]</span></div>"
      ],
      "text/plain": [
       "[============================================================] 328/328"
      ]
     },
     "metadata": {},
     "output_type": "display_data"
    },
    {
     "name": "stdout",
     "output_type": "stream",
     "text": [
      "Epoch : 42, Batch : 327 / 328, Loss : 1.998812, Perplexity : 7.380281, Time : 26.834451\n"
     ]
    },
    {
     "data": {
      "text/html": [
       "<div><progress style=width:\"60ex\" max=\"29\" value=\"29\" class=\"Progress-main\"/></progress>\n",
       "<span class=\"Progress-label\"><strong>100%</strong></span>\n",
       "<span class=\"Iteration-label\">29/29</span>\n",
       "<span class=\"Time-label\">[0.04<0.85, 0.03s/it]</span></div>"
      ],
      "text/plain": [
       "[============================================================] 29/29"
      ]
     },
     "metadata": {},
     "output_type": "display_data"
    },
    {
     "name": "stdout",
     "output_type": "stream",
     "text": [
      "Validation Loss : 6.307731\n",
      "Validation Perplexity : 548.798196\n",
      "Start epoch 43, learning rate 0.000377 \n",
      "2\n"
     ]
    },
    {
     "data": {
      "text/html": [
       "<div><progress style=width:\"60ex\" max=\"328\" value=\"328\" class=\"Progress-main\"/></progress>\n",
       "<span class=\"Progress-label\"><strong>100%</strong></span>\n",
       "<span class=\"Iteration-label\">327/328</span>\n",
       "<span class=\"Time-label\">[0.07<26.90, 0.08s/it]</span></div>"
      ],
      "text/plain": [
       "[============================================================] 328/328"
      ]
     },
     "metadata": {},
     "output_type": "display_data"
    },
    {
     "name": "stdout",
     "output_type": "stream",
     "text": [
      "Epoch : 43, Batch : 327 / 328, Loss : 1.981641, Perplexity : 7.254636, Time : 26.934371\n"
     ]
    },
    {
     "data": {
      "text/html": [
       "<div><progress style=width:\"60ex\" max=\"29\" value=\"29\" class=\"Progress-main\"/></progress>\n",
       "<span class=\"Progress-label\"><strong>100%</strong></span>\n",
       "<span class=\"Iteration-label\">29/29</span>\n",
       "<span class=\"Time-label\">[0.04<0.85, 0.03s/it]</span></div>"
      ],
      "text/plain": [
       "[============================================================] 29/29"
      ]
     },
     "metadata": {},
     "output_type": "display_data"
    },
    {
     "name": "stdout",
     "output_type": "stream",
     "text": [
      "Validation Loss : 6.329274\n",
      "Validation Perplexity : 560.749312\n",
      "Start epoch 44, learning rate 0.000372 \n",
      "2\n"
     ]
    },
    {
     "data": {
      "text/html": [
       "<div><progress style=width:\"60ex\" max=\"328\" value=\"328\" class=\"Progress-main\"/></progress>\n",
       "<span class=\"Progress-label\"><strong>100%</strong></span>\n",
       "<span class=\"Iteration-label\">327/328</span>\n",
       "<span class=\"Time-label\">[0.08<26.83, 0.08s/it]</span></div>"
      ],
      "text/plain": [
       "[============================================================] 328/328"
      ]
     },
     "metadata": {},
     "output_type": "display_data"
    },
    {
     "name": "stdout",
     "output_type": "stream",
     "text": [
      "Epoch : 44, Batch : 327 / 328, Loss : 1.966072, Perplexity : 7.142566, Time : 26.866119\n"
     ]
    },
    {
     "data": {
      "text/html": [
       "<div><progress style=width:\"60ex\" max=\"29\" value=\"29\" class=\"Progress-main\"/></progress>\n",
       "<span class=\"Progress-label\"><strong>100%</strong></span>\n",
       "<span class=\"Iteration-label\">29/29</span>\n",
       "<span class=\"Time-label\">[0.04<0.85, 0.03s/it]</span></div>"
      ],
      "text/plain": [
       "[============================================================] 29/29"
      ]
     },
     "metadata": {},
     "output_type": "display_data"
    },
    {
     "name": "stdout",
     "output_type": "stream",
     "text": [
      "Validation Loss : 6.347596\n",
      "Validation Perplexity : 571.118242\n",
      "Start epoch 45, learning rate 0.000368 \n",
      "2\n"
     ]
    },
    {
     "data": {
      "text/html": [
       "<div><progress style=width:\"60ex\" max=\"328\" value=\"328\" class=\"Progress-main\"/></progress>\n",
       "<span class=\"Progress-label\"><strong>100%</strong></span>\n",
       "<span class=\"Iteration-label\">327/328</span>\n",
       "<span class=\"Time-label\">[0.08<27.08, 0.08s/it]</span></div>"
      ],
      "text/plain": [
       "[============================================================] 328/328"
      ]
     },
     "metadata": {},
     "output_type": "display_data"
    },
    {
     "name": "stdout",
     "output_type": "stream",
     "text": [
      "Epoch : 45, Batch : 327 / 328, Loss : 1.947448, Perplexity : 7.010775, Time : 27.118426\n"
     ]
    },
    {
     "data": {
      "text/html": [
       "<div><progress style=width:\"60ex\" max=\"29\" value=\"29\" class=\"Progress-main\"/></progress>\n",
       "<span class=\"Progress-label\"><strong>100%</strong></span>\n",
       "<span class=\"Iteration-label\">29/29</span>\n",
       "<span class=\"Time-label\">[0.04<0.88, 0.03s/it]</span></div>"
      ],
      "text/plain": [
       "[============================================================] 29/29"
      ]
     },
     "metadata": {},
     "output_type": "display_data"
    },
    {
     "name": "stdout",
     "output_type": "stream",
     "text": [
      "Validation Loss : 6.383005\n",
      "Validation Perplexity : 591.703093\n",
      "Start epoch 46, learning rate 0.000364 \n",
      "2\n"
     ]
    },
    {
     "data": {
      "text/html": [
       "<div><progress style=width:\"60ex\" max=\"328\" value=\"328\" class=\"Progress-main\"/></progress>\n",
       "<span class=\"Progress-label\"><strong>100%</strong></span>\n",
       "<span class=\"Iteration-label\">327/328</span>\n",
       "<span class=\"Time-label\">[0.10<27.06, 0.08s/it]</span></div>"
      ],
      "text/plain": [
       "[============================================================] 328/328"
      ]
     },
     "metadata": {},
     "output_type": "display_data"
    },
    {
     "name": "stdout",
     "output_type": "stream",
     "text": [
      "Epoch : 46, Batch : 327 / 328, Loss : 1.928733, Perplexity : 6.880787, Time : 27.092984\n"
     ]
    },
    {
     "data": {
      "text/html": [
       "<div><progress style=width:\"60ex\" max=\"29\" value=\"29\" class=\"Progress-main\"/></progress>\n",
       "<span class=\"Progress-label\"><strong>100%</strong></span>\n",
       "<span class=\"Iteration-label\">29/29</span>\n",
       "<span class=\"Time-label\">[0.04<0.86, 0.03s/it]</span></div>"
      ],
      "text/plain": [
       "[============================================================] 29/29"
      ]
     },
     "metadata": {},
     "output_type": "display_data"
    },
    {
     "name": "stdout",
     "output_type": "stream",
     "text": [
      "Validation Loss : 6.407354\n",
      "Validation Perplexity : 606.287576\n",
      "Start epoch 47, learning rate 0.000360 \n",
      "2\n"
     ]
    },
    {
     "data": {
      "text/html": [
       "<div><progress style=width:\"60ex\" max=\"328\" value=\"328\" class=\"Progress-main\"/></progress>\n",
       "<span class=\"Progress-label\"><strong>100%</strong></span>\n",
       "<span class=\"Iteration-label\">327/328</span>\n",
       "<span class=\"Time-label\">[0.08<27.13, 0.08s/it]</span></div>"
      ],
      "text/plain": [
       "[============================================================] 328/328"
      ]
     },
     "metadata": {},
     "output_type": "display_data"
    },
    {
     "name": "stdout",
     "output_type": "stream",
     "text": [
      "Epoch : 47, Batch : 327 / 328, Loss : 1.914071, Perplexity : 6.780635, Time : 27.167691\n"
     ]
    },
    {
     "data": {
      "text/html": [
       "<div><progress style=width:\"60ex\" max=\"29\" value=\"29\" class=\"Progress-main\"/></progress>\n",
       "<span class=\"Progress-label\"><strong>100%</strong></span>\n",
       "<span class=\"Iteration-label\">29/29</span>\n",
       "<span class=\"Time-label\">[0.04<0.85, 0.03s/it]</span></div>"
      ],
      "text/plain": [
       "[============================================================] 29/29"
      ]
     },
     "metadata": {},
     "output_type": "display_data"
    },
    {
     "name": "stdout",
     "output_type": "stream",
     "text": [
      "Validation Loss : 6.450402\n",
      "Validation Perplexity : 632.956896\n",
      "Start epoch 48, learning rate 0.000356 \n",
      "2\n"
     ]
    },
    {
     "data": {
      "text/html": [
       "<div><progress style=width:\"60ex\" max=\"328\" value=\"328\" class=\"Progress-main\"/></progress>\n",
       "<span class=\"Progress-label\"><strong>100%</strong></span>\n",
       "<span class=\"Iteration-label\">327/328</span>\n",
       "<span class=\"Time-label\">[0.08<27.25, 0.08s/it]</span></div>"
      ],
      "text/plain": [
       "[============================================================] 328/328"
      ]
     },
     "metadata": {},
     "output_type": "display_data"
    },
    {
     "name": "stdout",
     "output_type": "stream",
     "text": [
      "Epoch : 48, Batch : 327 / 328, Loss : 1.899156, Perplexity : 6.680251, Time : 27.283344\n"
     ]
    },
    {
     "data": {
      "text/html": [
       "<div><progress style=width:\"60ex\" max=\"29\" value=\"29\" class=\"Progress-main\"/></progress>\n",
       "<span class=\"Progress-label\"><strong>100%</strong></span>\n",
       "<span class=\"Iteration-label\">29/29</span>\n",
       "<span class=\"Time-label\">[0.04<0.86, 0.03s/it]</span></div>"
      ],
      "text/plain": [
       "[============================================================] 29/29"
      ]
     },
     "metadata": {},
     "output_type": "display_data"
    },
    {
     "name": "stdout",
     "output_type": "stream",
     "text": [
      "Validation Loss : 6.454909\n",
      "Validation Perplexity : 635.815757\n",
      "Start epoch 49, learning rate 0.000352 \n",
      "2\n"
     ]
    },
    {
     "data": {
      "text/html": [
       "<div><progress style=width:\"60ex\" max=\"328\" value=\"328\" class=\"Progress-main\"/></progress>\n",
       "<span class=\"Progress-label\"><strong>100%</strong></span>\n",
       "<span class=\"Iteration-label\">327/328</span>\n",
       "<span class=\"Time-label\">[0.08<27.05, 0.08s/it]</span></div>"
      ],
      "text/plain": [
       "[============================================================] 328/328"
      ]
     },
     "metadata": {},
     "output_type": "display_data"
    },
    {
     "name": "stdout",
     "output_type": "stream",
     "text": [
      "Epoch : 49, Batch : 327 / 328, Loss : 1.885317, Perplexity : 6.588446, Time : 27.084816\n"
     ]
    },
    {
     "data": {
      "text/html": [
       "<div><progress style=width:\"60ex\" max=\"29\" value=\"29\" class=\"Progress-main\"/></progress>\n",
       "<span class=\"Progress-label\"><strong>100%</strong></span>\n",
       "<span class=\"Iteration-label\">29/29</span>\n",
       "<span class=\"Time-label\">[0.04<0.87, 0.03s/it]</span></div>"
      ],
      "text/plain": [
       "[============================================================] 29/29"
      ]
     },
     "metadata": {},
     "output_type": "display_data"
    },
    {
     "name": "stdout",
     "output_type": "stream",
     "text": [
      "Validation Loss : 6.466480\n",
      "Validation Perplexity : 643.215931\n",
      "Start epoch 50, learning rate 0.000349 \n",
      "2\n"
     ]
    },
    {
     "data": {
      "text/html": [
       "<div><progress style=width:\"60ex\" max=\"328\" value=\"328\" class=\"Progress-main\"/></progress>\n",
       "<span class=\"Progress-label\"><strong>100%</strong></span>\n",
       "<span class=\"Iteration-label\">327/328</span>\n",
       "<span class=\"Time-label\">[0.08<26.97, 0.08s/it]</span></div>"
      ],
      "text/plain": [
       "[============================================================] 328/328"
      ]
     },
     "metadata": {},
     "output_type": "display_data"
    },
    {
     "name": "stdout",
     "output_type": "stream",
     "text": [
      "Epoch : 50, Batch : 327 / 328, Loss : 1.868610, Perplexity : 6.479283, Time : 27.006098\n"
     ]
    },
    {
     "data": {
      "text/html": [
       "<div><progress style=width:\"60ex\" max=\"29\" value=\"29\" class=\"Progress-main\"/></progress>\n",
       "<span class=\"Progress-label\"><strong>100%</strong></span>\n",
       "<span class=\"Iteration-label\">29/29</span>\n",
       "<span class=\"Time-label\">[0.04<0.86, 0.03s/it]</span></div>"
      ],
      "text/plain": [
       "[============================================================] 29/29"
      ]
     },
     "metadata": {},
     "output_type": "display_data"
    },
    {
     "name": "stdout",
     "output_type": "stream",
     "text": [
      "Validation Loss : 6.493697\n",
      "Validation Perplexity : 660.962431\n",
      "Start epoch 51, learning rate 0.000345 \n",
      "2\n"
     ]
    },
    {
     "data": {
      "text/html": [
       "<div><progress style=width:\"60ex\" max=\"328\" value=\"328\" class=\"Progress-main\"/></progress>\n",
       "<span class=\"Progress-label\"><strong>100%</strong></span>\n",
       "<span class=\"Iteration-label\">327/328</span>\n",
       "<span class=\"Time-label\">[0.08<27.02, 0.08s/it]</span></div>"
      ],
      "text/plain": [
       "[============================================================] 328/328"
      ]
     },
     "metadata": {},
     "output_type": "display_data"
    },
    {
     "name": "stdout",
     "output_type": "stream",
     "text": [
      "Epoch : 51, Batch : 327 / 328, Loss : 1.857038, Perplexity : 6.404735, Time : 27.059994\n"
     ]
    },
    {
     "data": {
      "text/html": [
       "<div><progress style=width:\"60ex\" max=\"29\" value=\"29\" class=\"Progress-main\"/></progress>\n",
       "<span class=\"Progress-label\"><strong>100%</strong></span>\n",
       "<span class=\"Iteration-label\">29/29</span>\n",
       "<span class=\"Time-label\">[0.04<0.88, 0.03s/it]</span></div>"
      ],
      "text/plain": [
       "[============================================================] 29/29"
      ]
     },
     "metadata": {},
     "output_type": "display_data"
    },
    {
     "name": "stdout",
     "output_type": "stream",
     "text": [
      "Validation Loss : 6.512224\n",
      "Validation Perplexity : 673.321990\n",
      "Start epoch 52, learning rate 0.000342 \n",
      "2\n"
     ]
    },
    {
     "data": {
      "text/html": [
       "<div><progress style=width:\"60ex\" max=\"328\" value=\"328\" class=\"Progress-main\"/></progress>\n",
       "<span class=\"Progress-label\"><strong>100%</strong></span>\n",
       "<span class=\"Iteration-label\">327/328</span>\n",
       "<span class=\"Time-label\">[0.10<27.12, 0.08s/it]</span></div>"
      ],
      "text/plain": [
       "[============================================================] 328/328"
      ]
     },
     "metadata": {},
     "output_type": "display_data"
    },
    {
     "name": "stdout",
     "output_type": "stream",
     "text": [
      "Epoch : 52, Batch : 327 / 328, Loss : 1.843495, Perplexity : 6.318581, Time : 27.155902\n"
     ]
    },
    {
     "data": {
      "text/html": [
       "<div><progress style=width:\"60ex\" max=\"29\" value=\"29\" class=\"Progress-main\"/></progress>\n",
       "<span class=\"Progress-label\"><strong>100%</strong></span>\n",
       "<span class=\"Iteration-label\">29/29</span>\n",
       "<span class=\"Time-label\">[0.04<0.86, 0.03s/it]</span></div>"
      ],
      "text/plain": [
       "[============================================================] 29/29"
      ]
     },
     "metadata": {},
     "output_type": "display_data"
    },
    {
     "name": "stdout",
     "output_type": "stream",
     "text": [
      "Validation Loss : 6.543720\n",
      "Validation Perplexity : 694.866656\n",
      "Start epoch 53, learning rate 0.000338 \n",
      "2\n"
     ]
    },
    {
     "data": {
      "text/html": [
       "<div><progress style=width:\"60ex\" max=\"328\" value=\"328\" class=\"Progress-main\"/></progress>\n",
       "<span class=\"Progress-label\"><strong>100%</strong></span>\n",
       "<span class=\"Iteration-label\">327/328</span>\n",
       "<span class=\"Time-label\">[0.09<26.92, 0.08s/it]</span></div>"
      ],
      "text/plain": [
       "[============================================================] 328/328"
      ]
     },
     "metadata": {},
     "output_type": "display_data"
    },
    {
     "name": "stdout",
     "output_type": "stream",
     "text": [
      "Epoch : 53, Batch : 327 / 328, Loss : 1.831606, Perplexity : 6.243909, Time : 26.960401\n"
     ]
    },
    {
     "data": {
      "text/html": [
       "<div><progress style=width:\"60ex\" max=\"29\" value=\"29\" class=\"Progress-main\"/></progress>\n",
       "<span class=\"Progress-label\"><strong>100%</strong></span>\n",
       "<span class=\"Iteration-label\">29/29</span>\n",
       "<span class=\"Time-label\">[0.04<0.87, 0.03s/it]</span></div>"
      ],
      "text/plain": [
       "[============================================================] 29/29"
      ]
     },
     "metadata": {},
     "output_type": "display_data"
    },
    {
     "name": "stdout",
     "output_type": "stream",
     "text": [
      "Validation Loss : 6.567617\n",
      "Validation Perplexity : 711.671887\n",
      "Start epoch 54, learning rate 0.000335 \n",
      "2\n"
     ]
    },
    {
     "data": {
      "text/html": [
       "<div><progress style=width:\"60ex\" max=\"328\" value=\"328\" class=\"Progress-main\"/></progress>\n",
       "<span class=\"Progress-label\"><strong>100%</strong></span>\n",
       "<span class=\"Iteration-label\">327/328</span>\n",
       "<span class=\"Time-label\">[0.08<27.10, 0.08s/it]</span></div>"
      ],
      "text/plain": [
       "[============================================================] 328/328"
      ]
     },
     "metadata": {},
     "output_type": "display_data"
    },
    {
     "name": "stdout",
     "output_type": "stream",
     "text": [
      "Epoch : 54, Batch : 327 / 328, Loss : 1.818280, Perplexity : 6.161253, Time : 27.133557\n"
     ]
    },
    {
     "data": {
      "text/html": [
       "<div><progress style=width:\"60ex\" max=\"29\" value=\"29\" class=\"Progress-main\"/></progress>\n",
       "<span class=\"Progress-label\"><strong>100%</strong></span>\n",
       "<span class=\"Iteration-label\">29/29</span>\n",
       "<span class=\"Time-label\">[0.04<0.86, 0.03s/it]</span></div>"
      ],
      "text/plain": [
       "[============================================================] 29/29"
      ]
     },
     "metadata": {},
     "output_type": "display_data"
    },
    {
     "name": "stdout",
     "output_type": "stream",
     "text": [
      "Validation Loss : 6.573815\n",
      "Validation Perplexity : 716.096630\n",
      "Start epoch 55, learning rate 0.000332 \n",
      "2\n"
     ]
    },
    {
     "data": {
      "text/html": [
       "<div><progress style=width:\"60ex\" max=\"328\" value=\"328\" class=\"Progress-main\"/></progress>\n",
       "<span class=\"Progress-label\"><strong>100%</strong></span>\n",
       "<span class=\"Iteration-label\">327/328</span>\n",
       "<span class=\"Time-label\">[0.08<27.08, 0.08s/it]</span></div>"
      ],
      "text/plain": [
       "[============================================================] 328/328"
      ]
     },
     "metadata": {},
     "output_type": "display_data"
    },
    {
     "name": "stdout",
     "output_type": "stream",
     "text": [
      "Epoch : 55, Batch : 327 / 328, Loss : 1.805920, Perplexity : 6.085566, Time : 27.120699\n"
     ]
    },
    {
     "data": {
      "text/html": [
       "<div><progress style=width:\"60ex\" max=\"29\" value=\"29\" class=\"Progress-main\"/></progress>\n",
       "<span class=\"Progress-label\"><strong>100%</strong></span>\n",
       "<span class=\"Iteration-label\">29/29</span>\n",
       "<span class=\"Time-label\">[0.04<0.87, 0.03s/it]</span></div>"
      ],
      "text/plain": [
       "[============================================================] 29/29"
      ]
     },
     "metadata": {},
     "output_type": "display_data"
    },
    {
     "name": "stdout",
     "output_type": "stream",
     "text": [
      "Validation Loss : 6.602375\n",
      "Validation Perplexity : 736.842811\n",
      "Start epoch 56, learning rate 0.000329 \n",
      "2\n"
     ]
    },
    {
     "data": {
      "text/html": [
       "<div><progress style=width:\"60ex\" max=\"328\" value=\"328\" class=\"Progress-main\"/></progress>\n",
       "<span class=\"Progress-label\"><strong>100%</strong></span>\n",
       "<span class=\"Iteration-label\">327/328</span>\n",
       "<span class=\"Time-label\">[0.08<27.03, 0.08s/it]</span></div>"
      ],
      "text/plain": [
       "[============================================================] 328/328"
      ]
     },
     "metadata": {},
     "output_type": "display_data"
    },
    {
     "name": "stdout",
     "output_type": "stream",
     "text": [
      "Epoch : 56, Batch : 327 / 328, Loss : 1.792561, Perplexity : 6.004809, Time : 27.061006\n"
     ]
    },
    {
     "data": {
      "text/html": [
       "<div><progress style=width:\"60ex\" max=\"29\" value=\"29\" class=\"Progress-main\"/></progress>\n",
       "<span class=\"Progress-label\"><strong>100%</strong></span>\n",
       "<span class=\"Iteration-label\">29/29</span>\n",
       "<span class=\"Time-label\">[0.04<0.86, 0.03s/it]</span></div>"
      ],
      "text/plain": [
       "[============================================================] 29/29"
      ]
     },
     "metadata": {},
     "output_type": "display_data"
    },
    {
     "name": "stdout",
     "output_type": "stream",
     "text": [
      "Validation Loss : 6.628276\n",
      "Validation Perplexity : 756.177026\n",
      "Start epoch 57, learning rate 0.000326 \n",
      "2\n"
     ]
    },
    {
     "data": {
      "text/html": [
       "<div><progress style=width:\"60ex\" max=\"328\" value=\"328\" class=\"Progress-main\"/></progress>\n",
       "<span class=\"Progress-label\"><strong>100%</strong></span>\n",
       "<span class=\"Iteration-label\">327/328</span>\n",
       "<span class=\"Time-label\">[0.07<26.78, 0.08s/it]</span></div>"
      ],
      "text/plain": [
       "[============================================================] 328/328"
      ]
     },
     "metadata": {},
     "output_type": "display_data"
    },
    {
     "name": "stdout",
     "output_type": "stream",
     "text": [
      "Epoch : 57, Batch : 327 / 328, Loss : 1.784615, Perplexity : 5.957286, Time : 26.814238\n"
     ]
    },
    {
     "data": {
      "text/html": [
       "<div><progress style=width:\"60ex\" max=\"29\" value=\"29\" class=\"Progress-main\"/></progress>\n",
       "<span class=\"Progress-label\"><strong>100%</strong></span>\n",
       "<span class=\"Iteration-label\">29/29</span>\n",
       "<span class=\"Time-label\">[0.04<0.85, 0.03s/it]</span></div>"
      ],
      "text/plain": [
       "[============================================================] 29/29"
      ]
     },
     "metadata": {},
     "output_type": "display_data"
    },
    {
     "name": "stdout",
     "output_type": "stream",
     "text": [
      "Validation Loss : 6.636161\n",
      "Validation Perplexity : 762.163385\n",
      "Start epoch 58, learning rate 0.000323 \n",
      "2\n"
     ]
    },
    {
     "data": {
      "text/html": [
       "<div><progress style=width:\"60ex\" max=\"328\" value=\"328\" class=\"Progress-main\"/></progress>\n",
       "<span class=\"Progress-label\"><strong>100%</strong></span>\n",
       "<span class=\"Iteration-label\">327/328</span>\n",
       "<span class=\"Time-label\">[0.08<26.95, 0.08s/it]</span></div>"
      ],
      "text/plain": [
       "[============================================================] 328/328"
      ]
     },
     "metadata": {},
     "output_type": "display_data"
    },
    {
     "name": "stdout",
     "output_type": "stream",
     "text": [
      "Epoch : 58, Batch : 327 / 328, Loss : 1.774225, Perplexity : 5.895712, Time : 26.987365\n"
     ]
    },
    {
     "data": {
      "text/html": [
       "<div><progress style=width:\"60ex\" max=\"29\" value=\"29\" class=\"Progress-main\"/></progress>\n",
       "<span class=\"Progress-label\"><strong>100%</strong></span>\n",
       "<span class=\"Iteration-label\">29/29</span>\n",
       "<span class=\"Time-label\">[0.04<0.85, 0.03s/it]</span></div>"
      ],
      "text/plain": [
       "[============================================================] 29/29"
      ]
     },
     "metadata": {},
     "output_type": "display_data"
    },
    {
     "name": "stdout",
     "output_type": "stream",
     "text": [
      "Validation Loss : 6.658803\n",
      "Validation Perplexity : 779.617486\n",
      "Start epoch 59, learning rate 0.000320 \n",
      "2\n"
     ]
    },
    {
     "data": {
      "text/html": [
       "<div><progress style=width:\"60ex\" max=\"328\" value=\"328\" class=\"Progress-main\"/></progress>\n",
       "<span class=\"Progress-label\"><strong>100%</strong></span>\n",
       "<span class=\"Iteration-label\">327/328</span>\n",
       "<span class=\"Time-label\">[0.09<27.01, 0.08s/it]</span></div>"
      ],
      "text/plain": [
       "[============================================================] 328/328"
      ]
     },
     "metadata": {},
     "output_type": "display_data"
    },
    {
     "name": "stdout",
     "output_type": "stream",
     "text": [
      "Epoch : 59, Batch : 327 / 328, Loss : 1.761852, Perplexity : 5.823209, Time : 27.043524\n"
     ]
    },
    {
     "data": {
      "text/html": [
       "<div><progress style=width:\"60ex\" max=\"29\" value=\"29\" class=\"Progress-main\"/></progress>\n",
       "<span class=\"Progress-label\"><strong>100%</strong></span>\n",
       "<span class=\"Iteration-label\">29/29</span>\n",
       "<span class=\"Time-label\">[0.04<0.87, 0.03s/it]</span></div>"
      ],
      "text/plain": [
       "[============================================================] 29/29"
      ]
     },
     "metadata": {},
     "output_type": "display_data"
    },
    {
     "name": "stdout",
     "output_type": "stream",
     "text": [
      "Validation Loss : 6.673084\n",
      "Validation Perplexity : 790.830597\n",
      "Start epoch 60, learning rate 0.000318 \n",
      "2\n"
     ]
    },
    {
     "data": {
      "text/html": [
       "<div><progress style=width:\"60ex\" max=\"328\" value=\"328\" class=\"Progress-main\"/></progress>\n",
       "<span class=\"Progress-label\"><strong>100%</strong></span>\n",
       "<span class=\"Iteration-label\">327/328</span>\n",
       "<span class=\"Time-label\">[0.09<27.05, 0.08s/it]</span></div>"
      ],
      "text/plain": [
       "[============================================================] 328/328"
      ]
     },
     "metadata": {},
     "output_type": "display_data"
    },
    {
     "name": "stdout",
     "output_type": "stream",
     "text": [
      "Epoch : 60, Batch : 327 / 328, Loss : 1.751658, Perplexity : 5.764153, Time : 27.086851\n"
     ]
    },
    {
     "data": {
      "text/html": [
       "<div><progress style=width:\"60ex\" max=\"29\" value=\"29\" class=\"Progress-main\"/></progress>\n",
       "<span class=\"Progress-label\"><strong>100%</strong></span>\n",
       "<span class=\"Iteration-label\">29/29</span>\n",
       "<span class=\"Time-label\">[0.04<0.87, 0.03s/it]</span></div>"
      ],
      "text/plain": [
       "[============================================================] 29/29"
      ]
     },
     "metadata": {},
     "output_type": "display_data"
    },
    {
     "name": "stdout",
     "output_type": "stream",
     "text": [
      "Validation Loss : 6.697337\n",
      "Validation Perplexity : 810.245415\n",
      "Start epoch 61, learning rate 0.000315 \n",
      "2\n"
     ]
    },
    {
     "data": {
      "text/html": [
       "<div><progress style=width:\"60ex\" max=\"328\" value=\"328\" class=\"Progress-main\"/></progress>\n",
       "<span class=\"Progress-label\"><strong>100%</strong></span>\n",
       "<span class=\"Iteration-label\">327/328</span>\n",
       "<span class=\"Time-label\">[0.09<27.22, 0.08s/it]</span></div>"
      ],
      "text/plain": [
       "[============================================================] 328/328"
      ]
     },
     "metadata": {},
     "output_type": "display_data"
    },
    {
     "name": "stdout",
     "output_type": "stream",
     "text": [
      "Epoch : 61, Batch : 327 / 328, Loss : 1.739810, Perplexity : 5.696259, Time : 27.257638\n"
     ]
    },
    {
     "data": {
      "text/html": [
       "<div><progress style=width:\"60ex\" max=\"29\" value=\"29\" class=\"Progress-main\"/></progress>\n",
       "<span class=\"Progress-label\"><strong>100%</strong></span>\n",
       "<span class=\"Iteration-label\">29/29</span>\n",
       "<span class=\"Time-label\">[0.04<0.88, 0.03s/it]</span></div>"
      ],
      "text/plain": [
       "[============================================================] 29/29"
      ]
     },
     "metadata": {},
     "output_type": "display_data"
    },
    {
     "name": "stdout",
     "output_type": "stream",
     "text": [
      "Validation Loss : 6.714050\n",
      "Validation Perplexity : 823.901093\n",
      "Start epoch 62, learning rate 0.000312 \n",
      "2\n"
     ]
    },
    {
     "data": {
      "text/html": [
       "<div><progress style=width:\"60ex\" max=\"328\" value=\"328\" class=\"Progress-main\"/></progress>\n",
       "<span class=\"Progress-label\"><strong>100%</strong></span>\n",
       "<span class=\"Iteration-label\">327/328</span>\n",
       "<span class=\"Time-label\">[0.08<27.06, 0.08s/it]</span></div>"
      ],
      "text/plain": [
       "[============================================================] 328/328"
      ]
     },
     "metadata": {},
     "output_type": "display_data"
    },
    {
     "name": "stdout",
     "output_type": "stream",
     "text": [
      "Epoch : 62, Batch : 327 / 328, Loss : 1.731422, Perplexity : 5.648682, Time : 27.092442\n"
     ]
    },
    {
     "data": {
      "text/html": [
       "<div><progress style=width:\"60ex\" max=\"29\" value=\"29\" class=\"Progress-main\"/></progress>\n",
       "<span class=\"Progress-label\"><strong>100%</strong></span>\n",
       "<span class=\"Iteration-label\">29/29</span>\n",
       "<span class=\"Time-label\">[0.04<0.86, 0.03s/it]</span></div>"
      ],
      "text/plain": [
       "[============================================================] 29/29"
      ]
     },
     "metadata": {},
     "output_type": "display_data"
    },
    {
     "name": "stdout",
     "output_type": "stream",
     "text": [
      "Validation Loss : 6.722033\n",
      "Validation Perplexity : 830.503972\n",
      "Start epoch 63, learning rate 0.000310 \n",
      "2\n"
     ]
    },
    {
     "data": {
      "text/html": [
       "<div><progress style=width:\"60ex\" max=\"328\" value=\"328\" class=\"Progress-main\"/></progress>\n",
       "<span class=\"Progress-label\"><strong>100%</strong></span>\n",
       "<span class=\"Iteration-label\">327/328</span>\n",
       "<span class=\"Time-label\">[0.08<26.89, 0.08s/it]</span></div>"
      ],
      "text/plain": [
       "[============================================================] 328/328"
      ]
     },
     "metadata": {},
     "output_type": "display_data"
    },
    {
     "name": "stdout",
     "output_type": "stream",
     "text": [
      "Epoch : 63, Batch : 327 / 328, Loss : 1.721388, Perplexity : 5.592286, Time : 26.928650\n"
     ]
    },
    {
     "data": {
      "text/html": [
       "<div><progress style=width:\"60ex\" max=\"29\" value=\"29\" class=\"Progress-main\"/></progress>\n",
       "<span class=\"Progress-label\"><strong>100%</strong></span>\n",
       "<span class=\"Iteration-label\">29/29</span>\n",
       "<span class=\"Time-label\">[0.04<0.85, 0.03s/it]</span></div>"
      ],
      "text/plain": [
       "[============================================================] 29/29"
      ]
     },
     "metadata": {},
     "output_type": "display_data"
    },
    {
     "name": "stdout",
     "output_type": "stream",
     "text": [
      "Validation Loss : 6.730752\n",
      "Validation Perplexity : 837.777140\n",
      "Start epoch 64, learning rate 0.000307 \n",
      "2\n"
     ]
    },
    {
     "data": {
      "text/html": [
       "<div><progress style=width:\"60ex\" max=\"328\" value=\"328\" class=\"Progress-main\"/></progress>\n",
       "<span class=\"Progress-label\"><strong>100%</strong></span>\n",
       "<span class=\"Iteration-label\">327/328</span>\n",
       "<span class=\"Time-label\">[0.09<26.77, 0.08s/it]</span></div>"
      ],
      "text/plain": [
       "[============================================================] 328/328"
      ]
     },
     "metadata": {},
     "output_type": "display_data"
    },
    {
     "name": "stdout",
     "output_type": "stream",
     "text": [
      "Epoch : 64, Batch : 327 / 328, Loss : 1.711774, Perplexity : 5.538778, Time : 26.810250\n"
     ]
    },
    {
     "data": {
      "text/html": [
       "<div><progress style=width:\"60ex\" max=\"29\" value=\"29\" class=\"Progress-main\"/></progress>\n",
       "<span class=\"Progress-label\"><strong>100%</strong></span>\n",
       "<span class=\"Iteration-label\">29/29</span>\n",
       "<span class=\"Time-label\">[0.04<0.86, 0.03s/it]</span></div>"
      ],
      "text/plain": [
       "[============================================================] 29/29"
      ]
     },
     "metadata": {},
     "output_type": "display_data"
    },
    {
     "name": "stdout",
     "output_type": "stream",
     "text": [
      "Validation Loss : 6.754939\n",
      "Validation Perplexity : 858.287701\n",
      "Start epoch 65, learning rate 0.000305 \n",
      "2\n"
     ]
    },
    {
     "data": {
      "text/html": [
       "<div><progress style=width:\"60ex\" max=\"328\" value=\"328\" class=\"Progress-main\"/></progress>\n",
       "<span class=\"Progress-label\"><strong>100%</strong></span>\n",
       "<span class=\"Iteration-label\">327/328</span>\n",
       "<span class=\"Time-label\">[0.09<26.98, 0.08s/it]</span></div>"
      ],
      "text/plain": [
       "[============================================================] 328/328"
      ]
     },
     "metadata": {},
     "output_type": "display_data"
    },
    {
     "name": "stdout",
     "output_type": "stream",
     "text": [
      "Epoch : 65, Batch : 327 / 328, Loss : 1.701918, Perplexity : 5.484458, Time : 27.013523\n"
     ]
    },
    {
     "data": {
      "text/html": [
       "<div><progress style=width:\"60ex\" max=\"29\" value=\"29\" class=\"Progress-main\"/></progress>\n",
       "<span class=\"Progress-label\"><strong>100%</strong></span>\n",
       "<span class=\"Iteration-label\">29/29</span>\n",
       "<span class=\"Time-label\">[0.04<0.85, 0.03s/it]</span></div>"
      ],
      "text/plain": [
       "[============================================================] 29/29"
      ]
     },
     "metadata": {},
     "output_type": "display_data"
    },
    {
     "name": "stdout",
     "output_type": "stream",
     "text": [
      "Validation Loss : 6.762844\n",
      "Validation Perplexity : 865.098704\n",
      "Start epoch 66, learning rate 0.000303 \n",
      "2\n"
     ]
    },
    {
     "data": {
      "text/html": [
       "<div><progress style=width:\"60ex\" max=\"328\" value=\"328\" class=\"Progress-main\"/></progress>\n",
       "<span class=\"Progress-label\"><strong>100%</strong></span>\n",
       "<span class=\"Iteration-label\">327/328</span>\n",
       "<span class=\"Time-label\">[0.08<26.98, 0.08s/it]</span></div>"
      ],
      "text/plain": [
       "[============================================================] 328/328"
      ]
     },
     "metadata": {},
     "output_type": "display_data"
    },
    {
     "name": "stdout",
     "output_type": "stream",
     "text": [
      "Epoch : 66, Batch : 327 / 328, Loss : 1.692734, Perplexity : 5.434317, Time : 27.018415\n"
     ]
    },
    {
     "data": {
      "text/html": [
       "<div><progress style=width:\"60ex\" max=\"29\" value=\"29\" class=\"Progress-main\"/></progress>\n",
       "<span class=\"Progress-label\"><strong>100%</strong></span>\n",
       "<span class=\"Iteration-label\">29/29</span>\n",
       "<span class=\"Time-label\">[0.04<0.85, 0.03s/it]</span></div>"
      ],
      "text/plain": [
       "[============================================================] 29/29"
      ]
     },
     "metadata": {},
     "output_type": "display_data"
    },
    {
     "name": "stdout",
     "output_type": "stream",
     "text": [
      "Validation Loss : 6.781523\n",
      "Validation Perplexity : 881.410407\n",
      "Start epoch 67, learning rate 0.000300 \n",
      "2\n"
     ]
    },
    {
     "data": {
      "text/html": [
       "<div><progress style=width:\"60ex\" max=\"328\" value=\"328\" class=\"Progress-main\"/></progress>\n",
       "<span class=\"Progress-label\"><strong>100%</strong></span>\n",
       "<span class=\"Iteration-label\">327/328</span>\n",
       "<span class=\"Time-label\">[0.08<26.92, 0.08s/it]</span></div>"
      ],
      "text/plain": [
       "[============================================================] 328/328"
      ]
     },
     "metadata": {},
     "output_type": "display_data"
    },
    {
     "name": "stdout",
     "output_type": "stream",
     "text": [
      "Epoch : 67, Batch : 327 / 328, Loss : 1.685287, Perplexity : 5.394000, Time : 26.951969\n"
     ]
    },
    {
     "data": {
      "text/html": [
       "<div><progress style=width:\"60ex\" max=\"29\" value=\"29\" class=\"Progress-main\"/></progress>\n",
       "<span class=\"Progress-label\"><strong>100%</strong></span>\n",
       "<span class=\"Iteration-label\">29/29</span>\n",
       "<span class=\"Time-label\">[0.04<0.84, 0.03s/it]</span></div>"
      ],
      "text/plain": [
       "[============================================================] 29/29"
      ]
     },
     "metadata": {},
     "output_type": "display_data"
    },
    {
     "name": "stdout",
     "output_type": "stream",
     "text": [
      "Validation Loss : 6.804494\n",
      "Validation Perplexity : 901.891344\n",
      "Start epoch 68, learning rate 0.000298 \n",
      "2\n"
     ]
    },
    {
     "data": {
      "text/html": [
       "<div><progress style=width:\"60ex\" max=\"328\" value=\"328\" class=\"Progress-main\"/></progress>\n",
       "<span class=\"Progress-label\"><strong>100%</strong></span>\n",
       "<span class=\"Iteration-label\">327/328</span>\n",
       "<span class=\"Time-label\">[0.08<26.72, 0.08s/it]</span></div>"
      ],
      "text/plain": [
       "[============================================================] 328/328"
      ]
     },
     "metadata": {},
     "output_type": "display_data"
    },
    {
     "name": "stdout",
     "output_type": "stream",
     "text": [
      "Epoch : 68, Batch : 327 / 328, Loss : 1.676096, Perplexity : 5.344649, Time : 26.752085\n"
     ]
    },
    {
     "data": {
      "text/html": [
       "<div><progress style=width:\"60ex\" max=\"29\" value=\"29\" class=\"Progress-main\"/></progress>\n",
       "<span class=\"Progress-label\"><strong>100%</strong></span>\n",
       "<span class=\"Iteration-label\">29/29</span>\n",
       "<span class=\"Time-label\">[0.04<0.84, 0.03s/it]</span></div>"
      ],
      "text/plain": [
       "[============================================================] 29/29"
      ]
     },
     "metadata": {},
     "output_type": "display_data"
    },
    {
     "name": "stdout",
     "output_type": "stream",
     "text": [
      "Validation Loss : 6.819672\n",
      "Validation Perplexity : 915.684760\n",
      "Start epoch 69, learning rate 0.000296 \n",
      "2\n"
     ]
    },
    {
     "data": {
      "text/html": [
       "<div><progress style=width:\"60ex\" max=\"328\" value=\"328\" class=\"Progress-main\"/></progress>\n",
       "<span class=\"Progress-label\"><strong>100%</strong></span>\n",
       "<span class=\"Iteration-label\">327/328</span>\n",
       "<span class=\"Time-label\">[0.08<26.97, 0.08s/it]</span></div>"
      ],
      "text/plain": [
       "[============================================================] 328/328"
      ]
     },
     "metadata": {},
     "output_type": "display_data"
    },
    {
     "name": "stdout",
     "output_type": "stream",
     "text": [
      "Epoch : 69, Batch : 327 / 328, Loss : 1.666975, Perplexity : 5.296120, Time : 27.002089\n"
     ]
    },
    {
     "data": {
      "text/html": [
       "<div><progress style=width:\"60ex\" max=\"29\" value=\"29\" class=\"Progress-main\"/></progress>\n",
       "<span class=\"Progress-label\"><strong>100%</strong></span>\n",
       "<span class=\"Iteration-label\">29/29</span>\n",
       "<span class=\"Time-label\">[0.04<0.85, 0.03s/it]</span></div>"
      ],
      "text/plain": [
       "[============================================================] 29/29"
      ]
     },
     "metadata": {},
     "output_type": "display_data"
    },
    {
     "name": "stdout",
     "output_type": "stream",
     "text": [
      "Validation Loss : 6.825963\n",
      "Validation Perplexity : 921.463047\n",
      "Start epoch 70, learning rate 0.000294 \n",
      "2\n"
     ]
    },
    {
     "data": {
      "text/html": [
       "<div><progress style=width:\"60ex\" max=\"328\" value=\"328\" class=\"Progress-main\"/></progress>\n",
       "<span class=\"Progress-label\"><strong>100%</strong></span>\n",
       "<span class=\"Iteration-label\">327/328</span>\n",
       "<span class=\"Time-label\">[0.09<26.92, 0.08s/it]</span></div>"
      ],
      "text/plain": [
       "[============================================================] 328/328"
      ]
     },
     "metadata": {},
     "output_type": "display_data"
    },
    {
     "name": "stdout",
     "output_type": "stream",
     "text": [
      "Epoch : 70, Batch : 327 / 328, Loss : 1.659649, Perplexity : 5.257465, Time : 26.951808\n"
     ]
    },
    {
     "data": {
      "text/html": [
       "<div><progress style=width:\"60ex\" max=\"29\" value=\"29\" class=\"Progress-main\"/></progress>\n",
       "<span class=\"Progress-label\"><strong>100%</strong></span>\n",
       "<span class=\"Iteration-label\">29/29</span>\n",
       "<span class=\"Time-label\">[0.04<0.84, 0.03s/it]</span></div>"
      ],
      "text/plain": [
       "[============================================================] 29/29"
      ]
     },
     "metadata": {},
     "output_type": "display_data"
    },
    {
     "name": "stdout",
     "output_type": "stream",
     "text": [
      "Validation Loss : 6.856897\n",
      "Validation Perplexity : 950.413738\n",
      "Start epoch 71, learning rate 0.000292 \n",
      "2\n"
     ]
    },
    {
     "data": {
      "text/html": [
       "<div><progress style=width:\"60ex\" max=\"328\" value=\"328\" class=\"Progress-main\"/></progress>\n",
       "<span class=\"Progress-label\"><strong>100%</strong></span>\n",
       "<span class=\"Iteration-label\">327/328</span>\n",
       "<span class=\"Time-label\">[0.07<26.82, 0.08s/it]</span></div>"
      ],
      "text/plain": [
       "[============================================================] 328/328"
      ]
     },
     "metadata": {},
     "output_type": "display_data"
    },
    {
     "name": "stdout",
     "output_type": "stream",
     "text": [
      "Epoch : 71, Batch : 327 / 328, Loss : 1.653279, Perplexity : 5.224081, Time : 26.854233\n"
     ]
    },
    {
     "data": {
      "text/html": [
       "<div><progress style=width:\"60ex\" max=\"29\" value=\"29\" class=\"Progress-main\"/></progress>\n",
       "<span class=\"Progress-label\"><strong>100%</strong></span>\n",
       "<span class=\"Iteration-label\">29/29</span>\n",
       "<span class=\"Time-label\">[0.04<0.86, 0.03s/it]</span></div>"
      ],
      "text/plain": [
       "[============================================================] 29/29"
      ]
     },
     "metadata": {},
     "output_type": "display_data"
    },
    {
     "name": "stdout",
     "output_type": "stream",
     "text": [
      "Validation Loss : 6.859000\n",
      "Validation Perplexity : 952.413715\n",
      "Start epoch 72, learning rate 0.000290 \n",
      "2\n"
     ]
    },
    {
     "data": {
      "text/html": [
       "<div><progress style=width:\"60ex\" max=\"328\" value=\"328\" class=\"Progress-main\"/></progress>\n",
       "<span class=\"Progress-label\"><strong>100%</strong></span>\n",
       "<span class=\"Iteration-label\">327/328</span>\n",
       "<span class=\"Time-label\">[0.08<26.85, 0.08s/it]</span></div>"
      ],
      "text/plain": [
       "[============================================================] 328/328"
      ]
     },
     "metadata": {},
     "output_type": "display_data"
    },
    {
     "name": "stdout",
     "output_type": "stream",
     "text": [
      "Epoch : 72, Batch : 327 / 328, Loss : 1.645579, Perplexity : 5.184009, Time : 26.881393\n"
     ]
    },
    {
     "data": {
      "text/html": [
       "<div><progress style=width:\"60ex\" max=\"29\" value=\"29\" class=\"Progress-main\"/></progress>\n",
       "<span class=\"Progress-label\"><strong>100%</strong></span>\n",
       "<span class=\"Iteration-label\">29/29</span>\n",
       "<span class=\"Time-label\">[0.04<0.85, 0.03s/it]</span></div>"
      ],
      "text/plain": [
       "[============================================================] 29/29"
      ]
     },
     "metadata": {},
     "output_type": "display_data"
    },
    {
     "name": "stdout",
     "output_type": "stream",
     "text": [
      "Validation Loss : 6.861928\n",
      "Validation Perplexity : 955.207139\n",
      "Start epoch 73, learning rate 0.000288 \n",
      "2\n"
     ]
    },
    {
     "data": {
      "text/html": [
       "<div><progress style=width:\"60ex\" max=\"328\" value=\"328\" class=\"Progress-main\"/></progress>\n",
       "<span class=\"Progress-label\"><strong>100%</strong></span>\n",
       "<span class=\"Iteration-label\">327/328</span>\n",
       "<span class=\"Time-label\">[0.11<26.86, 0.08s/it]</span></div>"
      ],
      "text/plain": [
       "[============================================================] 328/328"
      ]
     },
     "metadata": {},
     "output_type": "display_data"
    },
    {
     "name": "stdout",
     "output_type": "stream",
     "text": [
      "Epoch : 73, Batch : 327 / 328, Loss : 1.636548, Perplexity : 5.137406, Time : 26.891830\n"
     ]
    },
    {
     "data": {
      "text/html": [
       "<div><progress style=width:\"60ex\" max=\"29\" value=\"29\" class=\"Progress-main\"/></progress>\n",
       "<span class=\"Progress-label\"><strong>100%</strong></span>\n",
       "<span class=\"Iteration-label\">29/29</span>\n",
       "<span class=\"Time-label\">[0.04<1.01, 0.03s/it]</span></div>"
      ],
      "text/plain": [
       "[============================================================] 29/29"
      ]
     },
     "metadata": {},
     "output_type": "display_data"
    },
    {
     "name": "stdout",
     "output_type": "stream",
     "text": [
      "Validation Loss : 6.877216\n",
      "Validation Perplexity : 969.922073\n",
      "Start epoch 74, learning rate 0.000286 \n",
      "2\n"
     ]
    },
    {
     "data": {
      "text/html": [
       "<div><progress style=width:\"60ex\" max=\"328\" value=\"328\" class=\"Progress-main\"/></progress>\n",
       "<span class=\"Progress-label\"><strong>100%</strong></span>\n",
       "<span class=\"Iteration-label\">327/328</span>\n",
       "<span class=\"Time-label\">[0.07<26.90, 0.08s/it]</span></div>"
      ],
      "text/plain": [
       "[============================================================] 328/328"
      ]
     },
     "metadata": {},
     "output_type": "display_data"
    },
    {
     "name": "stdout",
     "output_type": "stream",
     "text": [
      "Epoch : 74, Batch : 327 / 328, Loss : 1.629119, Perplexity : 5.099382, Time : 26.933552\n"
     ]
    },
    {
     "data": {
      "text/html": [
       "<div><progress style=width:\"60ex\" max=\"29\" value=\"29\" class=\"Progress-main\"/></progress>\n",
       "<span class=\"Progress-label\"><strong>100%</strong></span>\n",
       "<span class=\"Iteration-label\">29/29</span>\n",
       "<span class=\"Time-label\">[0.04<0.85, 0.03s/it]</span></div>"
      ],
      "text/plain": [
       "[============================================================] 29/29"
      ]
     },
     "metadata": {},
     "output_type": "display_data"
    },
    {
     "name": "stdout",
     "output_type": "stream",
     "text": [
      "Validation Loss : 6.883338\n",
      "Validation Perplexity : 975.878547\n",
      "Start epoch 75, learning rate 0.000284 \n",
      "2\n"
     ]
    },
    {
     "data": {
      "text/html": [
       "<div><progress style=width:\"60ex\" max=\"328\" value=\"328\" class=\"Progress-main\"/></progress>\n",
       "<span class=\"Progress-label\"><strong>100%</strong></span>\n",
       "<span class=\"Iteration-label\">327/328</span>\n",
       "<span class=\"Time-label\">[0.08<26.82, 0.08s/it]</span></div>"
      ],
      "text/plain": [
       "[============================================================] 328/328"
      ]
     },
     "metadata": {},
     "output_type": "display_data"
    },
    {
     "name": "stdout",
     "output_type": "stream",
     "text": [
      "Epoch : 75, Batch : 327 / 328, Loss : 1.623339, Perplexity : 5.069989, Time : 26.855798\n"
     ]
    },
    {
     "data": {
      "text/html": [
       "<div><progress style=width:\"60ex\" max=\"29\" value=\"29\" class=\"Progress-main\"/></progress>\n",
       "<span class=\"Progress-label\"><strong>100%</strong></span>\n",
       "<span class=\"Iteration-label\">29/29</span>\n",
       "<span class=\"Time-label\">[0.04<0.84, 0.03s/it]</span></div>"
      ],
      "text/plain": [
       "[============================================================] 29/29"
      ]
     },
     "metadata": {},
     "output_type": "display_data"
    },
    {
     "name": "stdout",
     "output_type": "stream",
     "text": [
      "Validation Loss : 6.918983\n",
      "Validation Perplexity : 1011.290888\n",
      "Start epoch 76, learning rate 0.000282 \n",
      "2\n"
     ]
    },
    {
     "data": {
      "text/html": [
       "<div><progress style=width:\"60ex\" max=\"328\" value=\"328\" class=\"Progress-main\"/></progress>\n",
       "<span class=\"Progress-label\"><strong>100%</strong></span>\n",
       "<span class=\"Iteration-label\">327/328</span>\n",
       "<span class=\"Time-label\">[0.08<26.76, 0.08s/it]</span></div>"
      ],
      "text/plain": [
       "[============================================================] 328/328"
      ]
     },
     "metadata": {},
     "output_type": "display_data"
    },
    {
     "name": "stdout",
     "output_type": "stream",
     "text": [
      "Epoch : 76, Batch : 327 / 328, Loss : 1.612891, Perplexity : 5.017295, Time : 26.797453\n"
     ]
    },
    {
     "data": {
      "text/html": [
       "<div><progress style=width:\"60ex\" max=\"29\" value=\"29\" class=\"Progress-main\"/></progress>\n",
       "<span class=\"Progress-label\"><strong>100%</strong></span>\n",
       "<span class=\"Iteration-label\">29/29</span>\n",
       "<span class=\"Time-label\">[0.04<0.85, 0.03s/it]</span></div>"
      ],
      "text/plain": [
       "[============================================================] 29/29"
      ]
     },
     "metadata": {},
     "output_type": "display_data"
    },
    {
     "name": "stdout",
     "output_type": "stream",
     "text": [
      "Validation Loss : 6.917616\n",
      "Validation Perplexity : 1009.909886\n",
      "Start epoch 77, learning rate 0.000280 \n",
      "2\n"
     ]
    },
    {
     "data": {
      "text/html": [
       "<div><progress style=width:\"60ex\" max=\"328\" value=\"328\" class=\"Progress-main\"/></progress>\n",
       "<span class=\"Progress-label\"><strong>100%</strong></span>\n",
       "<span class=\"Iteration-label\">327/328</span>\n",
       "<span class=\"Time-label\">[0.07<27.02, 0.08s/it]</span></div>"
      ],
      "text/plain": [
       "[============================================================] 328/328"
      ]
     },
     "metadata": {},
     "output_type": "display_data"
    },
    {
     "name": "stdout",
     "output_type": "stream",
     "text": [
      "Epoch : 77, Batch : 327 / 328, Loss : 1.606956, Perplexity : 4.987605, Time : 27.049896\n"
     ]
    },
    {
     "data": {
      "text/html": [
       "<div><progress style=width:\"60ex\" max=\"29\" value=\"29\" class=\"Progress-main\"/></progress>\n",
       "<span class=\"Progress-label\"><strong>100%</strong></span>\n",
       "<span class=\"Iteration-label\">29/29</span>\n",
       "<span class=\"Time-label\">[0.04<0.88, 0.03s/it]</span></div>"
      ],
      "text/plain": [
       "[============================================================] 29/29"
      ]
     },
     "metadata": {},
     "output_type": "display_data"
    },
    {
     "name": "stdout",
     "output_type": "stream",
     "text": [
      "Validation Loss : 6.933735\n",
      "Validation Perplexity : 1026.319689\n",
      "Start epoch 78, learning rate 0.000278 \n",
      "2\n"
     ]
    },
    {
     "data": {
      "text/html": [
       "<div><progress style=width:\"60ex\" max=\"328\" value=\"328\" class=\"Progress-main\"/></progress>\n",
       "<span class=\"Progress-label\"><strong>100%</strong></span>\n",
       "<span class=\"Iteration-label\">327/328</span>\n",
       "<span class=\"Time-label\">[0.08<27.16, 0.08s/it]</span></div>"
      ],
      "text/plain": [
       "[============================================================] 328/328"
      ]
     },
     "metadata": {},
     "output_type": "display_data"
    },
    {
     "name": "stdout",
     "output_type": "stream",
     "text": [
      "Epoch : 78, Batch : 327 / 328, Loss : 1.600161, Perplexity : 4.953831, Time : 27.194089\n"
     ]
    },
    {
     "data": {
      "text/html": [
       "<div><progress style=width:\"60ex\" max=\"29\" value=\"29\" class=\"Progress-main\"/></progress>\n",
       "<span class=\"Progress-label\"><strong>100%</strong></span>\n",
       "<span class=\"Iteration-label\">29/29</span>\n",
       "<span class=\"Time-label\">[0.04<0.86, 0.03s/it]</span></div>"
      ],
      "text/plain": [
       "[============================================================] 29/29"
      ]
     },
     "metadata": {},
     "output_type": "display_data"
    },
    {
     "name": "stdout",
     "output_type": "stream",
     "text": [
      "Validation Loss : 6.941503\n",
      "Validation Perplexity : 1034.323226\n",
      "Start epoch 79, learning rate 0.000276 \n",
      "2\n"
     ]
    },
    {
     "data": {
      "text/html": [
       "<div><progress style=width:\"60ex\" max=\"328\" value=\"328\" class=\"Progress-main\"/></progress>\n",
       "<span class=\"Progress-label\"><strong>100%</strong></span>\n",
       "<span class=\"Iteration-label\">327/328</span>\n",
       "<span class=\"Time-label\">[0.08<27.00, 0.08s/it]</span></div>"
      ],
      "text/plain": [
       "[============================================================] 328/328"
      ]
     },
     "metadata": {},
     "output_type": "display_data"
    },
    {
     "name": "stdout",
     "output_type": "stream",
     "text": [
      "Epoch : 79, Batch : 327 / 328, Loss : 1.594091, Perplexity : 4.923849, Time : 27.032208\n"
     ]
    },
    {
     "data": {
      "text/html": [
       "<div><progress style=width:\"60ex\" max=\"29\" value=\"29\" class=\"Progress-main\"/></progress>\n",
       "<span class=\"Progress-label\"><strong>100%</strong></span>\n",
       "<span class=\"Iteration-label\">29/29</span>\n",
       "<span class=\"Time-label\">[0.04<0.87, 0.03s/it]</span></div>"
      ],
      "text/plain": [
       "[============================================================] 29/29"
      ]
     },
     "metadata": {},
     "output_type": "display_data"
    },
    {
     "name": "stdout",
     "output_type": "stream",
     "text": [
      "Validation Loss : 6.950073\n",
      "Validation Perplexity : 1043.225688\n",
      "Start epoch 80, learning rate 0.000275 \n",
      "2\n"
     ]
    },
    {
     "data": {
      "text/html": [
       "<div><progress style=width:\"60ex\" max=\"328\" value=\"328\" class=\"Progress-main\"/></progress>\n",
       "<span class=\"Progress-label\"><strong>100%</strong></span>\n",
       "<span class=\"Iteration-label\">327/328</span>\n",
       "<span class=\"Time-label\">[0.09<27.19, 0.08s/it]</span></div>"
      ],
      "text/plain": [
       "[============================================================] 328/328"
      ]
     },
     "metadata": {},
     "output_type": "display_data"
    },
    {
     "name": "stdout",
     "output_type": "stream",
     "text": [
      "Epoch : 80, Batch : 327 / 328, Loss : 1.587207, Perplexity : 4.890074, Time : 27.222322\n"
     ]
    },
    {
     "data": {
      "text/html": [
       "<div><progress style=width:\"60ex\" max=\"29\" value=\"29\" class=\"Progress-main\"/></progress>\n",
       "<span class=\"Progress-label\"><strong>100%</strong></span>\n",
       "<span class=\"Iteration-label\">29/29</span>\n",
       "<span class=\"Time-label\">[0.04<0.87, 0.03s/it]</span></div>"
      ],
      "text/plain": [
       "[============================================================] 29/29"
      ]
     },
     "metadata": {},
     "output_type": "display_data"
    },
    {
     "name": "stdout",
     "output_type": "stream",
     "text": [
      "Validation Loss : 6.985729\n",
      "Validation Perplexity : 1081.094448\n",
      "Start epoch 81, learning rate 0.000273 \n",
      "2\n"
     ]
    },
    {
     "data": {
      "text/html": [
       "<div><progress style=width:\"60ex\" max=\"328\" value=\"328\" class=\"Progress-main\"/></progress>\n",
       "<span class=\"Progress-label\"><strong>100%</strong></span>\n",
       "<span class=\"Iteration-label\">327/328</span>\n",
       "<span class=\"Time-label\">[0.07<26.96, 0.08s/it]</span></div>"
      ],
      "text/plain": [
       "[============================================================] 328/328"
      ]
     },
     "metadata": {},
     "output_type": "display_data"
    },
    {
     "name": "stdout",
     "output_type": "stream",
     "text": [
      "Epoch : 81, Batch : 327 / 328, Loss : 1.580025, Perplexity : 4.855079, Time : 26.994811\n"
     ]
    },
    {
     "data": {
      "text/html": [
       "<div><progress style=width:\"60ex\" max=\"29\" value=\"29\" class=\"Progress-main\"/></progress>\n",
       "<span class=\"Progress-label\"><strong>100%</strong></span>\n",
       "<span class=\"Iteration-label\">29/29</span>\n",
       "<span class=\"Time-label\">[0.04<0.87, 0.03s/it]</span></div>"
      ],
      "text/plain": [
       "[============================================================] 29/29"
      ]
     },
     "metadata": {},
     "output_type": "display_data"
    },
    {
     "name": "stdout",
     "output_type": "stream",
     "text": [
      "Validation Loss : 6.995927\n",
      "Validation Perplexity : 1092.175140\n",
      "Start epoch 82, learning rate 0.000271 \n",
      "2\n"
     ]
    },
    {
     "data": {
      "text/html": [
       "<div><progress style=width:\"60ex\" max=\"328\" value=\"328\" class=\"Progress-main\"/></progress>\n",
       "<span class=\"Progress-label\"><strong>100%</strong></span>\n",
       "<span class=\"Iteration-label\">327/328</span>\n",
       "<span class=\"Time-label\">[0.08<26.80, 0.08s/it]</span></div>"
      ],
      "text/plain": [
       "[============================================================] 328/328"
      ]
     },
     "metadata": {},
     "output_type": "display_data"
    },
    {
     "name": "stdout",
     "output_type": "stream",
     "text": [
      "Epoch : 82, Batch : 327 / 328, Loss : 1.574149, Perplexity : 4.826633, Time : 26.836708\n"
     ]
    },
    {
     "data": {
      "text/html": [
       "<div><progress style=width:\"60ex\" max=\"29\" value=\"29\" class=\"Progress-main\"/></progress>\n",
       "<span class=\"Progress-label\"><strong>100%</strong></span>\n",
       "<span class=\"Iteration-label\">29/29</span>\n",
       "<span class=\"Time-label\">[0.04<0.84, 0.03s/it]</span></div>"
      ],
      "text/plain": [
       "[============================================================] 29/29"
      ]
     },
     "metadata": {},
     "output_type": "display_data"
    },
    {
     "name": "stdout",
     "output_type": "stream",
     "text": [
      "Validation Loss : 6.987481\n",
      "Validation Perplexity : 1082.989828\n",
      "Start epoch 83, learning rate 0.000269 \n",
      "2\n"
     ]
    },
    {
     "data": {
      "text/html": [
       "<div><progress style=width:\"60ex\" max=\"328\" value=\"328\" class=\"Progress-main\"/></progress>\n",
       "<span class=\"Progress-label\"><strong>100%</strong></span>\n",
       "<span class=\"Iteration-label\">327/328</span>\n",
       "<span class=\"Time-label\">[0.08<26.86, 0.08s/it]</span></div>"
      ],
      "text/plain": [
       "[============================================================] 328/328"
      ]
     },
     "metadata": {},
     "output_type": "display_data"
    },
    {
     "name": "stdout",
     "output_type": "stream",
     "text": [
      "Epoch : 83, Batch : 327 / 328, Loss : 1.568231, Perplexity : 4.798152, Time : 26.900294\n"
     ]
    },
    {
     "data": {
      "text/html": [
       "<div><progress style=width:\"60ex\" max=\"29\" value=\"29\" class=\"Progress-main\"/></progress>\n",
       "<span class=\"Progress-label\"><strong>100%</strong></span>\n",
       "<span class=\"Iteration-label\">29/29</span>\n",
       "<span class=\"Time-label\">[0.04<0.84, 0.03s/it]</span></div>"
      ],
      "text/plain": [
       "[============================================================] 29/29"
      ]
     },
     "metadata": {},
     "output_type": "display_data"
    },
    {
     "name": "stdout",
     "output_type": "stream",
     "text": [
      "Validation Loss : 7.003741\n",
      "Validation Perplexity : 1100.742968\n",
      "Start epoch 84, learning rate 0.000268 \n",
      "2\n"
     ]
    },
    {
     "data": {
      "text/html": [
       "<div><progress style=width:\"60ex\" max=\"328\" value=\"328\" class=\"Progress-main\"/></progress>\n",
       "<span class=\"Progress-label\"><strong>100%</strong></span>\n",
       "<span class=\"Iteration-label\">327/328</span>\n",
       "<span class=\"Time-label\">[0.08<27.12, 0.08s/it]</span></div>"
      ],
      "text/plain": [
       "[============================================================] 328/328"
      ]
     },
     "metadata": {},
     "output_type": "display_data"
    },
    {
     "name": "stdout",
     "output_type": "stream",
     "text": [
      "Epoch : 84, Batch : 327 / 328, Loss : 1.560719, Perplexity : 4.762243, Time : 27.157232\n"
     ]
    },
    {
     "data": {
      "text/html": [
       "<div><progress style=width:\"60ex\" max=\"29\" value=\"29\" class=\"Progress-main\"/></progress>\n",
       "<span class=\"Progress-label\"><strong>100%</strong></span>\n",
       "<span class=\"Iteration-label\">29/29</span>\n",
       "<span class=\"Time-label\">[0.04<0.84, 0.03s/it]</span></div>"
      ],
      "text/plain": [
       "[============================================================] 29/29"
      ]
     },
     "metadata": {},
     "output_type": "display_data"
    },
    {
     "name": "stdout",
     "output_type": "stream",
     "text": [
      "Validation Loss : 7.014980\n",
      "Validation Perplexity : 1113.184753\n",
      "Start epoch 85, learning rate 0.000266 \n",
      "2\n"
     ]
    },
    {
     "data": {
      "text/html": [
       "<div><progress style=width:\"60ex\" max=\"328\" value=\"328\" class=\"Progress-main\"/></progress>\n",
       "<span class=\"Progress-label\"><strong>100%</strong></span>\n",
       "<span class=\"Iteration-label\">327/328</span>\n",
       "<span class=\"Time-label\">[0.08<26.72, 0.08s/it]</span></div>"
      ],
      "text/plain": [
       "[============================================================] 328/328"
      ]
     },
     "metadata": {},
     "output_type": "display_data"
    },
    {
     "name": "stdout",
     "output_type": "stream",
     "text": [
      "Epoch : 85, Batch : 327 / 328, Loss : 1.558863, Perplexity : 4.753415, Time : 26.750934\n"
     ]
    },
    {
     "data": {
      "text/html": [
       "<div><progress style=width:\"60ex\" max=\"29\" value=\"29\" class=\"Progress-main\"/></progress>\n",
       "<span class=\"Progress-label\"><strong>100%</strong></span>\n",
       "<span class=\"Iteration-label\">29/29</span>\n",
       "<span class=\"Time-label\">[0.04<0.84, 0.03s/it]</span></div>"
      ],
      "text/plain": [
       "[============================================================] 29/29"
      ]
     },
     "metadata": {},
     "output_type": "display_data"
    },
    {
     "name": "stdout",
     "output_type": "stream",
     "text": [
      "Validation Loss : 7.017495\n",
      "Validation Perplexity : 1115.987940\n",
      "Start epoch 86, learning rate 0.000265 \n",
      "2\n"
     ]
    },
    {
     "data": {
      "text/html": [
       "<div><progress style=width:\"60ex\" max=\"328\" value=\"328\" class=\"Progress-main\"/></progress>\n",
       "<span class=\"Progress-label\"><strong>100%</strong></span>\n",
       "<span class=\"Iteration-label\">327/328</span>\n",
       "<span class=\"Time-label\">[0.07<26.80, 0.08s/it]</span></div>"
      ],
      "text/plain": [
       "[============================================================] 328/328"
      ]
     },
     "metadata": {},
     "output_type": "display_data"
    },
    {
     "name": "stdout",
     "output_type": "stream",
     "text": [
      "Epoch : 86, Batch : 327 / 328, Loss : 1.549592, Perplexity : 4.709548, Time : 26.836635\n"
     ]
    },
    {
     "data": {
      "text/html": [
       "<div><progress style=width:\"60ex\" max=\"29\" value=\"29\" class=\"Progress-main\"/></progress>\n",
       "<span class=\"Progress-label\"><strong>100%</strong></span>\n",
       "<span class=\"Iteration-label\">29/29</span>\n",
       "<span class=\"Time-label\">[0.04<0.84, 0.03s/it]</span></div>"
      ],
      "text/plain": [
       "[============================================================] 29/29"
      ]
     },
     "metadata": {},
     "output_type": "display_data"
    },
    {
     "name": "stdout",
     "output_type": "stream",
     "text": [
      "Validation Loss : 7.024148\n",
      "Validation Perplexity : 1123.437486\n",
      "Start epoch 87, learning rate 0.000263 \n",
      "2\n"
     ]
    },
    {
     "data": {
      "text/html": [
       "<div><progress style=width:\"60ex\" max=\"328\" value=\"328\" class=\"Progress-main\"/></progress>\n",
       "<span class=\"Progress-label\"><strong>100%</strong></span>\n",
       "<span class=\"Iteration-label\">327/328</span>\n",
       "<span class=\"Time-label\">[0.07<26.78, 0.08s/it]</span></div>"
      ],
      "text/plain": [
       "[============================================================] 328/328"
      ]
     },
     "metadata": {},
     "output_type": "display_data"
    },
    {
     "name": "stdout",
     "output_type": "stream",
     "text": [
      "Epoch : 87, Batch : 327 / 328, Loss : 1.542616, Perplexity : 4.676808, Time : 26.812194\n"
     ]
    },
    {
     "data": {
      "text/html": [
       "<div><progress style=width:\"60ex\" max=\"29\" value=\"29\" class=\"Progress-main\"/></progress>\n",
       "<span class=\"Progress-label\"><strong>100%</strong></span>\n",
       "<span class=\"Iteration-label\">29/29</span>\n",
       "<span class=\"Time-label\">[0.04<0.84, 0.03s/it]</span></div>"
      ],
      "text/plain": [
       "[============================================================] 29/29"
      ]
     },
     "metadata": {},
     "output_type": "display_data"
    },
    {
     "name": "stdout",
     "output_type": "stream",
     "text": [
      "Validation Loss : 7.052453\n",
      "Validation Perplexity : 1155.690414\n",
      "Start epoch 88, learning rate 0.000262 \n",
      "2\n"
     ]
    },
    {
     "data": {
      "text/html": [
       "<div><progress style=width:\"60ex\" max=\"328\" value=\"328\" class=\"Progress-main\"/></progress>\n",
       "<span class=\"Progress-label\"><strong>100%</strong></span>\n",
       "<span class=\"Iteration-label\">327/328</span>\n",
       "<span class=\"Time-label\">[0.08<26.90, 0.08s/it]</span></div>"
      ],
      "text/plain": [
       "[============================================================] 328/328"
      ]
     },
     "metadata": {},
     "output_type": "display_data"
    },
    {
     "name": "stdout",
     "output_type": "stream",
     "text": [
      "Epoch : 88, Batch : 327 / 328, Loss : 1.538744, Perplexity : 4.658735, Time : 26.938578\n"
     ]
    },
    {
     "data": {
      "text/html": [
       "<div><progress style=width:\"60ex\" max=\"29\" value=\"29\" class=\"Progress-main\"/></progress>\n",
       "<span class=\"Progress-label\"><strong>100%</strong></span>\n",
       "<span class=\"Iteration-label\">29/29</span>\n",
       "<span class=\"Time-label\">[0.04<0.84, 0.03s/it]</span></div>"
      ],
      "text/plain": [
       "[============================================================] 29/29"
      ]
     },
     "metadata": {},
     "output_type": "display_data"
    },
    {
     "name": "stdout",
     "output_type": "stream",
     "text": [
      "Validation Loss : 7.064746\n",
      "Validation Perplexity : 1169.985240\n",
      "Start epoch 89, learning rate 0.000260 \n",
      "2\n"
     ]
    },
    {
     "data": {
      "text/html": [
       "<div><progress style=width:\"60ex\" max=\"328\" value=\"328\" class=\"Progress-main\"/></progress>\n",
       "<span class=\"Progress-label\"><strong>100%</strong></span>\n",
       "<span class=\"Iteration-label\">327/328</span>\n",
       "<span class=\"Time-label\">[0.07<26.73, 0.08s/it]</span></div>"
      ],
      "text/plain": [
       "[============================================================] 328/328"
      ]
     },
     "metadata": {},
     "output_type": "display_data"
    },
    {
     "name": "stdout",
     "output_type": "stream",
     "text": [
      "Epoch : 89, Batch : 327 / 328, Loss : 1.533373, Perplexity : 4.633782, Time : 26.760776\n"
     ]
    },
    {
     "data": {
      "text/html": [
       "<div><progress style=width:\"60ex\" max=\"29\" value=\"29\" class=\"Progress-main\"/></progress>\n",
       "<span class=\"Progress-label\"><strong>100%</strong></span>\n",
       "<span class=\"Iteration-label\">29/29</span>\n",
       "<span class=\"Time-label\">[0.04<0.83, 0.03s/it]</span></div>"
      ],
      "text/plain": [
       "[============================================================] 29/29"
      ]
     },
     "metadata": {},
     "output_type": "display_data"
    },
    {
     "name": "stdout",
     "output_type": "stream",
     "text": [
      "Validation Loss : 7.066088\n",
      "Validation Perplexity : 1171.555587\n",
      "Start epoch 90, learning rate 0.000259 \n",
      "2\n"
     ]
    },
    {
     "data": {
      "text/html": [
       "<div><progress style=width:\"60ex\" max=\"328\" value=\"328\" class=\"Progress-main\"/></progress>\n",
       "<span class=\"Progress-label\"><strong>100%</strong></span>\n",
       "<span class=\"Iteration-label\">327/328</span>\n",
       "<span class=\"Time-label\">[0.07<26.72, 0.08s/it]</span></div>"
      ],
      "text/plain": [
       "[============================================================] 328/328"
      ]
     },
     "metadata": {},
     "output_type": "display_data"
    },
    {
     "name": "stdout",
     "output_type": "stream",
     "text": [
      "Epoch : 90, Batch : 327 / 328, Loss : 1.528406, Perplexity : 4.610820, Time : 26.750903\n"
     ]
    },
    {
     "data": {
      "text/html": [
       "<div><progress style=width:\"60ex\" max=\"29\" value=\"29\" class=\"Progress-main\"/></progress>\n",
       "<span class=\"Progress-label\"><strong>100%</strong></span>\n",
       "<span class=\"Iteration-label\">29/29</span>\n",
       "<span class=\"Time-label\">[0.04<0.84, 0.03s/it]</span></div>"
      ],
      "text/plain": [
       "[============================================================] 29/29"
      ]
     },
     "metadata": {},
     "output_type": "display_data"
    },
    {
     "name": "stdout",
     "output_type": "stream",
     "text": [
      "Validation Loss : 7.081171\n",
      "Validation Perplexity : 1189.359900\n",
      "Start epoch 91, learning rate 0.000257 \n",
      "2\n"
     ]
    },
    {
     "data": {
      "text/html": [
       "<div><progress style=width:\"60ex\" max=\"328\" value=\"328\" class=\"Progress-main\"/></progress>\n",
       "<span class=\"Progress-label\"><strong>100%</strong></span>\n",
       "<span class=\"Iteration-label\">327/328</span>\n",
       "<span class=\"Time-label\">[0.08<26.73, 0.08s/it]</span></div>"
      ],
      "text/plain": [
       "[============================================================] 328/328"
      ]
     },
     "metadata": {},
     "output_type": "display_data"
    },
    {
     "name": "stdout",
     "output_type": "stream",
     "text": [
      "Epoch : 91, Batch : 327 / 328, Loss : 1.522421, Perplexity : 4.583309, Time : 26.761417\n"
     ]
    },
    {
     "data": {
      "text/html": [
       "<div><progress style=width:\"60ex\" max=\"29\" value=\"29\" class=\"Progress-main\"/></progress>\n",
       "<span class=\"Progress-label\"><strong>100%</strong></span>\n",
       "<span class=\"Iteration-label\">29/29</span>\n",
       "<span class=\"Time-label\">[0.04<0.83, 0.03s/it]</span></div>"
      ],
      "text/plain": [
       "[============================================================] 29/29"
      ]
     },
     "metadata": {},
     "output_type": "display_data"
    },
    {
     "name": "stdout",
     "output_type": "stream",
     "text": [
      "Validation Loss : 7.082516\n",
      "Validation Perplexity : 1190.960795\n",
      "Start epoch 92, learning rate 0.000256 \n",
      "2\n"
     ]
    },
    {
     "data": {
      "text/html": [
       "<div><progress style=width:\"60ex\" max=\"328\" value=\"328\" class=\"Progress-main\"/></progress>\n",
       "<span class=\"Progress-label\"><strong>100%</strong></span>\n",
       "<span class=\"Iteration-label\">327/328</span>\n",
       "<span class=\"Time-label\">[0.07<26.75, 0.08s/it]</span></div>"
      ],
      "text/plain": [
       "[============================================================] 328/328"
      ]
     },
     "metadata": {},
     "output_type": "display_data"
    },
    {
     "name": "stdout",
     "output_type": "stream",
     "text": [
      "Epoch : 92, Batch : 327 / 328, Loss : 1.516350, Perplexity : 4.555565, Time : 26.780004\n"
     ]
    },
    {
     "data": {
      "text/html": [
       "<div><progress style=width:\"60ex\" max=\"29\" value=\"29\" class=\"Progress-main\"/></progress>\n",
       "<span class=\"Progress-label\"><strong>100%</strong></span>\n",
       "<span class=\"Iteration-label\">29/29</span>\n",
       "<span class=\"Time-label\">[0.04<0.85, 0.03s/it]</span></div>"
      ],
      "text/plain": [
       "[============================================================] 29/29"
      ]
     },
     "metadata": {},
     "output_type": "display_data"
    },
    {
     "name": "stdout",
     "output_type": "stream",
     "text": [
      "Validation Loss : 7.108546\n",
      "Validation Perplexity : 1222.369344\n",
      "Start epoch 93, learning rate 0.000254 \n",
      "2\n"
     ]
    },
    {
     "data": {
      "text/html": [
       "<div><progress style=width:\"60ex\" max=\"328\" value=\"328\" class=\"Progress-main\"/></progress>\n",
       "<span class=\"Progress-label\"><strong>100%</strong></span>\n",
       "<span class=\"Iteration-label\">327/328</span>\n",
       "<span class=\"Time-label\">[0.09<26.78, 0.08s/it]</span></div>"
      ],
      "text/plain": [
       "[============================================================] 328/328"
      ]
     },
     "metadata": {},
     "output_type": "display_data"
    },
    {
     "name": "stdout",
     "output_type": "stream",
     "text": [
      "Epoch : 93, Batch : 327 / 328, Loss : 1.514387, Perplexity : 4.546635, Time : 26.818626\n"
     ]
    },
    {
     "data": {
      "text/html": [
       "<div><progress style=width:\"60ex\" max=\"29\" value=\"29\" class=\"Progress-main\"/></progress>\n",
       "<span class=\"Progress-label\"><strong>100%</strong></span>\n",
       "<span class=\"Iteration-label\">29/29</span>\n",
       "<span class=\"Time-label\">[0.04<0.86, 0.03s/it]</span></div>"
      ],
      "text/plain": [
       "[============================================================] 29/29"
      ]
     },
     "metadata": {},
     "output_type": "display_data"
    },
    {
     "name": "stdout",
     "output_type": "stream",
     "text": [
      "Validation Loss : 7.129600\n",
      "Validation Perplexity : 1248.377720\n",
      "Start epoch 94, learning rate 0.000253 \n",
      "2\n"
     ]
    },
    {
     "data": {
      "text/html": [
       "<div><progress style=width:\"60ex\" max=\"328\" value=\"328\" class=\"Progress-main\"/></progress>\n",
       "<span class=\"Progress-label\"><strong>100%</strong></span>\n",
       "<span class=\"Iteration-label\">327/328</span>\n",
       "<span class=\"Time-label\">[0.07<27.07, 0.08s/it]</span></div>"
      ],
      "text/plain": [
       "[============================================================] 328/328"
      ]
     },
     "metadata": {},
     "output_type": "display_data"
    },
    {
     "name": "stdout",
     "output_type": "stream",
     "text": [
      "Epoch : 94, Batch : 327 / 328, Loss : 1.504688, Perplexity : 4.502748, Time : 27.108105\n"
     ]
    },
    {
     "data": {
      "text/html": [
       "<div><progress style=width:\"60ex\" max=\"29\" value=\"29\" class=\"Progress-main\"/></progress>\n",
       "<span class=\"Progress-label\"><strong>100%</strong></span>\n",
       "<span class=\"Iteration-label\">29/29</span>\n",
       "<span class=\"Time-label\">[0.04<0.84, 0.03s/it]</span></div>"
      ],
      "text/plain": [
       "[============================================================] 29/29"
      ]
     },
     "metadata": {},
     "output_type": "display_data"
    },
    {
     "name": "stdout",
     "output_type": "stream",
     "text": [
      "Validation Loss : 7.121537\n",
      "Validation Perplexity : 1238.352414\n",
      "Start epoch 95, learning rate 0.000252 \n",
      "2\n"
     ]
    },
    {
     "data": {
      "text/html": [
       "<div><progress style=width:\"60ex\" max=\"328\" value=\"328\" class=\"Progress-main\"/></progress>\n",
       "<span class=\"Progress-label\"><strong>100%</strong></span>\n",
       "<span class=\"Iteration-label\">327/328</span>\n",
       "<span class=\"Time-label\">[0.10<26.96, 0.08s/it]</span></div>"
      ],
      "text/plain": [
       "[============================================================] 328/328"
      ]
     },
     "metadata": {},
     "output_type": "display_data"
    },
    {
     "name": "stdout",
     "output_type": "stream",
     "text": [
      "Epoch : 95, Batch : 327 / 328, Loss : 1.501635, Perplexity : 4.489021, Time : 26.991120\n"
     ]
    },
    {
     "data": {
      "text/html": [
       "<div><progress style=width:\"60ex\" max=\"29\" value=\"29\" class=\"Progress-main\"/></progress>\n",
       "<span class=\"Progress-label\"><strong>100%</strong></span>\n",
       "<span class=\"Iteration-label\">29/29</span>\n",
       "<span class=\"Time-label\">[0.04<0.84, 0.03s/it]</span></div>"
      ],
      "text/plain": [
       "[============================================================] 29/29"
      ]
     },
     "metadata": {},
     "output_type": "display_data"
    },
    {
     "name": "stdout",
     "output_type": "stream",
     "text": [
      "Validation Loss : 7.129529\n",
      "Validation Perplexity : 1248.289499\n",
      "Start epoch 96, learning rate 0.000250 \n",
      "2\n"
     ]
    },
    {
     "data": {
      "text/html": [
       "<div><progress style=width:\"60ex\" max=\"328\" value=\"328\" class=\"Progress-main\"/></progress>\n",
       "<span class=\"Progress-label\"><strong>100%</strong></span>\n",
       "<span class=\"Iteration-label\">327/328</span>\n",
       "<span class=\"Time-label\">[0.08<26.77, 0.08s/it]</span></div>"
      ],
      "text/plain": [
       "[============================================================] 328/328"
      ]
     },
     "metadata": {},
     "output_type": "display_data"
    },
    {
     "name": "stdout",
     "output_type": "stream",
     "text": [
      "Epoch : 96, Batch : 327 / 328, Loss : 1.494709, Perplexity : 4.458040, Time : 26.802150\n"
     ]
    },
    {
     "data": {
      "text/html": [
       "<div><progress style=width:\"60ex\" max=\"29\" value=\"29\" class=\"Progress-main\"/></progress>\n",
       "<span class=\"Progress-label\"><strong>100%</strong></span>\n",
       "<span class=\"Iteration-label\">29/29</span>\n",
       "<span class=\"Time-label\">[0.04<0.83, 0.03s/it]</span></div>"
      ],
      "text/plain": [
       "[============================================================] 29/29"
      ]
     },
     "metadata": {},
     "output_type": "display_data"
    },
    {
     "name": "stdout",
     "output_type": "stream",
     "text": [
      "Validation Loss : 7.145844\n",
      "Validation Perplexity : 1268.821278\n",
      "Start epoch 97, learning rate 0.000249 \n",
      "2\n"
     ]
    },
    {
     "data": {
      "text/html": [
       "<div><progress style=width:\"60ex\" max=\"328\" value=\"328\" class=\"Progress-main\"/></progress>\n",
       "<span class=\"Progress-label\"><strong>100%</strong></span>\n",
       "<span class=\"Iteration-label\">327/328</span>\n",
       "<span class=\"Time-label\">[0.08<26.83, 0.08s/it]</span></div>"
      ],
      "text/plain": [
       "[============================================================] 328/328"
      ]
     },
     "metadata": {},
     "output_type": "display_data"
    },
    {
     "name": "stdout",
     "output_type": "stream",
     "text": [
      "Epoch : 97, Batch : 327 / 328, Loss : 1.492902, Perplexity : 4.449989, Time : 26.865038\n"
     ]
    },
    {
     "data": {
      "text/html": [
       "<div><progress style=width:\"60ex\" max=\"29\" value=\"29\" class=\"Progress-main\"/></progress>\n",
       "<span class=\"Progress-label\"><strong>100%</strong></span>\n",
       "<span class=\"Iteration-label\">29/29</span>\n",
       "<span class=\"Time-label\">[0.04<0.86, 0.03s/it]</span></div>"
      ],
      "text/plain": [
       "[============================================================] 29/29"
      ]
     },
     "metadata": {},
     "output_type": "display_data"
    },
    {
     "name": "stdout",
     "output_type": "stream",
     "text": [
      "Validation Loss : 7.147723\n",
      "Validation Perplexity : 1271.208305\n",
      "Start epoch 98, learning rate 0.000248 \n",
      "2\n"
     ]
    },
    {
     "data": {
      "text/html": [
       "<div><progress style=width:\"60ex\" max=\"328\" value=\"84\" class=\"Progress-main\"/></progress>\n",
       "<span class=\"Progress-label\"><strong>26%</strong></span>\n",
       "<span class=\"Iteration-label\">84/328</span>\n",
       "<span class=\"Time-label\">[0.08<6.80, 0.08s/it]</span></div>"
      ],
      "text/plain": [
       "[===============                                             ] 84/328"
      ]
     },
     "metadata": {},
     "output_type": "display_data"
    },
    {
     "ename": "KeyboardInterrupt",
     "evalue": "",
     "output_type": "error",
     "traceback": [
      "\u001b[0;31m---------------------------------------------------------------------------\u001b[0m",
      "\u001b[0;31mKeyboardInterrupt\u001b[0m                         Traceback (most recent call last)",
      "\u001b[0;32m<ipython-input-12-4910afb0ec1a>\u001b[0m in \u001b[0;36m<module>\u001b[0;34m()\u001b[0m\n\u001b[1;32m      9\u001b[0m     \u001b[0mptb_train\u001b[0m\u001b[0;34m.\u001b[0m\u001b[0mshuffle\u001b[0m\u001b[0;34m(\u001b[0m\u001b[0;34m)\u001b[0m\u001b[0;34m\u001b[0m\u001b[0m\n\u001b[1;32m     10\u001b[0m     \u001b[0;32mfor\u001b[0m \u001b[0mbatch_idx\u001b[0m \u001b[0;32min\u001b[0m \u001b[0mirange\u001b[0m\u001b[0;34m(\u001b[0m\u001b[0mptb_train\u001b[0m\u001b[0;34m.\u001b[0m\u001b[0mnum_batch\u001b[0m\u001b[0;34m)\u001b[0m\u001b[0;34m:\u001b[0m\u001b[0;34m\u001b[0m\u001b[0m\n\u001b[0;32m---> 11\u001b[0;31m         \u001b[0mdata\u001b[0m\u001b[0;34m,\u001b[0m \u001b[0mlengths\u001b[0m\u001b[0;34m,\u001b[0m \u001b[0mtarget\u001b[0m \u001b[0;34m=\u001b[0m \u001b[0mptb_train\u001b[0m\u001b[0;34m.\u001b[0m\u001b[0mget_batch\u001b[0m\u001b[0;34m(\u001b[0m\u001b[0mbatch_idx\u001b[0m\u001b[0;34m)\u001b[0m\u001b[0;34m\u001b[0m\u001b[0m\n\u001b[0m\u001b[1;32m     12\u001b[0m         \u001b[0mopt\u001b[0m\u001b[0;34m.\u001b[0m\u001b[0mzero_grad\u001b[0m\u001b[0;34m(\u001b[0m\u001b[0;34m)\u001b[0m\u001b[0;34m\u001b[0m\u001b[0m\n\u001b[1;32m     13\u001b[0m         \u001b[0moutput\u001b[0m\u001b[0;34m,\u001b[0m \u001b[0mself_attn\u001b[0m \u001b[0;34m=\u001b[0m \u001b[0mmodel\u001b[0m\u001b[0;34m.\u001b[0m\u001b[0mforward\u001b[0m\u001b[0;34m(\u001b[0m\u001b[0mdata\u001b[0m\u001b[0;34m,\u001b[0m \u001b[0mlengths\u001b[0m\u001b[0;34m)\u001b[0m\u001b[0;34m\u001b[0m\u001b[0m\n",
      "\u001b[0;32m/workspace/DL/mix-attend-break-sticks/data.py\u001b[0m in \u001b[0;36mget_batch\u001b[0;34m(self, batch_idx)\u001b[0m\n\u001b[1;32m    226\u001b[0m \u001b[0;34m\u001b[0m\u001b[0m\n\u001b[1;32m    227\u001b[0m             \u001b[0mbatch\u001b[0m\u001b[0;34m[\u001b[0m\u001b[0mi\u001b[0m\u001b[0;34m,\u001b[0m \u001b[0;34m:\u001b[0m\u001b[0mlen_\u001b[0m\u001b[0;34m-\u001b[0m\u001b[0;36m1\u001b[0m\u001b[0;34m]\u001b[0m\u001b[0;34m.\u001b[0m\u001b[0mcopy_\u001b[0m\u001b[0;34m(\u001b[0m\u001b[0mtorch\u001b[0m\u001b[0;34m.\u001b[0m\u001b[0mtensor\u001b[0m\u001b[0;34m(\u001b[0m\u001b[0mself\u001b[0m\u001b[0;34m.\u001b[0m\u001b[0msentence\u001b[0m\u001b[0;34m[\u001b[0m\u001b[0msequence_idx\u001b[0m\u001b[0;34m]\u001b[0m\u001b[0;34m[\u001b[0m\u001b[0;34m:\u001b[0m\u001b[0mlen_\u001b[0m\u001b[0;34m-\u001b[0m\u001b[0;36m1\u001b[0m\u001b[0;34m]\u001b[0m\u001b[0;34m,\u001b[0m \u001b[0mdtype\u001b[0m\u001b[0;34m=\u001b[0m\u001b[0mtorch\u001b[0m\u001b[0;34m.\u001b[0m\u001b[0mlong\u001b[0m\u001b[0;34m,\u001b[0m \u001b[0mdevice\u001b[0m\u001b[0;34m=\u001b[0m\u001b[0mdevice\u001b[0m\u001b[0;34m)\u001b[0m\u001b[0;34m)\u001b[0m\u001b[0;34m\u001b[0m\u001b[0m\n\u001b[0;32m--> 228\u001b[0;31m             \u001b[0mtarget\u001b[0m\u001b[0;34m[\u001b[0m\u001b[0mi\u001b[0m\u001b[0;34m,\u001b[0m \u001b[0;34m:\u001b[0m\u001b[0mlen_\u001b[0m\u001b[0;34m-\u001b[0m\u001b[0;36m1\u001b[0m\u001b[0;34m]\u001b[0m\u001b[0;34m.\u001b[0m\u001b[0mcopy_\u001b[0m\u001b[0;34m(\u001b[0m\u001b[0mtorch\u001b[0m\u001b[0;34m.\u001b[0m\u001b[0mtensor\u001b[0m\u001b[0;34m(\u001b[0m\u001b[0mself\u001b[0m\u001b[0;34m.\u001b[0m\u001b[0msentence\u001b[0m\u001b[0;34m[\u001b[0m\u001b[0msequence_idx\u001b[0m\u001b[0;34m]\u001b[0m\u001b[0;34m[\u001b[0m\u001b[0;36m1\u001b[0m\u001b[0;34m:\u001b[0m\u001b[0mlen_\u001b[0m\u001b[0;34m]\u001b[0m\u001b[0;34m,\u001b[0m \u001b[0mdtype\u001b[0m\u001b[0;34m=\u001b[0m\u001b[0mtorch\u001b[0m\u001b[0;34m.\u001b[0m\u001b[0mlong\u001b[0m\u001b[0;34m,\u001b[0m \u001b[0mdevice\u001b[0m\u001b[0;34m=\u001b[0m\u001b[0mdevice\u001b[0m\u001b[0;34m)\u001b[0m\u001b[0;34m)\u001b[0m\u001b[0;34m\u001b[0m\u001b[0m\n\u001b[0m\u001b[1;32m    229\u001b[0m \u001b[0;34m\u001b[0m\u001b[0m\n\u001b[1;32m    230\u001b[0m         \u001b[0mbatch_lengths\u001b[0m \u001b[0;34m=\u001b[0m \u001b[0mtorch\u001b[0m\u001b[0;34m.\u001b[0m\u001b[0mtensor\u001b[0m\u001b[0;34m(\u001b[0m\u001b[0;34m[\u001b[0m\u001b[0mx\u001b[0m\u001b[0;34m[\u001b[0m\u001b[0;36m1\u001b[0m\u001b[0;34m]\u001b[0m \u001b[0;32mfor\u001b[0m \u001b[0mx\u001b[0m \u001b[0;32min\u001b[0m \u001b[0msorted_lengths\u001b[0m\u001b[0;34m]\u001b[0m\u001b[0;34m,\u001b[0m \u001b[0mdevice\u001b[0m\u001b[0;34m=\u001b[0m\u001b[0mdevice\u001b[0m\u001b[0;34m)\u001b[0m\u001b[0;34m\u001b[0m\u001b[0m\n",
      "\u001b[0;31mKeyboardInterrupt\u001b[0m: "
     ]
    }
   ],
   "source": [
    "opt = optim.Adam(model.trainable_params(),betas=(0.9, 0.98), eps=1e-09, lr=lr)\n",
    "i=0\n",
    "for epoch in irange(n_epochs):\n",
    "    #lrsched.step()\n",
    "    acc_loss = 0\n",
    "    print('Start epoch %d, learning rate %f '%(epoch + 1, opt.state_dict()['param_groups'][0]['lr']))\n",
    "    start_time = time.time()\n",
    "    model.train()\n",
    "    ptb_train.shuffle()\n",
    "    for batch_idx in irange(ptb_train.num_batch):\n",
    "        data, lengths, target = ptb_train.get_batch(batch_idx)\n",
    "        opt.zero_grad()\n",
    "        output, self_attn = model.forward(data, lengths)\n",
    "\n",
    "        loss = criterion(output, target.view(-1))\n",
    "        loss.backward()\n",
    "        opt.step()\n",
    "        acc_loss += loss.item()\n",
    "        i+=1\n",
    "        new_lr = np.power(emb_dim, -0.5) * np.min([\n",
    "            np.power((i), -0.5),\n",
    "            np.power(warmup_steps, -1.5) * (i)])\n",
    "        for param_group in opt.param_groups:\n",
    "            param_group['lr'] = new_lr\n",
    "        \n",
    "    avg_loss = acc_loss / ptb_train.num_batch\n",
    "    print('Epoch : %d, Batch : %d / %d, Loss : %f, Perplexity : %f, Time : %f' \n",
    "          % (epoch + 1, batch_idx, ptb_train.num_batch,\n",
    "             avg_loss, math.exp(avg_loss),\n",
    "             time.time() - start_time))\n",
    "\n",
    "    acc_loss = 0\n",
    "    model.eval()\n",
    "    for batch_idx in irange(ptb_test.num_batch):\n",
    "        data, lengths, target = ptb_test[batch_idx]\n",
    "        output, self_attn = model.forward(data, lengths)\n",
    "        loss = criterion(output, target.view(-1))\n",
    "        acc_loss += loss.item()\n",
    "\n",
    "    val_loss = acc_loss / ptb_test.num_batch\n",
    "    print('Validation Loss : %f' % val_loss)\n",
    "    print('Validation Perplexity : %f' % math.exp(val_loss))"
   ]
  },
  {
   "cell_type": "code",
   "execution_count": null,
   "metadata": {},
   "outputs": [],
   "source": []
  }
 ],
 "metadata": {
  "kernelspec": {
   "display_name": "Python 3",
   "language": "python",
   "name": "python3"
  },
  "language_info": {
   "codemirror_mode": {
    "name": "ipython",
    "version": 3
   },
   "file_extension": ".py",
   "mimetype": "text/x-python",
   "name": "python",
   "nbconvert_exporter": "python",
   "pygments_lexer": "ipython3",
   "version": "3.6.4"
  }
 },
 "nbformat": 4,
 "nbformat_minor": 2
}
