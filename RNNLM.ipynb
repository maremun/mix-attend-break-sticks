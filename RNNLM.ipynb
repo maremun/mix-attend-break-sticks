{
 "cells": [
  {
   "cell_type": "markdown",
   "metadata": {},
   "source": [
    "# Simple LSTM/GRU language modelling"
   ]
  },
  {
   "cell_type": "markdown",
   "metadata": {},
   "source": [
    "Revised and fixed code from https://github.com/SudaMonster/lstm-language-model."
   ]
  },
  {
   "cell_type": "markdown",
   "metadata": {},
   "source": [
    "NB we pack examples sentence wise unlike many other models that do not account for periods."
   ]
  },
  {
   "cell_type": "markdown",
   "metadata": {},
   "source": [
    "Possible improvements: pack similar length sentences into batches to reduce the number of padding tokens."
   ]
  },
  {
   "cell_type": "markdown",
   "metadata": {},
   "source": [
    "Also note that we tie the input and output weights (https://arxiv.org/abs/1608.05859)"
   ]
  },
  {
   "cell_type": "markdown",
   "metadata": {},
   "source": [
    "Essentially this is a playground to familiarize oneself with language modelling."
   ]
  },
  {
   "cell_type": "code",
   "execution_count": 1,
   "metadata": {},
   "outputs": [],
   "source": [
    "import numpy as np\n",
    "import matplotlib.pyplot as plt\n",
    "%matplotlib inline\n",
    "from tqdm import tqdm\n",
    "\n",
    "import torch\n",
    "import torch.nn as nn\n",
    "import torch.optim as optim\n",
    "\n",
    "from torch.nn.utils import clip_grad_norm_ as clip\n",
    "from torch.optim.lr_scheduler import StepLR\n",
    "\n",
    "import const\n",
    "from data import *\n",
    "from rnn import *"
   ]
  },
  {
   "cell_type": "code",
   "execution_count": 2,
   "metadata": {},
   "outputs": [
    {
     "name": "stdout",
     "output_type": "stream",
     "text": [
      "=========================================================================================\n",
      "Loading data from data/penn/train.txt ...\n",
      "=========================================================================================\n",
      "Loading data from data/penn/valid.txt ...\n",
      "=========================================================================================\n",
      "Loading data from data/penn/test.txt ...\n"
     ]
    }
   ],
   "source": [
    "ptb_datapath_train = 'data/penn/train.txt'\n",
    "ptb_datapath_valid = 'data/penn/valid.txt'\n",
    "ptb_datapath_test = 'data/penn/test.txt'\n",
    "\n",
    "batch_size = 128\n",
    "\n",
    "ptb_train = DataSet(ptb_datapath_train, batch_size, display_freq=0, max_len=90, trunc_len=90)\n",
    "ptb_valid = DataSet(ptb_datapath_valid, batch_size, display_freq=0, max_len=90, trunc_len=90)\n",
    "ptb_test = DataSet(ptb_datapath_test, batch_size, display_freq=0, max_len=90, trunc_len=90)"
   ]
  },
  {
   "cell_type": "code",
   "execution_count": 3,
   "metadata": {},
   "outputs": [
    {
     "name": "stdout",
     "output_type": "stream",
     "text": [
      "Building dictionary...\n",
      "Done.\n",
      "Save dictionary at data/penn/train.txt.dict\n",
      "Index tokens ...\n",
      "42068 sentences were processed, 0 longer than maximum length,0 were ignored because zero length\n",
      "=========================================================================================\n",
      "Data discription:\n",
      "Data name : data/penn/train.txt\n",
      "Number of sentence : 42068\n",
      "Number of tokens : 887521\n",
      "Vocabulary size : 10000\n",
      "Number of batches : 328\n",
      "Batch size : 128\n",
      "Done.\n",
      "Index tokens ...\n",
      "3370 sentences were processed, 0 longer than maximum length,0 were ignored because zero length\n",
      "=========================================================================================\n",
      "Data discription:\n",
      "Data name : data/penn/valid.txt\n",
      "Number of sentence : 3370\n",
      "Number of tokens : 70390\n",
      "Vocabulary size : 10000\n",
      "Number of batches : 26\n",
      "Batch size : 128\n",
      "Done.\n",
      "Index tokens ...\n",
      "3761 sentences were processed, 0 longer than maximum length,0 were ignored because zero length\n",
      "=========================================================================================\n",
      "Data discription:\n",
      "Data name : data/penn/test.txt\n",
      "Number of sentence : 3761\n",
      "Number of tokens : 78669\n",
      "Vocabulary size : 10000\n",
      "Number of batches : 29\n",
      "Batch size : 128\n",
      "Done.\n"
     ]
    }
   ],
   "source": [
    "ptb_train.build_dict()\n",
    "ptb_valid.change_dict(ptb_train.dictionary)\n",
    "ptb_test.change_dict(ptb_train.dictionary)"
   ]
  },
  {
   "cell_type": "code",
   "execution_count": 4,
   "metadata": {},
   "outputs": [],
   "source": [
    "# Plot sentence length histogram\n",
    "# ss = []\n",
    "# for s in ptb_train.sentence:\n",
    "#     ss.append(len(s))\n",
    "# ss = np.array(ss)\n",
    "\n",
    "# hist = np.histogram(ss)\n",
    "# plt.hist(ss, bins=100)"
   ]
  },
  {
   "cell_type": "code",
   "execution_count": 5,
   "metadata": {},
   "outputs": [],
   "source": [
    "rnn_type = 'LSTM'\n",
    "voc_size = ptb_train.num_vocb\n",
    "emb_dim = 512\n",
    "hid_dim = 512\n",
    "n_layers = 3\n",
    "\n",
    "lr = 1e-3\n",
    "n_epochs = 30\n",
    "clip_grad = 5"
   ]
  },
  {
   "cell_type": "code",
   "execution_count": 6,
   "metadata": {},
   "outputs": [],
   "source": [
    "model = rnn_model(rnn_type, voc_size, emb_dim, hid_dim, n_layers, tie_weights=True)\n",
    "criterion = nn.CrossEntropyLoss(ignore_index=const.PAD)\n",
    "\n",
    "if torch.cuda.is_available():\n",
    "    model = model.cuda()\n",
    "    criterion = criterion.cuda()\n",
    "\n",
    "opt = optim.Adam(model.parameters(), lr=lr)\n",
    "# lr_lambda = lambda epoch: 0.99 ** epoch\n",
    "lrsched = StepLR(opt, step_size=10, gamma=0.5)"
   ]
  },
  {
   "cell_type": "code",
   "execution_count": 7,
   "metadata": {},
   "outputs": [
    {
     "name": "stderr",
     "output_type": "stream",
     "text": [
      "  0%|          | 1/328 [00:00<00:45,  7.20batches/s]"
     ]
    },
    {
     "name": "stdout",
     "output_type": "stream",
     "text": [
      "Start epoch 1, learning rate 0.001000 \n",
      "2\n"
     ]
    },
    {
     "name": "stderr",
     "output_type": "stream",
     "text": [
      "100%|██████████| 328/328 [00:30<00:00, 10.68batches/s]\n",
      " 10%|█         | 3/29 [00:00<00:00, 29.04batches/s]"
     ]
    },
    {
     "name": "stdout",
     "output_type": "stream",
     "text": [
      "Epoch : 1, Batch : 327 / 328, Loss : 6.395267, Perplexity : 599.003170, Time : 30.777261\n"
     ]
    },
    {
     "name": "stderr",
     "output_type": "stream",
     "text": [
      "100%|██████████| 29/29 [00:00<00:00, 30.68batches/s]\n",
      "  0%|          | 0/328 [00:00<?, ?batches/s]"
     ]
    },
    {
     "name": "stdout",
     "output_type": "stream",
     "text": [
      "Validation Loss : 5.789270\n",
      "Validation Perplexity : 326.774518\n",
      "Start epoch 2, learning rate 0.001000 \n",
      "2\n"
     ]
    },
    {
     "name": "stderr",
     "output_type": "stream",
     "text": [
      "100%|██████████| 328/328 [00:31<00:00, 10.55batches/s]\n",
      " 10%|█         | 3/29 [00:00<00:00, 29.70batches/s]"
     ]
    },
    {
     "name": "stdout",
     "output_type": "stream",
     "text": [
      "Epoch : 2, Batch : 327 / 328, Loss : 5.642224, Perplexity : 282.089434, Time : 31.139646\n"
     ]
    },
    {
     "name": "stderr",
     "output_type": "stream",
     "text": [
      "100%|██████████| 29/29 [00:00<00:00, 31.86batches/s]\n",
      "  0%|          | 0/328 [00:00<?, ?batches/s]"
     ]
    },
    {
     "name": "stdout",
     "output_type": "stream",
     "text": [
      "Validation Loss : 5.365528\n",
      "Validation Perplexity : 213.904081\n",
      "Start epoch 3, learning rate 0.001000 \n",
      "2\n"
     ]
    },
    {
     "name": "stderr",
     "output_type": "stream",
     "text": [
      "100%|██████████| 328/328 [00:31<00:00, 10.52batches/s]\n",
      " 14%|█▍        | 4/29 [00:00<00:00, 32.71batches/s]"
     ]
    },
    {
     "name": "stdout",
     "output_type": "stream",
     "text": [
      "Epoch : 3, Batch : 327 / 328, Loss : 5.306388, Perplexity : 201.620592, Time : 31.251887\n"
     ]
    },
    {
     "name": "stderr",
     "output_type": "stream",
     "text": [
      "100%|██████████| 29/29 [00:00<00:00, 32.21batches/s]\n",
      "  1%|          | 2/328 [00:00<00:29, 10.93batches/s]"
     ]
    },
    {
     "name": "stdout",
     "output_type": "stream",
     "text": [
      "Validation Loss : 5.144202\n",
      "Validation Perplexity : 171.434651\n",
      "Start epoch 4, learning rate 0.001000 \n",
      "2\n"
     ]
    },
    {
     "name": "stderr",
     "output_type": "stream",
     "text": [
      "100%|██████████| 328/328 [00:31<00:00, 10.38batches/s]\n",
      " 14%|█▍        | 4/29 [00:00<00:00, 30.66batches/s]"
     ]
    },
    {
     "name": "stdout",
     "output_type": "stream",
     "text": [
      "Epoch : 4, Batch : 327 / 328, Loss : 5.092792, Perplexity : 162.843856, Time : 31.640079\n"
     ]
    },
    {
     "name": "stderr",
     "output_type": "stream",
     "text": [
      "100%|██████████| 29/29 [00:00<00:00, 30.99batches/s]\n",
      "  1%|          | 2/328 [00:00<00:29, 10.96batches/s]"
     ]
    },
    {
     "name": "stdout",
     "output_type": "stream",
     "text": [
      "Validation Loss : 5.006068\n",
      "Validation Perplexity : 149.316473\n",
      "Start epoch 5, learning rate 0.001000 \n",
      "2\n"
     ]
    },
    {
     "name": "stderr",
     "output_type": "stream",
     "text": [
      "100%|██████████| 328/328 [00:31<00:00, 10.53batches/s]\n",
      " 10%|█         | 3/29 [00:00<00:00, 29.11batches/s]"
     ]
    },
    {
     "name": "stdout",
     "output_type": "stream",
     "text": [
      "Epoch : 5, Batch : 327 / 328, Loss : 4.932322, Perplexity : 138.701269, Time : 31.199519\n"
     ]
    },
    {
     "name": "stderr",
     "output_type": "stream",
     "text": [
      "100%|██████████| 29/29 [00:00<00:00, 31.46batches/s]\n",
      "  0%|          | 1/328 [00:00<00:32,  9.92batches/s]"
     ]
    },
    {
     "name": "stdout",
     "output_type": "stream",
     "text": [
      "Validation Loss : 4.908475\n",
      "Validation Perplexity : 135.432778\n",
      "Start epoch 6, learning rate 0.001000 \n",
      "2\n"
     ]
    },
    {
     "name": "stderr",
     "output_type": "stream",
     "text": [
      "100%|██████████| 328/328 [00:31<00:00, 10.52batches/s]\n",
      " 10%|█         | 3/29 [00:00<00:00, 26.47batches/s]"
     ]
    },
    {
     "name": "stdout",
     "output_type": "stream",
     "text": [
      "Epoch : 6, Batch : 327 / 328, Loss : 4.803298, Perplexity : 121.911761, Time : 31.213892\n"
     ]
    },
    {
     "name": "stderr",
     "output_type": "stream",
     "text": [
      "100%|██████████| 29/29 [00:00<00:00, 31.66batches/s]\n",
      "  1%|          | 2/328 [00:00<00:28, 11.58batches/s]"
     ]
    },
    {
     "name": "stdout",
     "output_type": "stream",
     "text": [
      "Validation Loss : 4.833810\n",
      "Validation Perplexity : 125.688974\n",
      "Start epoch 7, learning rate 0.001000 \n",
      "2\n"
     ]
    },
    {
     "name": "stderr",
     "output_type": "stream",
     "text": [
      "100%|██████████| 328/328 [00:31<00:00, 10.52batches/s]\n",
      " 10%|█         | 3/29 [00:00<00:00, 29.48batches/s]"
     ]
    },
    {
     "name": "stdout",
     "output_type": "stream",
     "text": [
      "Epoch : 7, Batch : 327 / 328, Loss : 4.695808, Perplexity : 109.487201, Time : 31.232909\n"
     ]
    },
    {
     "name": "stderr",
     "output_type": "stream",
     "text": [
      "100%|██████████| 29/29 [00:00<00:00, 30.33batches/s]\n",
      "  0%|          | 1/328 [00:00<00:36,  8.91batches/s]"
     ]
    },
    {
     "name": "stdout",
     "output_type": "stream",
     "text": [
      "Validation Loss : 4.783526\n",
      "Validation Perplexity : 119.525005\n",
      "Start epoch 8, learning rate 0.001000 \n",
      "2\n"
     ]
    },
    {
     "name": "stderr",
     "output_type": "stream",
     "text": [
      "100%|██████████| 328/328 [00:31<00:00, 10.46batches/s]\n",
      " 10%|█         | 3/29 [00:00<00:00, 29.47batches/s]"
     ]
    },
    {
     "name": "stdout",
     "output_type": "stream",
     "text": [
      "Epoch : 8, Batch : 327 / 328, Loss : 4.598695, Perplexity : 99.354541, Time : 31.406680\n"
     ]
    },
    {
     "name": "stderr",
     "output_type": "stream",
     "text": [
      "100%|██████████| 29/29 [00:00<00:00, 29.92batches/s]\n",
      "  1%|          | 2/328 [00:00<00:28, 11.53batches/s]"
     ]
    },
    {
     "name": "stdout",
     "output_type": "stream",
     "text": [
      "Validation Loss : 4.737699\n",
      "Validation Perplexity : 114.171167\n",
      "Start epoch 9, learning rate 0.001000 \n",
      "2\n"
     ]
    },
    {
     "name": "stderr",
     "output_type": "stream",
     "text": [
      "100%|██████████| 328/328 [00:31<00:00, 10.50batches/s]\n",
      " 14%|█▍        | 4/29 [00:00<00:00, 31.66batches/s]"
     ]
    },
    {
     "name": "stdout",
     "output_type": "stream",
     "text": [
      "Epoch : 9, Batch : 327 / 328, Loss : 4.514423, Perplexity : 91.324857, Time : 31.300902\n"
     ]
    },
    {
     "name": "stderr",
     "output_type": "stream",
     "text": [
      "100%|██████████| 29/29 [00:00<00:00, 30.89batches/s]\n",
      "  1%|          | 2/328 [00:00<00:26, 12.33batches/s]"
     ]
    },
    {
     "name": "stdout",
     "output_type": "stream",
     "text": [
      "Validation Loss : 4.710345\n",
      "Validation Perplexity : 111.090494\n",
      "Start epoch 10, learning rate 0.001000 \n",
      "2\n"
     ]
    },
    {
     "name": "stderr",
     "output_type": "stream",
     "text": [
      "100%|██████████| 328/328 [00:31<00:00, 10.54batches/s]\n",
      " 10%|█         | 3/29 [00:00<00:00, 26.58batches/s]"
     ]
    },
    {
     "name": "stdout",
     "output_type": "stream",
     "text": [
      "Epoch : 10, Batch : 327 / 328, Loss : 4.438671, Perplexity : 84.662379, Time : 31.170156\n"
     ]
    },
    {
     "name": "stderr",
     "output_type": "stream",
     "text": [
      "100%|██████████| 29/29 [00:00<00:00, 30.81batches/s]\n",
      "  1%|          | 2/328 [00:00<00:29, 11.20batches/s]"
     ]
    },
    {
     "name": "stdout",
     "output_type": "stream",
     "text": [
      "Validation Loss : 4.682787\n",
      "Validation Perplexity : 108.070852\n",
      "Start epoch 11, learning rate 0.000500 \n",
      "2\n"
     ]
    },
    {
     "name": "stderr",
     "output_type": "stream",
     "text": [
      "100%|██████████| 328/328 [00:31<00:00, 10.53batches/s]\n",
      " 14%|█▍        | 4/29 [00:00<00:00, 31.85batches/s]"
     ]
    },
    {
     "name": "stdout",
     "output_type": "stream",
     "text": [
      "Epoch : 11, Batch : 327 / 328, Loss : 4.327469, Perplexity : 75.752315, Time : 31.194883\n"
     ]
    },
    {
     "name": "stderr",
     "output_type": "stream",
     "text": [
      "100%|██████████| 29/29 [00:00<00:00, 32.17batches/s]\n",
      "  1%|          | 2/328 [00:00<00:31, 10.31batches/s]"
     ]
    },
    {
     "name": "stdout",
     "output_type": "stream",
     "text": [
      "Validation Loss : 4.660024\n",
      "Validation Perplexity : 105.638585\n",
      "Start epoch 12, learning rate 0.000500 \n",
      "2\n"
     ]
    },
    {
     "name": "stderr",
     "output_type": "stream",
     "text": [
      "100%|██████████| 328/328 [00:31<00:00, 10.44batches/s]\n",
      " 14%|█▍        | 4/29 [00:00<00:00, 31.76batches/s]"
     ]
    },
    {
     "name": "stdout",
     "output_type": "stream",
     "text": [
      "Epoch : 12, Batch : 327 / 328, Loss : 4.280667, Perplexity : 72.288642, Time : 31.461761\n"
     ]
    },
    {
     "name": "stderr",
     "output_type": "stream",
     "text": [
      "100%|██████████| 29/29 [00:00<00:00, 31.20batches/s]\n",
      "  0%|          | 0/328 [00:00<?, ?batches/s]"
     ]
    },
    {
     "name": "stdout",
     "output_type": "stream",
     "text": [
      "Validation Loss : 4.653208\n",
      "Validation Perplexity : 104.921055\n",
      "Start epoch 13, learning rate 0.000500 \n",
      "2\n"
     ]
    },
    {
     "name": "stderr",
     "output_type": "stream",
     "text": [
      "100%|██████████| 328/328 [00:31<00:00, 10.56batches/s]\n",
      " 14%|█▍        | 4/29 [00:00<00:00, 31.05batches/s]"
     ]
    },
    {
     "name": "stdout",
     "output_type": "stream",
     "text": [
      "Epoch : 13, Batch : 327 / 328, Loss : 4.243794, Perplexity : 69.671656, Time : 31.156370\n"
     ]
    },
    {
     "name": "stderr",
     "output_type": "stream",
     "text": [
      "100%|██████████| 29/29 [00:00<00:00, 30.48batches/s]\n",
      "  0%|          | 1/328 [00:00<00:34,  9.52batches/s]"
     ]
    },
    {
     "name": "stdout",
     "output_type": "stream",
     "text": [
      "Validation Loss : 4.644167\n",
      "Validation Perplexity : 103.976703\n",
      "Start epoch 14, learning rate 0.000500 \n",
      "2\n"
     ]
    },
    {
     "name": "stderr",
     "output_type": "stream",
     "text": [
      "100%|██████████| 328/328 [00:31<00:00, 10.57batches/s]\n",
      " 14%|█▍        | 4/29 [00:00<00:00, 32.21batches/s]"
     ]
    },
    {
     "name": "stdout",
     "output_type": "stream",
     "text": [
      "Epoch : 14, Batch : 327 / 328, Loss : 4.209471, Perplexity : 67.320885, Time : 31.079974\n"
     ]
    },
    {
     "name": "stderr",
     "output_type": "stream",
     "text": [
      "100%|██████████| 29/29 [00:00<00:00, 31.37batches/s]\n",
      "  0%|          | 1/328 [00:00<00:36,  9.01batches/s]"
     ]
    },
    {
     "name": "stdout",
     "output_type": "stream",
     "text": [
      "Validation Loss : 4.641936\n",
      "Validation Perplexity : 103.744957\n",
      "Start epoch 15, learning rate 0.000500 \n",
      "2\n"
     ]
    },
    {
     "name": "stderr",
     "output_type": "stream",
     "text": [
      "100%|██████████| 328/328 [00:31<00:00, 10.57batches/s]\n",
      " 10%|█         | 3/29 [00:00<00:01, 25.35batches/s]"
     ]
    },
    {
     "name": "stdout",
     "output_type": "stream",
     "text": [
      "Epoch : 15, Batch : 327 / 328, Loss : 4.175868, Perplexity : 65.096320, Time : 31.090578\n"
     ]
    },
    {
     "name": "stderr",
     "output_type": "stream",
     "text": [
      "100%|██████████| 29/29 [00:00<00:00, 31.31batches/s]\n",
      "  1%|          | 2/328 [00:00<00:28, 11.43batches/s]"
     ]
    },
    {
     "name": "stdout",
     "output_type": "stream",
     "text": [
      "Validation Loss : 4.636537\n",
      "Validation Perplexity : 103.186351\n",
      "Start epoch 16, learning rate 0.000500 \n",
      "2\n"
     ]
    },
    {
     "name": "stderr",
     "output_type": "stream",
     "text": [
      "100%|██████████| 328/328 [00:30<00:00, 10.59batches/s]\n",
      " 14%|█▍        | 4/29 [00:00<00:00, 31.51batches/s]"
     ]
    },
    {
     "name": "stdout",
     "output_type": "stream",
     "text": [
      "Epoch : 16, Batch : 327 / 328, Loss : 4.146063, Perplexity : 63.184722, Time : 31.006106\n"
     ]
    },
    {
     "name": "stderr",
     "output_type": "stream",
     "text": [
      "100%|██████████| 29/29 [00:00<00:00, 31.04batches/s]\n",
      "  1%|          | 2/328 [00:00<00:27, 11.83batches/s]"
     ]
    },
    {
     "name": "stdout",
     "output_type": "stream",
     "text": [
      "Validation Loss : 4.634082\n",
      "Validation Perplexity : 102.933414\n",
      "Start epoch 17, learning rate 0.000500 \n",
      "2\n"
     ]
    },
    {
     "name": "stderr",
     "output_type": "stream",
     "text": [
      "100%|██████████| 328/328 [00:30<00:00, 10.61batches/s]\n",
      " 10%|█         | 3/29 [00:00<00:00, 28.20batches/s]"
     ]
    },
    {
     "name": "stdout",
     "output_type": "stream",
     "text": [
      "Epoch : 17, Batch : 327 / 328, Loss : 4.115440, Perplexity : 61.279180, Time : 30.950186\n"
     ]
    },
    {
     "name": "stderr",
     "output_type": "stream",
     "text": [
      "100%|██████████| 29/29 [00:00<00:00, 30.47batches/s]\n",
      "  1%|          | 2/328 [00:00<00:30, 10.84batches/s]"
     ]
    },
    {
     "name": "stdout",
     "output_type": "stream",
     "text": [
      "Validation Loss : 4.631405\n",
      "Validation Perplexity : 102.658238\n",
      "Start epoch 18, learning rate 0.000500 \n",
      "2\n"
     ]
    },
    {
     "name": "stderr",
     "output_type": "stream",
     "text": [
      "100%|██████████| 328/328 [00:31<00:00, 10.55batches/s]\n",
      " 14%|█▍        | 4/29 [00:00<00:00, 32.64batches/s]"
     ]
    },
    {
     "name": "stdout",
     "output_type": "stream",
     "text": [
      "Epoch : 18, Batch : 327 / 328, Loss : 4.086684, Perplexity : 59.542101, Time : 31.140421\n"
     ]
    },
    {
     "name": "stderr",
     "output_type": "stream",
     "text": [
      "100%|██████████| 29/29 [00:00<00:00, 31.88batches/s]\n",
      "  1%|          | 2/328 [00:00<00:29, 11.10batches/s]"
     ]
    },
    {
     "name": "stdout",
     "output_type": "stream",
     "text": [
      "Validation Loss : 4.630307\n",
      "Validation Perplexity : 102.545569\n",
      "Start epoch 19, learning rate 0.000500 \n",
      "2\n"
     ]
    },
    {
     "name": "stderr",
     "output_type": "stream",
     "text": [
      "100%|██████████| 328/328 [00:30<00:00, 10.62batches/s]\n",
      " 10%|█         | 3/29 [00:00<00:00, 27.12batches/s]"
     ]
    },
    {
     "name": "stdout",
     "output_type": "stream",
     "text": [
      "Epoch : 19, Batch : 327 / 328, Loss : 4.060201, Perplexity : 57.985989, Time : 30.939090\n"
     ]
    },
    {
     "name": "stderr",
     "output_type": "stream",
     "text": [
      "100%|██████████| 29/29 [00:00<00:00, 30.83batches/s]\n",
      "  1%|          | 2/328 [00:00<00:30, 10.69batches/s]"
     ]
    },
    {
     "name": "stdout",
     "output_type": "stream",
     "text": [
      "Validation Loss : 4.629208\n",
      "Validation Perplexity : 102.432876\n",
      "Start epoch 20, learning rate 0.000500 \n",
      "2\n"
     ]
    },
    {
     "name": "stderr",
     "output_type": "stream",
     "text": [
      "100%|██████████| 328/328 [00:30<00:00, 10.62batches/s]\n",
      " 14%|█▍        | 4/29 [00:00<00:00, 33.13batches/s]"
     ]
    },
    {
     "name": "stdout",
     "output_type": "stream",
     "text": [
      "Epoch : 20, Batch : 327 / 328, Loss : 4.033714, Perplexity : 56.470247, Time : 30.933452\n"
     ]
    },
    {
     "name": "stderr",
     "output_type": "stream",
     "text": [
      "100%|██████████| 29/29 [00:00<00:00, 31.14batches/s]\n",
      "  0%|          | 0/328 [00:00<?, ?batches/s]"
     ]
    },
    {
     "name": "stdout",
     "output_type": "stream",
     "text": [
      "Validation Loss : 4.627532\n",
      "Validation Perplexity : 102.261342\n",
      "Start epoch 21, learning rate 0.000250 \n",
      "2\n"
     ]
    },
    {
     "name": "stderr",
     "output_type": "stream",
     "text": [
      "100%|██████████| 328/328 [00:31<00:00, 10.56batches/s]\n",
      " 10%|█         | 3/29 [00:00<00:00, 26.04batches/s]"
     ]
    },
    {
     "name": "stdout",
     "output_type": "stream",
     "text": [
      "Epoch : 21, Batch : 327 / 328, Loss : 3.980738, Perplexity : 53.556534, Time : 31.103255\n"
     ]
    },
    {
     "name": "stderr",
     "output_type": "stream",
     "text": [
      "100%|██████████| 29/29 [00:00<00:00, 31.02batches/s]\n",
      "  1%|          | 2/328 [00:00<00:31, 10.51batches/s]"
     ]
    },
    {
     "name": "stdout",
     "output_type": "stream",
     "text": [
      "Validation Loss : 4.629087\n",
      "Validation Perplexity : 102.420475\n",
      "Start epoch 22, learning rate 0.000250 \n",
      "2\n"
     ]
    },
    {
     "name": "stderr",
     "output_type": "stream",
     "text": [
      "100%|██████████| 328/328 [00:31<00:00, 10.48batches/s]\n",
      " 14%|█▍        | 4/29 [00:00<00:00, 31.16batches/s]"
     ]
    },
    {
     "name": "stdout",
     "output_type": "stream",
     "text": [
      "Epoch : 22, Batch : 327 / 328, Loss : 3.961635, Perplexity : 52.543165, Time : 31.324435\n"
     ]
    },
    {
     "name": "stderr",
     "output_type": "stream",
     "text": [
      "100%|██████████| 29/29 [00:00<00:00, 32.00batches/s]\n",
      "  1%|          | 2/328 [00:00<00:29, 10.89batches/s]"
     ]
    },
    {
     "name": "stdout",
     "output_type": "stream",
     "text": [
      "Validation Loss : 4.629796\n",
      "Validation Perplexity : 102.493177\n",
      "Start epoch 23, learning rate 0.000250 \n",
      "2\n"
     ]
    },
    {
     "name": "stderr",
     "output_type": "stream",
     "text": [
      "100%|██████████| 328/328 [00:30<00:00, 10.66batches/s]\n",
      " 14%|█▍        | 4/29 [00:00<00:00, 32.20batches/s]"
     ]
    },
    {
     "name": "stdout",
     "output_type": "stream",
     "text": [
      "Epoch : 23, Batch : 327 / 328, Loss : 3.947563, Perplexity : 51.808978, Time : 30.803166\n"
     ]
    },
    {
     "name": "stderr",
     "output_type": "stream",
     "text": [
      "100%|██████████| 29/29 [00:00<00:00, 31.86batches/s]\n",
      "  1%|          | 2/328 [00:00<00:29, 11.08batches/s]"
     ]
    },
    {
     "name": "stdout",
     "output_type": "stream",
     "text": [
      "Validation Loss : 4.629463\n",
      "Validation Perplexity : 102.459003\n",
      "Start epoch 24, learning rate 0.000250 \n",
      "2\n"
     ]
    },
    {
     "name": "stderr",
     "output_type": "stream",
     "text": [
      "100%|██████████| 328/328 [00:30<00:00, 10.60batches/s]\n",
      " 14%|█▍        | 4/29 [00:00<00:00, 30.69batches/s]"
     ]
    },
    {
     "name": "stdout",
     "output_type": "stream",
     "text": [
      "Epoch : 24, Batch : 327 / 328, Loss : 3.933981, Perplexity : 51.110046, Time : 30.985489\n"
     ]
    },
    {
     "name": "stderr",
     "output_type": "stream",
     "text": [
      "100%|██████████| 29/29 [00:00<00:00, 31.42batches/s]\n",
      "  0%|          | 0/328 [00:00<?, ?batches/s]"
     ]
    },
    {
     "name": "stdout",
     "output_type": "stream",
     "text": [
      "Validation Loss : 4.628575\n",
      "Validation Perplexity : 102.368073\n",
      "Start epoch 25, learning rate 0.000250 \n",
      "2\n"
     ]
    },
    {
     "name": "stderr",
     "output_type": "stream",
     "text": [
      "100%|██████████| 328/328 [00:30<00:00, 10.84batches/s]\n",
      " 14%|█▍        | 4/29 [00:00<00:00, 32.29batches/s]"
     ]
    },
    {
     "name": "stdout",
     "output_type": "stream",
     "text": [
      "Epoch : 25, Batch : 327 / 328, Loss : 3.921142, Perplexity : 50.458054, Time : 30.289916\n"
     ]
    },
    {
     "name": "stderr",
     "output_type": "stream",
     "text": [
      "100%|██████████| 29/29 [00:00<00:00, 32.06batches/s]\n",
      "  1%|          | 2/328 [00:00<00:29, 11.15batches/s]"
     ]
    },
    {
     "name": "stdout",
     "output_type": "stream",
     "text": [
      "Validation Loss : 4.630227\n",
      "Validation Perplexity : 102.537326\n",
      "Start epoch 26, learning rate 0.000250 \n",
      "2\n"
     ]
    },
    {
     "name": "stderr",
     "output_type": "stream",
     "text": [
      "100%|██████████| 328/328 [00:30<00:00, 10.72batches/s]\n",
      " 10%|█         | 3/29 [00:00<00:01, 25.15batches/s]"
     ]
    },
    {
     "name": "stdout",
     "output_type": "stream",
     "text": [
      "Epoch : 26, Batch : 327 / 328, Loss : 3.907506, Perplexity : 49.774652, Time : 30.644748\n"
     ]
    },
    {
     "name": "stderr",
     "output_type": "stream",
     "text": [
      "100%|██████████| 29/29 [00:00<00:00, 30.38batches/s]\n",
      "  1%|          | 2/328 [00:00<00:30, 10.53batches/s]"
     ]
    },
    {
     "name": "stdout",
     "output_type": "stream",
     "text": [
      "Validation Loss : 4.629493\n",
      "Validation Perplexity : 102.462090\n",
      "Start epoch 27, learning rate 0.000250 \n",
      "2\n"
     ]
    },
    {
     "name": "stderr",
     "output_type": "stream",
     "text": [
      "100%|██████████| 328/328 [00:31<00:00, 10.56batches/s]\n",
      " 14%|█▍        | 4/29 [00:00<00:00, 32.30batches/s]"
     ]
    },
    {
     "name": "stdout",
     "output_type": "stream",
     "text": [
      "Epoch : 27, Batch : 327 / 328, Loss : 3.893612, Perplexity : 49.087895, Time : 31.097881\n"
     ]
    },
    {
     "name": "stderr",
     "output_type": "stream",
     "text": [
      "100%|██████████| 29/29 [00:00<00:00, 31.80batches/s]\n",
      "  1%|          | 2/328 [00:00<00:29, 11.06batches/s]"
     ]
    },
    {
     "name": "stdout",
     "output_type": "stream",
     "text": [
      "Validation Loss : 4.632801\n",
      "Validation Perplexity : 102.801575\n",
      "Start epoch 28, learning rate 0.000250 \n",
      "2\n"
     ]
    },
    {
     "name": "stderr",
     "output_type": "stream",
     "text": [
      "100%|██████████| 328/328 [00:30<00:00, 10.71batches/s]\n",
      " 10%|█         | 3/29 [00:00<00:00, 28.71batches/s]"
     ]
    },
    {
     "name": "stdout",
     "output_type": "stream",
     "text": [
      "Epoch : 28, Batch : 327 / 328, Loss : 3.881570, Perplexity : 48.500324, Time : 30.676496\n"
     ]
    },
    {
     "name": "stderr",
     "output_type": "stream",
     "text": [
      "100%|██████████| 29/29 [00:00<00:00, 31.38batches/s]\n",
      "  1%|          | 2/328 [00:00<00:29, 11.09batches/s]"
     ]
    },
    {
     "name": "stdout",
     "output_type": "stream",
     "text": [
      "Validation Loss : 4.634040\n",
      "Validation Perplexity : 102.929061\n",
      "Start epoch 29, learning rate 0.000250 \n",
      "2\n"
     ]
    },
    {
     "name": "stderr",
     "output_type": "stream",
     "text": [
      "100%|██████████| 328/328 [00:30<00:00, 10.62batches/s]\n",
      " 14%|█▍        | 4/29 [00:00<00:00, 32.34batches/s]"
     ]
    },
    {
     "name": "stdout",
     "output_type": "stream",
     "text": [
      "Epoch : 29, Batch : 327 / 328, Loss : 3.870295, Perplexity : 47.956543, Time : 30.929198\n"
     ]
    },
    {
     "name": "stderr",
     "output_type": "stream",
     "text": [
      "100%|██████████| 29/29 [00:00<00:00, 32.32batches/s]\n",
      "  1%|          | 2/328 [00:00<00:32, 10.08batches/s]"
     ]
    },
    {
     "name": "stdout",
     "output_type": "stream",
     "text": [
      "Validation Loss : 4.634754\n",
      "Validation Perplexity : 103.002540\n",
      "Start epoch 30, learning rate 0.000250 \n",
      "2\n"
     ]
    },
    {
     "name": "stderr",
     "output_type": "stream",
     "text": [
      "100%|██████████| 328/328 [00:30<00:00, 10.73batches/s]\n",
      " 10%|█         | 3/29 [00:00<00:00, 29.85batches/s]"
     ]
    },
    {
     "name": "stdout",
     "output_type": "stream",
     "text": [
      "Epoch : 30, Batch : 327 / 328, Loss : 3.858495, Perplexity : 47.393972, Time : 30.623644\n"
     ]
    },
    {
     "name": "stderr",
     "output_type": "stream",
     "text": [
      "100%|██████████| 29/29 [00:00<00:00, 31.04batches/s]"
     ]
    },
    {
     "name": "stdout",
     "output_type": "stream",
     "text": [
      "Validation Loss : 4.637422\n",
      "Validation Perplexity : 103.277793\n"
     ]
    },
    {
     "name": "stderr",
     "output_type": "stream",
     "text": [
      "\n"
     ]
    }
   ],
   "source": [
    "for epoch in range(n_epochs):\n",
    "    lrsched.step()\n",
    "    acc_loss = 0\n",
    "    print('Start epoch %d, learning rate %f '%(epoch + 1, opt.state_dict()['param_groups'][0]['lr']))\n",
    "    start_time = time.time()\n",
    "    model.train()\n",
    "    ptb_train.shuffle()\n",
    "    for batch_idx in tqdm(range(ptb_train.num_batch), unit='batches'):\n",
    "        data, lengths, target = ptb_train.get_batch(batch_idx)\n",
    "        \n",
    "        opt.zero_grad()\n",
    "        output_flat = model.forward(data, lengths)\n",
    "        loss = criterion(output_flat, target.view(-1))\n",
    "        loss.backward()\n",
    "        clip(model.parameters(), clip_grad)\n",
    "        opt.step()\n",
    "        acc_loss += loss.item()\n",
    "\n",
    "    avg_loss = acc_loss / ptb_train.num_batch\n",
    "    print('Epoch : %d, Batch : %d / %d, Loss : %f, Perplexity : %f, Time : %f' \n",
    "          % (epoch + 1, batch_idx, ptb_train.num_batch,\n",
    "             avg_loss, math.exp(avg_loss),\n",
    "             time.time() - start_time))\n",
    "\n",
    "    acc_loss = 0\n",
    "    model.eval()\n",
    "    for batch_idx in tqdm(range(ptb_test.num_batch), unit='batches'):\n",
    "        data, lengths, target = ptb_test[batch_idx]\n",
    "        output = model.forward(data, lengths)\n",
    "        loss = criterion(output, target.view(-1))\n",
    "        acc_loss += loss.item()\n",
    "\n",
    "    val_loss = acc_loss / ptb_test.num_batch\n",
    "    print('Validation Loss : %f' % val_loss)\n",
    "    print('Validation Perplexity : %f' % math.exp(val_loss))"
   ]
  },
  {
   "cell_type": "code",
   "execution_count": null,
   "metadata": {},
   "outputs": [],
   "source": []
  }
 ],
 "metadata": {
  "kernelspec": {
   "display_name": "Python 3",
   "language": "python",
   "name": "python3"
  },
  "language_info": {
   "codemirror_mode": {
    "name": "ipython",
    "version": 3
   },
   "file_extension": ".py",
   "mimetype": "text/x-python",
   "name": "python",
   "nbconvert_exporter": "python",
   "pygments_lexer": "ipython3",
   "version": "3.6.5"
  }
 },
 "nbformat": 4,
 "nbformat_minor": 2
}
